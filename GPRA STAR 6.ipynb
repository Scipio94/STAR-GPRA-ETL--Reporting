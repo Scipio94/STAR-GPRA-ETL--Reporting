{
 "cells": [
  {
   "cell_type": "markdown",
   "id": "2498c9fd",
   "metadata": {},
   "source": [
    "# GRPA Coding\n",
    "\n",
    "Goverment Perfromance and Results Act (GPRA) coding for intake data of recovery specialist for the Institure for Prevention and Recovery (IFPR) at RWJ Baranabas"
   ]
  },
  {
   "cell_type": "code",
   "execution_count": 1,
   "id": "7e487610",
   "metadata": {},
   "outputs": [],
   "source": [
    "#importing pandas\n",
    "import pandas as pd\n",
    "import numpy as np\n",
    "from datetime import datetime as dt"
   ]
  },
  {
   "cell_type": "code",
   "execution_count": null,
   "id": "e9ffe513",
   "metadata": {},
   "outputs": [],
   "source": [
    "# importing data and parsing datetime columns\n",
    "df = pd.read_csv(r\"\\\\cdchomedir01\\home1\\tyogarro\\Jan GPRA\\GPRA_Coding_File.csv\", parse_dates = ['ADMIT_DT','FORM_DTTM','FORM_UPDATE_DTTM'\n",
    "])\n",
    "\n",
    "#subsetting to include Peer Recovery Program episodes\n",
    "df = df[df['EPISODE'] =='IFPR - STAR Program'].sort_values(by = ['FORM_DTTM','MRN']) # <- sorting df"
   ]
  },
  {
   "cell_type": "code",
   "execution_count": 3,
   "id": "f67a6951",
   "metadata": {},
   "outputs": [],
   "source": [
    "#Renaming column to create ClientID\n",
    "df.rename(columns = {'CSN':'ClientID'}, inplace = True)\n",
    "df['ClientID'] = df['ClientID'].str.split(',').str[0]"
   ]
  },
  {
   "cell_type": "code",
   "execution_count": 4,
   "id": "e6157dac",
   "metadata": {},
   "outputs": [],
   "source": [
    "# function to return all values greater than 30 as 30 to be utilized for days columns\n",
    "def thirty(x):\n",
    "    if x > 30:\n",
    "        return 30 #-- returns value 30 if number greater than 30\n",
    "    else:\n",
    "        pass #-- will return same value if number not greater than 30"
   ]
  },
  {
   "cell_type": "markdown",
   "id": "967e6f6a",
   "metadata": {},
   "source": [
    "## Creating GPRA 6"
   ]
  },
  {
   "cell_type": "code",
   "execution_count": 5,
   "id": "37e52668",
   "metadata": {},
   "outputs": [],
   "source": [
    "# Creating function to create column FLWPClientContacted\n",
    "def FLWP_ClientContacted (x):\n",
    "    if x == 'Yes':\n",
    "        return 1\n",
    "    elif x == 'No':\n",
    "        return 0\n",
    "    else:\n",
    "        return 0\n",
    "    \n",
    "#Creating column FLWPClientContacted via applying the function FLWP_ClientContacted (x)\n",
    "df['FLWPClientContacted'] = df['CLIENT_ABLE_TO_BE_CONTACTED_FOR_FOLLOW_UP'].apply(lambda x:FLWP_ClientContacted (x))"
   ]
  },
  {
   "cell_type": "code",
   "execution_count": 6,
   "id": "b30e97d0",
   "metadata": {},
   "outputs": [],
   "source": [
    "#Creating function to create column ReceivingServices\n",
    "def Receiving_Services (x):\n",
    "    if x == 'Yes':\n",
    "        return 1\n",
    "    else:\n",
    "        return 0\n",
    "    \n",
    "#Creating column ReceivingServices via applying the function Receiving_Services (x)\n",
    "df['ReceivingServices'] = df['CLIENT_STILL_RECEIVING_PROGRAM_SERVICES'].apply(lambda x: Receiving_Services (x))"
   ]
  },
  {
   "cell_type": "code",
   "execution_count": 7,
   "id": "e06277a7",
   "metadata": {},
   "outputs": [],
   "source": [
    "#Creating dictionary to rename columns\n",
    "dictionary10 = {'FOLLOW_UP_STATUS_OF_CLIENT':'FLWPStatus','OTHER_FOLLOW_UP_STATUS':'FLWPStatusSpec',\n",
    "                'CLIENT_DISCHARGE_DATE':'DischargeDate','CLIENT_DISCHARGE_STATUS':'DischargeStatusCompl',\n",
    "                'REASON_FOR_TERMINATION':'DischargeStatusTermReason',\n",
    "                'OTHER_REASON_FOR_TERMINATION':'OtherDischargeStatTermRsnSpec',\n",
    "                'HIV_TEST_ORDERED_BY_PROGRAM':'jHIVTest','CLIENT_REFERRERD_FOR_HIV_TEST':'jHIVTestResult'}\n",
    "\n",
    "#Renaming columns\n",
    "df.rename(columns = dictionary10,inplace = True)\n",
    "\n",
    "#Creating variables to replace null values\n",
    "null_col10 = ['jHIVTest','jHIVTestResult']\n",
    "\n",
    "#Replacing null values with -9\n",
    "df[null_col10] = df[null_col10].fillna(-9)\n",
    "\n",
    "# Data Cleaning\n",
    "df['FLWPStatus'] = df['FLWPStatus'].str[:2]\n",
    "# df['FLWPStatusSpec'] = df['FLWPStatusSpec'].str.title()\n",
    "df['DischargeStatusCompl'] = df['DischargeStatusCompl'].str[1:2]\n",
    "df['DischargeStatusTermReason'] = df['DischargeStatusTermReason'].str[1:2]\n",
    "# df['OtherDischargeStatTermRsnSpec'] = df['OtherDischargeStatTermRsnSpec'].str.title()\n",
    "df['jHIVTest'] = df['jHIVTest'].replace('No',0)\n",
    "df['jHIVTestResult'] = df['jHIVTestResult'].replace('Yes',1)\n",
    "df['jHIVTestResult'] = df['jHIVTestResult'].replace('No',0)\n",
    "\n",
    "#Converting df['DischargeDate'] to datetime data type\n",
    "df['DischargeDate'] = pd.to_datetime(df['DischargeDate'])\n",
    "\n",
    "#C,overting to the mm/dd/yyyy format\n",
    "df['DischargeDate'] = df['DischargeDate'].dt.strftime('%m/%d/%Y')"
   ]
  },
  {
   "cell_type": "code",
   "execution_count": 8,
   "id": "97690665",
   "metadata": {},
   "outputs": [],
   "source": [
    "def FLWPStatus (row):\n",
    "    if row['FLWPClientContacted'] == 1:\n",
    "        return row['FLWPStatus']\n",
    "    elif row['FLWPClientContacted'] == 0:\n",
    "        return 32\n",
    "df['FLWPStatus'] = df.apply(FLWPStatus, axis = 1)"
   ]
  },
  {
   "cell_type": "code",
   "execution_count": 9,
   "id": "88feb463",
   "metadata": {},
   "outputs": [],
   "source": [
    "def FLWPStatusSpec (row):\n",
    "    if row['FLWPStatus'] == 32:\n",
    "        return 'None'\n",
    "    else:\n",
    "        pass\n",
    "    \n",
    "df['FLWPStatusSpec'] = df.apply(FLWPStatusSpec, axis = 1)"
   ]
  },
  {
   "cell_type": "code",
   "execution_count": 10,
   "id": "473a7515",
   "metadata": {},
   "outputs": [],
   "source": [
    "#Replacing null values with -9\n",
    "df['PROGRAM_PROVIDE_NALOXONE_OR_FENTANYL_TEST_STRIPS'] = df['PROGRAM_PROVIDE_NALOXONE_OR_FENTANYL_TEST_STRIPS'].fillna(-9)\n",
    "\n",
    "#Creating function to create column ODPreventionToolsProvided\n",
    "def ODPrevention_ToolsProvided (x):\n",
    "    if x == 'Neither':\n",
    "        return 4\n",
    "    elif x == 'Naloxone':\n",
    "        return 1\n",
    "    elif x == -9:\n",
    "        return -9\n",
    "    \n",
    "#Creating column ODPreventionToolsProvided via applying the function ODPrevention_ToolsProvided (x)\n",
    "df['ODPreventionToolsProvided'] = df['PROGRAM_PROVIDE_NALOXONE_OR_FENTANYL_TEST_STRIPS'].apply(lambda x: ODPrevention_ToolsProvided (x))"
   ]
  },
  {
   "cell_type": "code",
   "execution_count": 11,
   "id": "e4c1c945",
   "metadata": {},
   "outputs": [],
   "source": [
    "#Replacing null values with -9\n",
    "df['CLIENT_FULLY_VACCINATED_AGAINST_COVID-19'] = df['CLIENT_FULLY_VACCINATED_AGAINST_COVID-19'].fillna(-9)\n",
    "\n",
    "#Creating function to create column VaccinatedStatusCOVID19\n",
    "def Vaccinated_StatusCOVID19 (x):\n",
    "    if x == 'Yes':\n",
    "        return 1\n",
    "    elif x == 'Refused to answer':\n",
    "        return -7\n",
    "    elif x == 'No, client refused vaccination':\n",
    "        return 4\n",
    "    elif x == 'No, partially vaccinated with no plan to receive the subsequent vaccination':\n",
    "        return 3\n",
    "    elif x == -9:\n",
    "        return -9\n",
    "    \n",
    "#Creating column VaccinatedStatusCOVID19 via applying the function Vaccinated_StatusCOVID19 (x)\n",
    "df['VaccinatedStatusCOVID19'] = df['CLIENT_FULLY_VACCINATED_AGAINST_COVID-19'].apply(lambda x:Vaccinated_StatusCOVID19 (x))"
   ]
  },
  {
   "cell_type": "code",
   "execution_count": 12,
   "id": "b7776874",
   "metadata": {},
   "outputs": [],
   "source": [
    "#Creating column SvcInpatient\n",
    "df['SvcInpatient'] = 0\n",
    "\n",
    "#Creating column SvcOutpatient\n",
    "df['SvcOutpatient'] = 0\n"
   ]
  },
  {
   "cell_type": "code",
   "execution_count": 13,
   "id": "bac6a2fe",
   "metadata": {},
   "outputs": [],
   "source": [
    "#Creating columns in which no services were provided\n",
    "df['SvcMethadone'] = 0\n",
    "df['SvcBuprenorphine'] = 0\n",
    "df['SvcNaltrexoneShortActing'] = 0\n",
    "df['SvcNaltrexoneLongActing'] = 0\n",
    "df['SvcDisulfiram'] = 0\n",
    "df['SvcAcamprosate'] = 0\n",
    "df['SvcNicotineReplacement'] = 0\n",
    "df['SvcBupropion'] = 0\n",
    "df['SvcVarenicline'] = 0\n",
    "df['SvcResidentialRehab'] = 0\n",
    "df['SvcHospitalInpatient'] = 0\n",
    "df['SvcFreeStandingRes'] = 0\n",
    "df['SvcAmbulatoryDetox'] = 0\n",
    "df['SvcAfterCare'] = 0"
   ]
  },
  {
   "cell_type": "code",
   "execution_count": 14,
   "id": "3906aa9f",
   "metadata": {},
   "outputs": [],
   "source": [
    "#Creating columns with blank values\n",
    "df['SvcOtherModalities'] = 0\n",
    "df['SvcOtherModalitesSpec'] = \" \""
   ]
  },
  {
   "cell_type": "code",
   "execution_count": 15,
   "id": "58f04805",
   "metadata": {},
   "outputs": [],
   "source": [
    "#Creating column SvcBriefTreatment\n",
    "df['SvcBriefTreatment'] = 0"
   ]
  },
  {
   "cell_type": "code",
   "execution_count": 16,
   "id": "235b4507",
   "metadata": {},
   "outputs": [],
   "source": [
    "#Creating dictionary to rename columns \n",
    "dictionary8 = {'REFERRAL_TO_TREATMENT_NUMBER_OF_SESSIONS_RECEIVED':'SvcReferralTreatment', 'ASSESSMENT_NUMBER_OF_SESSIONS_RECEIVED':'SvcAssessment', \n",
    "               'TREATMENT_PLANNING_NUMBER_OF_SESSIONS_RECEIVED':'SvcTreatmentPlanning', \n",
    "               'INDIVIDUAL_COUNSELING_NUMBER_OF_SESSIONS_RECEIVED':'SvcIndividualCouns'}\n",
    "\n",
    "#Renaming \n",
    "df.rename(columns = dictionary8,inplace = True)\n",
    "\n",
    "#Creating variable to replace null values\n",
    "col_null14 = ['SvcReferralTreatment', 'SvcTreatmentPlanning', 'SvcIndividualCouns', 'SvcAssessment']\n",
    "\n",
    "#Replacing null values with 0\n",
    "df[col_null14] = df[col_null14].fillna(0)\n",
    "\n"
   ]
  },
  {
   "cell_type": "code",
   "execution_count": 17,
   "id": "4d5db53a",
   "metadata": {},
   "outputs": [],
   "source": [
    "#Creating columns with missing values \n",
    "df['SvcGroupCouns'] = 0\n",
    "df['SvcContingencyManagement'] = 0\n",
    "df['SvcCommunityReinforcement'] = 0\n",
    "df['SvcCBT'] = 0\n",
    "df['SvcFamilyMarriageCouns'] = 0\n",
    "df['SvcCoOccurring'] = 0\n",
    "df['SvcPharmacological'] = 0\n",
    "df['SvcHIVAIDSCouns'] = 0\n",
    "df['SvcCulturalInterventions'] = 0\n",
    "df['SvcOtherClinicalCouns'] = 0\n",
    "df['SvcOtherClinicalCounsSpec'] = \" \"\n",
    "df['SvcChildCare'] = 0"
   ]
  },
  {
   "cell_type": "code",
   "execution_count": 18,
   "id": "bbe30f0c",
   "metadata": {},
   "outputs": [],
   "source": [
    "#Creating dictionary to rename\n",
    "dictionary11 = {'CASE_MANAGEMENT_NUMBER_OF_DAYS_RECEIVED':'SvcCaseManagement', \n",
    "                'INTENSIVE_OUTPATIENT_TREATMENT_NUMBER_OF_DAYS_RECEIVED':'SvcIntensiveOutpatient', \n",
    "                'OUTREACH_NUMBER_OF_DAYS_RECEIVED':'SvcOutreach',\n",
    "                'RECOVERY_SUPPORT_NUMBER_OF_DAYS_RECEIVED':'SvcRecoverySupport',\n",
    "               'SCREENING_NUMBER_OF_SESSIONS_RECEIVED':'SvcScreening',\n",
    "                'BRIEF_INTERVENTION_NUMBER_OF_SESSIONS_RECEIVED':'SvcBriefIntervention',\n",
    "               'FAMILY_SERVICES_NUMBER_OF_SESSIONS_RECEIVED':'SvcFamilyServices', \n",
    "                'PRE_EMPLOYMENT_NUMBER_OF_SESSIONS_RECEIVED':'SvcPreEmployment'}\n",
    "\n",
    "#Renaming columns \n",
    "df.rename(columns = dictionary11,inplace = True)\n",
    "\n",
    "#Replacing null values with 0\n",
    "col_fill0 =['SvcCaseManagement', 'SvcIntensiveOutpatient', 'SvcOutreach','SvcRecoverySupport',\n",
    "            'SvcScreening','SvcBriefIntervention','SvcFamilyServices', 'SvcPreEmployment']\n",
    "\n",
    "df[col_fill0] = df[col_fill0].fillna(0)"
   ]
  },
  {
   "cell_type": "code",
   "execution_count": 19,
   "id": "66cbd509",
   "metadata": {},
   "outputs": [],
   "source": [
    "#Renaming columns \n",
    "df.rename(columns = {'EMPLOYMENT_COACHING_NUMBER_OF_SESSIONS_RECEIVED':'SvcEmploymentCoaching', \n",
    "                     'INDIVIDUAL_SERVICES_COORDINATION_NUMBER_OF_SESSIONS_RECEIVED':'SvcIndividualCoord', \n",
    "                     'TRANSPORTATION_NUMBER_OF_SESSIONS_RECEIVED': 'SvcTransportation'}, inplace = True)\n",
    "\n",
    "#Creating variable for columns\n",
    "col1 = ['SvcEmploymentCoaching','SvcIndividualCoord','SvcTransportation']\n",
    "\n",
    "#Replacing null values\n",
    "df[col1] = df[col1].fillna(0)"
   ]
  },
  {
   "cell_type": "code",
   "execution_count": 20,
   "id": "c8c058c6",
   "metadata": {},
   "outputs": [],
   "source": [
    "#Creating column with missing values\n",
    "df['SvcHIVAIDSServices'] = 0\n",
    "\n",
    "df.rename(columns = {'TRANSITIONAL_DRUG_FREE_HOUSING_NUMBER_OF_SESSIONS_RECEIVED':'SvcDrugFreeHousing','HOUSING_SUPPORT_NUMBER_OF_SESSIONS_RECEIVED':'SvcHousingSupport',\n",
    "                     'HEALTH_INSURANCE_ENROLLMENT_NUMBER_OF_SESSIONS_RECEIVED':'SvcHealthInsuranceEnrollment',\n",
    "                     'OTHER_CASE_MANAGEMENT_SERVICES_NUMBER_OF_SESSIONS_RECEIVED':'SvcOtherCaseMgmt',\n",
    "                     'OTHER_CASE_MANAGEMENT_SERVICES_RECEIVED': 'SvcOtherCaseMgmtSpec'}, inplace = True)\n",
    "\n",
    "#Creating variable 'col' to replace missing values\n",
    "col2 = ['SvcDrugFreeHousing','SvcHousingSupport','SvcHealthInsuranceEnrollment','SvcOtherCaseMgmt']\n",
    "\n",
    "#Replacing missing values with 0\n",
    "df[col2] = df[col2].fillna(0)\n",
    "\n",
    "#Editing string values\n",
    "# df['SvcOtherCaseMgmtSpec'] = df['SvcOtherCaseMgmtSpec'].str.title()\n"
   ]
  },
  {
   "cell_type": "code",
   "execution_count": 21,
   "id": "fe2eaaac",
   "metadata": {},
   "outputs": [],
   "source": [
    "#Renaming columns \n",
    "df.rename(columns = {'MEDICAL_CARE_NUMBER_OF_SESSIONS_RECEIVED':'SvcMedicalCare'}, inplace = True)\n",
    "\n",
    "#Replacing missing values with 0\n",
    "df['SvcMedicalCare'] = df['SvcMedicalCare'].fillna(0) \n",
    "\n",
    "#Creating columns with missing values \n",
    "df['SvcAlcoholDrugTesting'] = 0\n",
    "df['SvcOBGYN'] = 0\n",
    "df['SvcHIVAIDSMedical'] = 0\n",
    "df['SvcHepatitisSupport'] = 0\n",
    "df['SvcOtherSTISupport'] = 0"
   ]
  },
  {
   "cell_type": "code",
   "execution_count": 22,
   "id": "c132d7e4",
   "metadata": {
    "scrolled": true
   },
   "outputs": [],
   "source": [
    "#Renaming columns\n",
    "df.rename(columns = {'DENTAL_CARE_NUMBER_OF_SESSIONS_RECEIVED':'SvcDental', \n",
    "                     'OTHER_MEDICAL_SERVICES_NUMBER_OF_SESSIONS_RECEIVED':'SvcOtherMedical',\n",
    "                     'OTHER_MEDICAL_SERVICES_RECEIVED':'SvcOtherMedicalSpec',\n",
    "                     'CONTINUING_CARE_NUMBER_OF_SESSIONS_RECEIVED':'SvcContinuingCare',\n",
    "                     'RELAPSE_PREVENTION_NUMBER_OF_SESSIONS_RECEIVED':'SvcRelapsePrevention'}, inplace = True)\n",
    "\n",
    "#Creating variable col1 to replace missing values with 0\n",
    "col3 = ['SvcDental','SvcOtherMedical','SvcContinuingCare','SvcRelapsePrevention']\n",
    "\n",
    "#Replacing missing values with 0\n",
    "df[col3] = df[col3].fillna(0) \n",
    "\n",
    "#Data Cleaning\n",
    "# df['SvcOtherMedicalSpec'] = df['SvcOtherMedicalSpec'].str.title() "
   ]
  },
  {
   "cell_type": "code",
   "execution_count": 23,
   "id": "19d17616",
   "metadata": {},
   "outputs": [],
   "source": [
    "#Renaming columns\n",
    "df.rename(columns = {'RECOVERY_COACHING_NUMBER_OF_SESSIONS_RECEIVED':'SvcRecoveryCoaching','SELF_HELP_MUTUAL_SUPPORT_GROUP_NUMBER_OF_SESSIONS_RECEIVED':'SvcSelfHelpSupport','SPIRITUAL_SUPPORT_NUMBER_OF_SESSIONS_RECEIVED':'SvcSpiritualSupport','OTHER_AFTER_CARE_SERVICES_NUMBER_OF_SESSIONS_RECEIVED':'SvcOtherAfterCare','OTHER_AFTER_CARE_SERVICES_RECEIVED':'SvcOtherAfterCareSpec'}, inplace = True)\n",
    "\n",
    "#Creating variable col2 to replace missing values\n",
    "col4 = ['SvcRecoveryCoaching','SvcSelfHelpSupport','SvcSpiritualSupport','SvcOtherAfterCare']\n",
    "\n",
    "#Replacing missing values with 0\n",
    "df[col4] = df[col4].fillna(0)"
   ]
  },
  {
   "cell_type": "code",
   "execution_count": 24,
   "id": "70950be7",
   "metadata": {},
   "outputs": [],
   "source": [
    "#Renaming column\n",
    "df.rename(columns = {'SUBSTANCE_MISUSE_EDUCATION_SERVICES_NUMBER_OF_SESSIONS_RECEIVED':'SvcSubstanceAbuseEdu'}, inplace = True )\n",
    "\n",
    "#Replacing missing values with 0\n",
    "df['SvcSubstanceAbuseEdu'] = df['SvcSubstanceAbuseEdu'].fillna(0) \n",
    "\n",
    "df['SvcHIVAIDSEdu'] = 0\n",
    "df['SvcHepatitisEdu'] = 0\n",
    "df['SvcOtherSTIEdu'] = 0\n",
    "df['SvcNaloxoneTraining'] = 0\n",
    "df['SvcFentanylTestStripTraining'] = 0\n",
    "df['SvcOtherEdu'] = 0\n",
    "df['SvcOtherEduSpec'] = \" \""
   ]
  },
  {
   "cell_type": "code",
   "execution_count": 25,
   "id": "31f1c453",
   "metadata": {},
   "outputs": [],
   "source": [
    "#Creating copy of RECOVERY_HOUSING_NUMBER_OF_SESSIONS_RECEIVED column\n",
    "df['RECOVERY_PLANNING_NUMBER_OF_SESSIONS_RECEIVED_1'] = df['RECOVERY_PLANNING_NUMBER_OF_SESSIONS_RECEIVED']\n",
    "\n",
    "#Renaming columns \n",
    "df.rename(columns = {'PEER_COACHING_OR_MENTORING_NUMBER_OF_SESSIONS_RECEIVED':'SvcPeerCoaching', \n",
    "                     'VOCATIONAL_SERVICES_NUMBER_OF_SESSIONS_RECEIVED':'SvcVocational',\n",
    "                     'RECOVERY_HOUSING_NUMBER_OF_SESSIONS_RECEIVED':'SvcRecoveryHousing',\n",
    "                     'RECOVERY_PLANNING_NUMBER_OF_SESSIONS_RECEIVED':'SvcRecoveryPlanningRSS',\n",
    "                     'RECOVERY_SUPPORT_SPECIFIC_CASE_MANAGEMENT_SERVICES_NUMBER_OF_SESSIONS_RECEIVED':'SvcRecoveryCaseManagement',\n",
    "                     'ALCOHOL_AND_DRUG_FREE_SOCIAL_ACTIVITIES_NUMBER_OF_SESSIONS_RECEIVED':'SvcDrugFreeSocial'}, inplace = True)\n",
    "\n",
    "#Creating variable col3\n",
    "col5 = ['SvcPeerCoaching','SvcVocational','SvcRecoveryHousing','SvcRecoveryCaseManagement','SvcDrugFreeSocial'] \n",
    "\n",
    "#Replacing missing values with 0\n",
    "df[col5] = df[col5].fillna(0)\n",
    "\n",
    "#inputting values in the 'SvcRecoveryPlanningRSS' column\n",
    "df['SvcRecoveryPlanningRSS'] = df['SvcRecoveryPlanningRSS'].fillna(0)"
   ]
  },
  {
   "cell_type": "code",
   "execution_count": 26,
   "id": "3feda7c0",
   "metadata": {},
   "outputs": [],
   "source": [
    "#Renaming columns\n",
    "df.rename(columns = {'INFORMATION_AND_REFERRAL_NUMBER_OF_SESSIONS_RECEIVED':'SvcInformationReferral','OTHER_RECOVERY_SUPPORT_NUMBER_OF_SESSIONS_RECEIVED':'SvcOtherRecoverySupport','OTHER_RECOVERY_SUPPORT_SERVICES_RECEIVED':'SvcOtherRecoverySupportSpec','OTHER_PEER_TO_PEER_RECOVERY_SUPPORT_NUMBER_OF_SESSIONS_RECEIVED':'SvcOtherPeerRecovery','OTHER_PEER_TO_PEER_RECOVERY_SUPPORT_RECEIVED':'SvcOtherPeerRecoverySpec'}, inplace = True)\n",
    "\n",
    "#Creating variable col4 to replace missing values\n",
    "col6 = ['SvcInformationReferral','SvcOtherRecoverySupport','SvcOtherPeerRecovery']\n",
    "\n",
    "#Replacing missing values with 0\n",
    "df[col6] = df[col6].fillna(0)"
   ]
  },
  {
   "cell_type": "code",
   "execution_count": 27,
   "id": "e10ece03",
   "metadata": {},
   "outputs": [],
   "source": [
    "#Replacing null values with -9\n",
    "df['CLIENT_ATTENDED_60%_OR_MORE_OF_PLANNED_SERVICES'] = df['CLIENT_ATTENDED_60%_OR_MORE_OF_PLANNED_SERVICES'].fillna(-9)\n",
    "\n",
    "#Creating function to create column AttendedMostPlannedServices\n",
    "def AttendedMost_PlannedServices (x):\n",
    "    if x == 'Yes':\n",
    "        return 1\n",
    "    elif x == 'No':\n",
    "        return 0\n",
    "    elif x == -9:\n",
    "        return -9\n",
    "    \n",
    "#Creating column AttendedMostPlannedServices via applying the function AttendedMost_PlannedServices (x)\n",
    "df['AttendedMostPlannedServices'] = df['CLIENT_ATTENDED_60%_OR_MORE_OF_PLANNED_SERVICES'].apply(lambda x:AttendedMost_PlannedServices (x))"
   ]
  },
  {
   "cell_type": "code",
   "execution_count": 28,
   "id": "1285691a",
   "metadata": {},
   "outputs": [],
   "source": [
    "#Replacing null values with -9\n",
    "df['CLIENT_RECEIVED_SERVICES_VIA_TELEHEALTH_OR_VIRTUAL'] = df['CLIENT_RECEIVED_SERVICES_VIA_TELEHEALTH_OR_VIRTUAL'].fillna(-9)\n",
    "\n",
    "#Creating function to create column ReceivedTelehealthServices\n",
    "def Received_Telehealth_Services (x):\n",
    "    if x == 'Yes':\n",
    "        return 1\n",
    "    elif x == 'No':\n",
    "        return 0\n",
    "    elif x == -9:\n",
    "        return -9\n",
    "    \n",
    "#Creating column ReceivedTelehealthServices via applying the function Received_Telehealth_Services (x)\n",
    "df['ReceivedTelehealthServices'] = df['CLIENT_RECEIVED_SERVICES_VIA_TELEHEALTH_OR_VIRTUAL'].apply(lambda x:Received_Telehealth_Services (x))"
   ]
  },
  {
   "cell_type": "code",
   "execution_count": 29,
   "id": "2a346640",
   "metadata": {},
   "outputs": [],
   "source": [
    "#Replacing null values with -9\n",
    "df['CLIENT_PREVIOUSLY_DIAGNOSED_WITH_OPIOID_USE_DISORDER'] = df['CLIENT_PREVIOUSLY_DIAGNOSED_WITH_OPIOID_USE_DISORDER'].fillna(-9)\n",
    "\n",
    "#Creating a function to create column PreviouslyDiagnosedOUD\n",
    "def Previously_DiagnosedOUD (row):\n",
    "    if row['CLIENT_PREVIOUSLY_DIAGNOSED_WITH_OPIOID_USE_DISORDER'] == 'Yes':\n",
    "        return 1\n",
    "    elif row['CLIENT_PREVIOUSLY_DIAGNOSED_WITH_OPIOID_USE_DISORDER'] == 'No [SKIP TO QUESTION 5]':\n",
    "        return 0\n",
    "    elif row['CLIENT_PREVIOUSLY_DIAGNOSED_WITH_OPIOID_USE_DISORDER'] == -9:\n",
    "        return -9\n",
    "    \n",
    "#Creating column PreviouslyDiagnosedOUD via applying the function Previously_DiagnosedOUD (x)\n",
    "df['PreviouslyDiagnosedOUD'] = df.apply(Previously_DiagnosedOUD, axis = 1)"
   ]
  },
  {
   "cell_type": "code",
   "execution_count": 30,
   "id": "2262ec9a",
   "metadata": {},
   "outputs": [],
   "source": [
    "#Replacing null values with -9\n",
    "df['RECEIVED_MEDICATION_FOR_OPIOID_USE_DISORDER_IN_PAST_30_DAYS'] = df['RECEIVED_MEDICATION_FOR_OPIOID_USE_DISORDER_IN_PAST_30_DAYS'].str.split(',').str[0]\n",
    "    \n",
    "#Creating function to create column kOUDMedMethadone\n",
    "def kOUD_Med_Methadone (row):\n",
    "    if row ['PreviouslyDiagnosedOUD']== -9:\n",
    "        return -1\n",
    "    elif row['RECEIVED_MEDICATION_FOR_OPIOID_USE_DISORDER_IN_PAST_30_DAYS'] == 'Methadone':\n",
    "        return 1\n",
    "    else:\n",
    "        return 0\n",
    "    \n",
    "#Creating column kOUDMedMethadone via applying the function kOUD_Med_Methadone (x)\n",
    "df['kOUDMedMethadone'] = df.apply(kOUD_Med_Methadone, axis = 1)"
   ]
  },
  {
   "cell_type": "code",
   "execution_count": 31,
   "id": "3e938e38",
   "metadata": {},
   "outputs": [],
   "source": [
    "# creating column kOUDMedMethadoneDays\n",
    "df.rename(columns = {'METHADONE_NUMBER_OF_DAYS':'kOUDMedMethadoneDays'}, inplace = True)\n",
    "\n",
    "def kOUDMedMethadoneDays (row):\n",
    "    if row['kOUDMedMethadone'] == 1 :\n",
    "        return row['kOUDMedMethadoneDays']\n",
    "    else:\n",
    "        pass\n",
    "    \n",
    "df['kOUDMedMethadoneDays'] = df.apply(kOUDMedMethadoneDays, axis = 1)\n",
    "\n",
    "# data cleaning\n",
    "df['kOUDMedMethadoneDays'] = df['kOUDMedMethadoneDays'].apply(lambda x: thirty(x))"
   ]
  },
  {
   "cell_type": "code",
   "execution_count": 32,
   "id": "7423866c",
   "metadata": {},
   "outputs": [],
   "source": [
    "#Creating function to create column kOUDMedBuprenorphine\n",
    "def kOUDMed_Buprenorphine (row):\n",
    "    if row['PreviouslyDiagnosedOUD'] == -9:\n",
    "        return -1\n",
    "    elif row['RECEIVED_MEDICATION_FOR_OPIOID_USE_DISORDER_IN_PAST_30_DAYS'] == 'Buprenorphine':\n",
    "        return 1\n",
    "    else:\n",
    "        return 0\n",
    "    \n",
    "#Creating column kOUDMedMethadone via applying the function kOUDMed_Buprenorphine (x)\n",
    "df['kOUDMedBuprenorphine'] = df.apply(kOUDMed_Buprenorphine, axis = 1)"
   ]
  },
  {
   "cell_type": "code",
   "execution_count": 33,
   "id": "58a927b0",
   "metadata": {},
   "outputs": [],
   "source": [
    "# creating column kOUDMedBuprenorphineDays\n",
    "df.rename(columns = {'BUPRENORPHINE_NUMBER_OF_DAYS':'kOUDMedBuprenorphineDays'}, inplace = True)\n",
    "\n",
    "def kOUDMedBuprenorphineDays (row):\n",
    "    if row['kOUDMedBuprenorphine'] == 1:\n",
    "        return row['kOUDMedBuprenorphineDays']\n",
    "    else:\n",
    "        pass\n",
    "df['kOUDMedBuprenorphineDays'] = df.apply(kOUDMedBuprenorphineDays, axis = 1)\n",
    "\n",
    "# data cleaning\n",
    "df['kOUDMedBuprenorphineDays'] = df['kOUDMedBuprenorphineDays'].apply(lambda x : thirty(x))\n"
   ]
  },
  {
   "cell_type": "code",
   "execution_count": 34,
   "id": "d2dae43a",
   "metadata": {},
   "outputs": [],
   "source": [
    "#Creating function to create column kOUDMedNaltrexone\n",
    "def kOUDMed_Naltrexone (row):\n",
    "    if row['PreviouslyDiagnosedOUD']== -9:\n",
    "        return -1\n",
    "    elif row['RECEIVED_MEDICATION_FOR_OPIOID_USE_DISORDER_IN_PAST_30_DAYS'] == 'Naltrexone':\n",
    "        return 1\n",
    "    else:\n",
    "        return 0\n",
    "    \n",
    "#Creating column kOUDMedNaltrexone via applying the function kOUDMed_Naltrexone (x)\n",
    "df['kOUDMedNaltrexone'] = df.apply(kOUDMed_Naltrexone, axis = 1)"
   ]
  },
  {
   "cell_type": "code",
   "execution_count": 35,
   "id": "f618198c",
   "metadata": {},
   "outputs": [],
   "source": [
    "# creating column kOUDMedNaltrexoneDays\n",
    "def kOUDMedNaltrexoneDays (row):\n",
    "    if row['kOUDMedNaltrexone'] == 1:\n",
    "        return row['NALTREXONE_NUMBER_OF_DAYS']\n",
    "    else:\n",
    "        pass\n",
    "\n",
    "df['kOUDMedNaltrexoneDays'] = df.apply(kOUDMedNaltrexoneDays, axis = 1)"
   ]
  },
  {
   "cell_type": "code",
   "execution_count": 36,
   "id": "ca73faba",
   "metadata": {},
   "outputs": [],
   "source": [
    "# creating column kOUDMedXRNaltrexone\n",
    "def kOUDMedXRNaltrexone(row):\n",
    "    if row['PreviouslyDiagnosedOUD']== -9:\n",
    "        return -1\n",
    "    elif row['RECEIVED_MEDICATION_FOR_OPIOID_USE_DISORDER_IN_PAST_30_DAYS'] == 'Extended-release Naltrexone':\n",
    "            return 1\n",
    "    else:\n",
    "            return 0\n",
    "\n",
    "df['kOUDMedXRNaltrexone'] = df.apply(kOUDMedXRNaltrexone, axis = 1)"
   ]
  },
  {
   "cell_type": "code",
   "execution_count": 37,
   "id": "56b66335",
   "metadata": {},
   "outputs": [],
   "source": [
    "# creating column kOUDMedXRNaltrexoneDoses\n",
    "def kOUDMedXRNaltrexoneDoses(row):\n",
    "    if row['kOUDMedXRNaltrexone'] == 1:\n",
    "        return row['NUMBER_OF_DAYS_RECEIVED_EXTENDED_RELEASE_NALTREXONE']\n",
    "    else:\n",
    "        pass\n",
    "\n",
    "df['kOUDMedXRNaltrexoneDoses'] = df.apply(kOUDMedXRNaltrexoneDoses, axis = 1)\n",
    "\n",
    "def doses (x):\n",
    "    if x > 2:\n",
    "        return 2\n",
    "    else:\n",
    "        pass\n",
    "df['kOUDMedXRNaltrexoneDoses'] = df['kOUDMedXRNaltrexoneDoses'].apply(lambda x: doses(x))"
   ]
  },
  {
   "cell_type": "code",
   "execution_count": 38,
   "id": "2013054a",
   "metadata": {},
   "outputs": [],
   "source": [
    "# creating the column kOUDMedNotReceived\n",
    "def kOUDMedNotReceived(row):\n",
    "    if row['PreviouslyDiagnosedOUD']== -9:\n",
    "        return -1\n",
    "    elif row['RECEIVED_MEDICATION_FOR_OPIOID_USE_DISORDER_IN_PAST_30_DAYS'] == 'Client did not receive an FDA-approved medication for a diagnosed opioid use disorder [SKIP TO QUESTION 5]':\n",
    "        return 1\n",
    "    else:\n",
    "        return 0\n",
    "df['kOUDMedNotReceived'] = df.apply(kOUDMedNotReceived, axis = 1)"
   ]
  },
  {
   "cell_type": "code",
   "execution_count": 39,
   "id": "a7288776",
   "metadata": {},
   "outputs": [],
   "source": [
    "# creating column OUDMedTakenAsPrescribed\n",
    "def OUDMedTakenAsPrescribed (row):\n",
    "    if row['PreviouslyDiagnosedOUD']== -9:\n",
    "        return -1\n",
    "    elif row['kOUDMedMethadone'] == 1:\n",
    "        return 1\n",
    "    elif row['kOUDMedBuprenorphine'] == 1:\n",
    "        return 1\n",
    "    elif row['kOUDMedNaltrexone'] == 1:\n",
    "        return 1\n",
    "    elif row['kOUDMedXRNaltrexone'] == 1:\n",
    "        return 1\n",
    "    else:\n",
    "        return 0\n",
    "    \n",
    "df['OUDMedTakenAsPrescribed'] = df.apply(OUDMedTakenAsPrescribed, axis = 1)"
   ]
  },
  {
   "cell_type": "code",
   "execution_count": 40,
   "id": "6a32c615",
   "metadata": {},
   "outputs": [],
   "source": [
    "df['PREVIOUSLY_DIAGNOSED_WITH_ALCOHOL_USE_DISORDER'] = df['PREVIOUSLY_DIAGNOSED_WITH_ALCOHOL_USE_DISORDER'].fillna(-9)\n",
    "# creating column PreviouslyDiagnosedAUD\n",
    "def PreviouslyDiagnosedAUD (row):\n",
    "    if row['PREVIOUSLY_DIAGNOSED_WITH_ALCOHOL_USE_DISORDER'] == 'Yes':\n",
    "        return 1\n",
    "    elif row['PREVIOUSLY_DIAGNOSED_WITH_ALCOHOL_USE_DISORDER'] == 'No':\n",
    "        return 0\n",
    "    else:\n",
    "        return -9\n",
    "    \n",
    "df['PreviouslyDiagnosedAUD'] = df.apply(PreviouslyDiagnosedAUD, axis = 1)"
   ]
  },
  {
   "cell_type": "code",
   "execution_count": 41,
   "id": "833459dc",
   "metadata": {},
   "outputs": [],
   "source": [
    "df['RECEIVED_MEDICATION_FOR_ALCOHOL_USE_DISORDER_IN_PAST_30_DAYS'] = df['RECEIVED_MEDICATION_FOR_ALCOHOL_USE_DISORDER_IN_PAST_30_DAYS'].str.split(',').str[0]\n",
    "\n",
    "def kAUDMedNaltrexone (row):\n",
    "    if row['PreviouslyDiagnosedAUD'] == -9:\n",
    "        return -1\n",
    "    elif row['RECEIVED_MEDICATION_FOR_ALCOHOL_USE_DISORDER_IN_PAST_30_DAYS'] == 'Naltrexone':\n",
    "        return 1\n",
    "    else:\n",
    "        return 0\n",
    "    \n",
    "df['kAUDMedNaltrexone'] = df.apply(kAUDMedNaltrexone, axis = 1)"
   ]
  },
  {
   "cell_type": "code",
   "execution_count": 42,
   "id": "03fbe49e",
   "metadata": {},
   "outputs": [],
   "source": [
    "def kAUDMedNaltrexoneDays (row):\n",
    "    if row['kAUDMedNaltrexone'] == 1:\n",
    "        return row['NALTREXONE_NUMBER_OF_DAYS']\n",
    "    else:\n",
    "        pass\n",
    "    \n",
    "df['kAUDMedNaltrexoneDays'] = df.apply(kAUDMedNaltrexoneDays, axis = 1)"
   ]
  },
  {
   "cell_type": "code",
   "execution_count": 43,
   "id": "7d80c3cf",
   "metadata": {},
   "outputs": [],
   "source": [
    "def kAUDMedXRNaltrexone (row):\n",
    "    if row['PreviouslyDiagnosedAUD'] == -9:\n",
    "        return -1\n",
    "    elif row['RECEIVED_MEDICATION_FOR_ALCOHOL_USE_DISORDER_IN_PAST_30_DAYS'] == 'Extended-release naltrexone':\n",
    "        return 1\n",
    "    else:\n",
    "        return 0\n",
    "    \n",
    "df['kAUDMedXRNaltrexone'] = df.apply(kAUDMedXRNaltrexone, axis = 1)"
   ]
  },
  {
   "cell_type": "code",
   "execution_count": 44,
   "id": "c42fdeee",
   "metadata": {},
   "outputs": [],
   "source": [
    "def kAUDMedXRNaltrexoneDoses (row):\n",
    "    if row['kAUDMedXRNaltrexone'] == 1:\n",
    "        return row['EXTENDED_RELEASE_NALTREXONE_NUMBER_OF_DAYS']\n",
    "    else:\n",
    "        pass\n",
    "\n",
    "df['kAUDMedXRNaltrexoneDoses'] = df.apply(kAUDMedXRNaltrexone, axis = 1)\n",
    "\n",
    "df['kAUDMedXRNaltrexoneDoses'] = df['kAUDMedXRNaltrexone'].apply(lambda x: doses (x))"
   ]
  },
  {
   "cell_type": "code",
   "execution_count": 45,
   "id": "e1fb4754",
   "metadata": {},
   "outputs": [],
   "source": [
    "def kAUDMedDisulfiram (row):\n",
    "    if row['PreviouslyDiagnosedAUD'] == -9:\n",
    "        return -1\n",
    "    elif row['RECEIVED_MEDICATION_FOR_ALCOHOL_USE_DISORDER_IN_PAST_30_DAYS'] == 'Disulfiram':\n",
    "        return 1\n",
    "    else:\n",
    "        return 0\n",
    "    \n",
    "df['kAUDMedDisulfiram'] = df.apply(kAUDMedDisulfiram , axis = 1)"
   ]
  },
  {
   "cell_type": "code",
   "execution_count": 46,
   "id": "59e1ee1b",
   "metadata": {},
   "outputs": [],
   "source": [
    "def kAUDMedDisulfiramDays (row):\n",
    "    if row['kAUDMedDisulfiram'] == 1:\n",
    "        return row['NUMBER_OF_DAYS_RECEIVED_DISULFIRAM']\n",
    "    else:\n",
    "        pass\n",
    "df['kAUDMedDisulfiramDays'] = df.apply(kAUDMedDisulfiramDays, axis = 1)"
   ]
  },
  {
   "cell_type": "code",
   "execution_count": 47,
   "id": "5dbd0281",
   "metadata": {},
   "outputs": [],
   "source": [
    "def kAUDMedAcamprosate (row):\n",
    "    if row['PreviouslyDiagnosedAUD'] == -9:\n",
    "        return -1\n",
    "    elif row['RECEIVED_MEDICATION_FOR_ALCOHOL_USE_DISORDER_IN_PAST_30_DAYS'] == 'Acamprosate':\n",
    "        return 1\n",
    "    else:\n",
    "        return 0\n",
    "df['kAUDMedAcamprosate'] = df.apply(kAUDMedAcamprosate, axis = 1)"
   ]
  },
  {
   "cell_type": "code",
   "execution_count": 48,
   "id": "26ab8bc1",
   "metadata": {},
   "outputs": [],
   "source": [
    "def kAUDMedAcamprosateDays (row):\n",
    "    if row['kAUDMedAcamprosate'] == 1:\n",
    "        return row['NUMBER_OF_DAYS_RECEIVED_ACAMPROSATE']\n",
    "    else:\n",
    "        pass\n",
    "df['kAUDMedAcamprosateDays'] = df.apply(kAUDMedAcamprosateDays, axis = 1)"
   ]
  },
  {
   "cell_type": "code",
   "execution_count": 49,
   "id": "4d69d5cf",
   "metadata": {},
   "outputs": [],
   "source": [
    "#Creating function to create column kAUDMedNotReceived\n",
    "def  kAUDMed_NotReceived (row):\n",
    "    if row['PreviouslyDiagnosedAUD'] == -9:\n",
    "        return -1\n",
    "    elif row['RECEIVED_MEDICATION_FOR_ALCOHOL_USE_DISORDER_IN_PAST_30_DAYS'] == 'Client did not receive an FDA-approved medication for an alcohol use disorder [SKIP TO QUESTION 6]':\n",
    "        return 1\n",
    "    else:\n",
    "        return 0\n",
    "    \n",
    "#Creating column kAUDMedNotReceived via applying the function kAUDMed_NotReceived (x)\n",
    "df['kAUDMedNotReceived'] = df.apply(kAUDMed_NotReceived, axis = 1)"
   ]
  },
  {
   "cell_type": "code",
   "execution_count": 50,
   "id": "a456cd2d",
   "metadata": {},
   "outputs": [],
   "source": [
    "#Creating column with missing values\n",
    "def AUDMedTakenAsPrescribed (row):\n",
    "    if row['PreviouslyDiagnosedAUD'] == -9:\n",
    "        return -1\n",
    "    elif row['kAUDMedNaltrexone'] == 1:\n",
    "        return 1\n",
    "    elif row['kAUDMedXRNaltrexone'] == 1:\n",
    "        return 1\n",
    "    elif row['kAUDMedDisulfiram'] == 1:\n",
    "        return 1\n",
    "    elif row['kAUDMedAcamprosate'] == 1:\n",
    "        return 1\n",
    "    else:\n",
    "        return 0\n",
    "    \n",
    "df['AUDMedTakenAsPrescribed'] = df.apply(AUDMedTakenAsPrescribed, axis = 1)"
   ]
  },
  {
   "cell_type": "code",
   "execution_count": 51,
   "id": "c19ee82f",
   "metadata": {},
   "outputs": [],
   "source": [
    "#Replacing null values with -9\n",
    "df['PREVIOUSLY_DIAGNOSED_WITH_STIMULANT_USE_DISORDER'] = df['PREVIOUSLY_DIAGNOSED_WITH_STIMULANT_USE_DISORDER'].fillna(-9)\n",
    "\n",
    "#Creating function to create column PreviouslyDiagnosedStUD\n",
    "def Previously_DiagnosedStUD (row):\n",
    "    if row['PREVIOUSLY_DIAGNOSED_WITH_STIMULANT_USE_DISORDER'] == 'Yes':\n",
    "        return 1\n",
    "    elif row['PREVIOUSLY_DIAGNOSED_WITH_STIMULANT_USE_DISORDER'] == 'No [SKIP TO QUESTION 7]':\n",
    "        return 0\n",
    "    elif row['PREVIOUSLY_DIAGNOSED_WITH_STIMULANT_USE_DISORDER'] == -9:\n",
    "        return -9\n",
    "    \n",
    "#Creating column PreviouslyDiagnosedStUD via applying the function Previously_DiagnosedStUD (x)\n",
    "df['PreviouslyDiagnosedStUD'] = df.apply(Previously_DiagnosedStUD, axis = 1)"
   ]
  },
  {
   "cell_type": "code",
   "execution_count": 52,
   "id": "1de0ef85",
   "metadata": {},
   "outputs": [],
   "source": [
    "#Replacing null valules with -9\n",
    "df['INTERVENTIONS_RECEIVED_FOR_STIMULANT_USE_DISORDER_IN_PAST_30_DAYS'] = df['INTERVENTIONS_RECEIVED_FOR_STIMULANT_USE_DISORDER_IN_PAST_30_DAYS'].str.split(',').str[0]\n",
    "\n",
    "#Creating function to create column kStUDIntContMgmt\n",
    "def kStUDIntContMgmt (row):\n",
    "    if row['PreviouslyDiagnosedStUD'] == -9:\n",
    "        return -1\n",
    "    elif row['INTERVENTIONS_RECEIVED_FOR_STIMULANT_USE_DISORDER_IN_PAST_30_DAYS'] == 'Contingency Management':\n",
    "        return 1\n",
    "    else:\n",
    "        return 0\n",
    "\n",
    "#Creating column kStUDIntCommReinf via applying the function kStUDInt_CommReinf (x)\n",
    "df['kStUDIntContMgmt'] = df.apply(kStUDIntContMgmt, axis = 1)"
   ]
  },
  {
   "cell_type": "code",
   "execution_count": 53,
   "id": "1b63aa47",
   "metadata": {},
   "outputs": [],
   "source": [
    "def kStUDIntContMgmtDays (row):\n",
    "    if row['kStUDIntContMgmt'] == 1:\n",
    "        return row['CONTINGENCY_MANAGEMENT_NUMBER_OF_DAYS']\n",
    "    else:\n",
    "        pass\n",
    "df['kStUDIntContMgmtDays'] = df.apply(kStUDIntContMgmtDays, axis = 1)"
   ]
  },
  {
   "cell_type": "code",
   "execution_count": 54,
   "id": "74471293",
   "metadata": {},
   "outputs": [],
   "source": [
    "#Creating function to create column kStUDIntCommReinf\n",
    "def kStUDIntCommReinf (row):\n",
    "    if row['PreviouslyDiagnosedStUD'] == -9:\n",
    "        return -1\n",
    "    elif row['INTERVENTIONS_RECEIVED_FOR_STIMULANT_USE_DISORDER_IN_PAST_30_DAYS'] == 'Community Reinforcement':\n",
    "        return 1\n",
    "    else:\n",
    "        return 0\n",
    "\n",
    "#Creating column kStUDIntCommReinf via applying the function kkStUDIntCommReinf (x)\n",
    "df['kStUDIntCommReinf'] = df.apply(kStUDIntCommReinf, axis = 1)"
   ]
  },
  {
   "cell_type": "code",
   "execution_count": 55,
   "id": "b3562370",
   "metadata": {},
   "outputs": [],
   "source": [
    "def kStUDIntCommReinfDays (row):\n",
    "    if row['kStUDIntCommReinf'] == 1:\n",
    "        return row['COMMUNITY_REINFORCEMENT_NUMBER_OF_DAYS']\n",
    "    else:\n",
    "        pass\n",
    "df['kStUDIntCommReinfDays'] = df.apply(kStUDIntCommReinfDays, axis = 1)"
   ]
  },
  {
   "cell_type": "code",
   "execution_count": 56,
   "id": "a96a0d01",
   "metadata": {},
   "outputs": [],
   "source": [
    "def kStUDIntCBT (row):\n",
    "    if row['PreviouslyDiagnosedStUD'] == -9:\n",
    "        return -1\n",
    "    elif row['INTERVENTIONS_RECEIVED_FOR_STIMULANT_USE_DISORDER_IN_PAST_30_DAYS'] == 'Cognitive Behavioral Therapy':\n",
    "        return 1 \n",
    "    else:\n",
    "        return 0\n",
    "df['kStUDIntCBT'] = df.apply(kStUDIntCBT, axis = 1)"
   ]
  },
  {
   "cell_type": "code",
   "execution_count": 57,
   "id": "5cb9141a",
   "metadata": {},
   "outputs": [],
   "source": [
    "def kStUDIntCBTDays (row):\n",
    "    if row['kStUDIntCBT'] == 1 :\n",
    "        return row['COGNITIVE_BEHAVIORAL_THERAPY_NUMBER_OF_DAYS'] \n",
    "    else:\n",
    "        pass\n",
    "df['kStUDIntCBTDays'] = df.apply(kStUDIntCBTDays, axis = 1)"
   ]
  },
  {
   "cell_type": "code",
   "execution_count": 58,
   "id": "fd27cdfe",
   "metadata": {},
   "outputs": [],
   "source": [
    "#Creating function to create column kStUDIntOther\n",
    "def kStUDIntOther (row):\n",
    "    if row['PreviouslyDiagnosedStUD'] == -9:\n",
    "        return -1\n",
    "    elif row['INTERVENTIONS_RECEIVED_FOR_STIMULANT_USE_DISORDER_IN_PAST_30_DAYS'] == 'Other treatment approach':\n",
    "        return 1\n",
    "    else:\n",
    "        return 0\n",
    "\n",
    "#Creating column kStUDIntOther via applying the functionkStUD_IntOther (x)\n",
    "df['kStUDIntOther'] = df.apply(kStUDIntOther, axis = 1)"
   ]
  },
  {
   "cell_type": "code",
   "execution_count": 59,
   "id": "3113e204",
   "metadata": {},
   "outputs": [],
   "source": [
    "def kStUDIntOtherDays (row):\n",
    "    if row['kStUDIntOther'] == 1:\n",
    "        return row['OTHER_TREATMENT_NUMBER_OF_DAYS']\n",
    "    else:\n",
    "        pass\n",
    "df['kStUDIntOtherDays'] = df.apply(kStUDIntOtherDays, axis = 1)"
   ]
  },
  {
   "cell_type": "code",
   "execution_count": 60,
   "id": "7af5c29d",
   "metadata": {},
   "outputs": [],
   "source": [
    "#Creating function to create column kStUDIntNotReceived\n",
    "def kStUDIntNotReceived (row):\n",
    "    if row['PreviouslyDiagnosedStUD'] == -9:\n",
    "        return -1 \n",
    "    elif row['INTERVENTIONS_RECEIVED_FOR_STIMULANT_USE_DISORDER_IN_PAST_30_DAYS'] == 'Client did not receive any intervention for a stimulant use disorder [SKIP TO QUESTION 7]':\n",
    "        return 1\n",
    "    else:\n",
    "        return 0\n",
    "\n",
    "#Creating column kStUDIntNotReceived via applying the function kStUD_IntNotReceived (x)\n",
    "df['kStUDIntNotReceived'] = df.apply(kStUDIntNotReceived, axis = 1)"
   ]
  },
  {
   "cell_type": "code",
   "execution_count": 61,
   "id": "123109b6",
   "metadata": {},
   "outputs": [],
   "source": [
    "def StUDIntAttended (row):\n",
    "    if row['PreviouslyDiagnosedStUD'] == -9 :\n",
    "        return -1\n",
    "    elif row['kStUDIntContMgmt'] == 1:\n",
    "        return 1\n",
    "    elif row['kStUDIntCommReinf'] == 1:\n",
    "        return 1\n",
    "    elif row['kStUDIntCBT'] == 1:\n",
    "        return 1\n",
    "    elif row['kStUDIntOther'] == 1:\n",
    "        return 1\n",
    "    else:\n",
    "        return 0\n",
    "    \n",
    "df['StUDIntAttended'] = df.apply( StUDIntAttended, axis = 1)"
   ]
  },
  {
   "cell_type": "code",
   "execution_count": 62,
   "id": "1db7ada6",
   "metadata": {},
   "outputs": [],
   "source": [
    "#Replacing null values with -9\n",
    "df['PREVIOUSLY_DIAGNOSED_WITH_TOBACCO_USE_DISORDER'] = df['PREVIOUSLY_DIAGNOSED_WITH_TOBACCO_USE_DISORDER'].fillna(-9)\n",
    "\n",
    "#Creating function to create column PreviouslyDiagnosedTUD\n",
    "def PreviouslyDiagnosedTUD (row):\n",
    "    if row['PREVIOUSLY_DIAGNOSED_WITH_TOBACCO_USE_DISORDER'] == 'Yes':\n",
    "        return 1\n",
    "    elif row['PREVIOUSLY_DIAGNOSED_WITH_TOBACCO_USE_DISORDER'] == 'No [THE DISCHARGE INTERVIEW IS COMPLETE.]':\n",
    "        return 0\n",
    "    elif row['PREVIOUSLY_DIAGNOSED_WITH_TOBACCO_USE_DISORDER'] == -9:\n",
    "        return -9\n",
    "    \n",
    "#Creating column PreviouslyDiagnosedTUD via applying the function \n",
    "df['PreviouslyDiagnosedTUD'] = df.apply(PreviouslyDiagnosedTUD, axis = 1)"
   ]
  },
  {
   "cell_type": "code",
   "execution_count": 63,
   "id": "def653eb",
   "metadata": {},
   "outputs": [],
   "source": [
    "df['MEDICATIONS_RECEIVED_FOR_TOBACCO_USE_DISORDER_IN_PAST_30_DAYS'] = df['MEDICATIONS_RECEIVED_FOR_TOBACCO_USE_DISORDER_IN_PAST_30_DAYS'].str.split(',').str[0]\n",
    "\n",
    "def kTUDMedNicotineRepl (row):\n",
    "    if row['PreviouslyDiagnosedTUD'] == -9:\n",
    "        return -1\n",
    "    elif row['MEDICATIONS_RECEIVED_FOR_TOBACCO_USE_DISORDER_IN_PAST_30_DAYS'] == 'Nicotine Replacement':\n",
    "        return 1\n",
    "    else:\n",
    "        return 0  \n",
    "df['kTUDMedNicotineRepl'] = df.apply(kTUDMedNicotineRepl, axis =1 )"
   ]
  },
  {
   "cell_type": "code",
   "execution_count": 64,
   "id": "95586232",
   "metadata": {},
   "outputs": [],
   "source": [
    "def kTUDMedNicotineReplDays (row):\n",
    "    if row['kTUDMedNicotineRepl'] == 1:\n",
    "        return row['NICOTINE_REPLACEMENT_NUMBER_OF_DAYS']\n",
    "    else:\n",
    "        pass\n",
    "df['kTUDMedNicotineReplDays'] = df.apply(kTUDMedNicotineReplDays, axis = 1)"
   ]
  },
  {
   "cell_type": "code",
   "execution_count": 65,
   "id": "ceaba7ee",
   "metadata": {},
   "outputs": [],
   "source": [
    "def kTUDMedBupropion (row):\n",
    "    if row['PreviouslyDiagnosedTUD'] == -9:\n",
    "        return -1\n",
    "    elif row['MEDICATIONS_RECEIVED_FOR_TOBACCO_USE_DISORDER_IN_PAST_30_DAYS'] == 'Bupropion':\n",
    "        return 1\n",
    "    else:\n",
    "        return 0\n",
    "df['kTUDMedBupropion'] = df.apply(kTUDMedBupropion, axis = 1)"
   ]
  },
  {
   "cell_type": "code",
   "execution_count": 66,
   "id": "bc040f2f",
   "metadata": {},
   "outputs": [],
   "source": [
    "def kTUDMedBupropionDays (row):\n",
    "    if row['kTUDMedBupropion'] == 1:\n",
    "        return row['BUPROPION_NUMBER_OF_DAYS']\n",
    "    else:\n",
    "        pass\n",
    "df['kTUDMedBupropionDays'] = df.apply(kTUDMedBupropionDays, axis = 1)"
   ]
  },
  {
   "cell_type": "code",
   "execution_count": 67,
   "id": "0158d4e8",
   "metadata": {},
   "outputs": [],
   "source": [
    "def kTUDMedVarenicline (row):\n",
    "    if row['PreviouslyDiagnosedTUD'] == -9:\n",
    "        return -1\n",
    "    elif row ['MEDICATIONS_RECEIVED_FOR_TOBACCO_USE_DISORDER_IN_PAST_30_DAYS'] == 'Varenicline':\n",
    "        return 1\n",
    "    else:\n",
    "        return 0\n",
    "    \n",
    "df['kTUDMedVarenicline'] = df.apply(kTUDMedVarenicline, axis = 1)"
   ]
  },
  {
   "cell_type": "code",
   "execution_count": 68,
   "id": "6a585bc2",
   "metadata": {},
   "outputs": [],
   "source": [
    "def kTUDMedVareniclineDays (row):\n",
    "    if row['kTUDMedVarenicline'] == 1:\n",
    "        return row['VARENICLINE_NUMBER_OF_DAYS']\n",
    "    else:\n",
    "        pass\n",
    "df['kTUDMedVareniclineDays'] = df.apply(kTUDMedVareniclineDays, axis = 1)"
   ]
  },
  {
   "cell_type": "code",
   "execution_count": 69,
   "id": "a517c03f",
   "metadata": {},
   "outputs": [],
   "source": [
    "def kTUDMedNotReceived (row):\n",
    "    if row['PreviouslyDiagnosedTUD'] == -9:\n",
    "        return -1\n",
    "    elif row['MEDICATIONS_RECEIVED_FOR_TOBACCO_USE_DISORDER_IN_PAST_30_DAYS'] == 'Client did not receive an FDA-approved medication for a tobacco use disorder [THE DISCHARGE INTERVIEW IS COMPLETE.]':\n",
    "        return 1\n",
    "    else:\n",
    "        return 0\n",
    "df['kTUDMedNotReceived'] = df.apply(kTUDMedNotReceived, axis = 1)"
   ]
  },
  {
   "cell_type": "code",
   "execution_count": 70,
   "id": "ea7f75be",
   "metadata": {},
   "outputs": [],
   "source": [
    "def TUDMedTakenAsPrescribed (row):\n",
    "    if row['PreviouslyDiagnosedTUD'] == -9:\n",
    "        return -1\n",
    "    elif row['kTUDMedNicotineRepl'] == 1:\n",
    "        return 1\n",
    "    elif row['kTUDMedBupropion'] == 1:\n",
    "        return 1\n",
    "    elif row['kTUDMedVarenicline'] == 1:\n",
    "        return 1\n",
    "    else:\n",
    "        return 0\n",
    "df['TUDMedTakenAsPrescribed'] = df.apply(TUDMedTakenAsPrescribed, axis = 1)"
   ]
  },
  {
   "cell_type": "code",
   "execution_count": 71,
   "id": "bd53f9c6",
   "metadata": {},
   "outputs": [],
   "source": [
    "# creating datetime object\n",
    "now = dt.now().strftime('%m/%d/%Y')\n",
    "\n",
    "#Creating the IntakeDate and InterviewCreateDate columns \n",
    "df['InterviewCreateDate'] = now"
   ]
  },
  {
   "cell_type": "code",
   "execution_count": 72,
   "id": "25062e0f",
   "metadata": {},
   "outputs": [],
   "source": [
    "#Renaming column to create column SvcRecoveryPlanning\n",
    "df.rename(columns = {'RECOVERY_PLANNING_NUMBER_OF_SESSIONS_RECEIVED_1':'SvcRecoveryPlanning'},inplace = True)\n",
    "\n",
    "#Replacing null values with 0\n",
    "df['SvcRecoveryPlanning'] = df['SvcRecoveryPlanning'].fillna(0)"
   ]
  },
  {
   "cell_type": "code",
   "execution_count": 73,
   "id": "24a3cac2",
   "metadata": {},
   "outputs": [],
   "source": [
    "#Inserting blank columns from section H\n",
    "\n",
    "section_h_blank_col = [\n",
    "'ReunitedChild',\n",
    "'ReunitedChildWithAgcySupe',\n",
    "'ReunitedChildWithoutAgcySupe',\n",
    "'AvoidedOutOfHomePlacement',\n",
    "'H1NoneOfAbove',\n",
    "'HelpObPrivateHealthInsurance',\n",
    "'HelpObMedicaid',\n",
    "'HelpObMedicare',\n",
    "'HelpObSSIOrSSDI',\n",
    "'HelpObTANF',\n",
    "'HelpObSNAP',\n",
    "'HelpObOtherBenefit',\n",
    "'HelpObOtherBenefitSpec',\n",
    "'HelpObNoneOfTheAbove',\n",
    "'EnrolledInSchool',\n",
    "'EnrolledInSchoolHelp',\n",
    "'EnrolledInVocTraining',\n",
    "'EnrolledInVocTrainingHelp',\n",
    "'CurrentlyEmployed',\n",
    "'CurrentlyEmployedHelp',\n",
    "'LivingInStableHousing',\n",
    "'LivingInStableHousingHelp',\n",
    "'MaintainFamilyResponsibilities',\n",
    "'SupportToParentingAndRecovery',\n",
    "'EnableFocusOnTreatment',\n",
    "'SupportToParentingAndRecoveryH5',\n",
    "'SexActivity',\n",
    "'SexContacts',\n",
    "'SexUnprot',\n",
    "'SexUnprotectedHIV',\n",
    "'SexUnprotectedInjDrugUser',\n",
    "'SexUnprotectedHigh',\n",
    "'PrEPOrTreat',\n",
    "'HIVTestH',\n",
    "'HIVTestFirstTime',\n",
    "'HIVTestLocation',\n",
    "'HIVTestReferralLocation',\n",
    "'HIVTestReferralLocationSpec',\n",
    "'HIVTestResultH',\n",
    "'HIVTestConfirmatory',\n",
    "'HIVTestConfirmatoryRes',\n",
    "'TreatmentForHIVH',\n",
    "'TreatmentForHIVLocation',\n",
    "'TreatmentForHIVLocationSpec',\n",
    "'HIVTestingPartners',\n",
    "'HIVTestingPartnersNumber',\n",
    "'HIVReferredPreEP',\n",
    "'HIVReferredPEP',\n",
    "'HIVReferredCounseling',\n",
    "'HIVReferredNoMedications',\n",
    "'HIVReferredNoCounseling',\n",
    "'HCVTest',\n",
    "'HCVTestConfirmatory',\n",
    "'HCVTestResult',\n",
    "'TreatmentForHCV',\n",
    "'HBVTest',\n",
    "'HBVTestResult',\n",
    "'TreatmentForHBV',\n",
    "'HepABVacc',\n",
    "'HepABVaccReferral',\n",
    "'PeerSupport',\n",
    "'EnrolledInSchoolH8',\n",
    "'EnrolledInSchoolHelpH8',\n",
    "'EnrolledInVocTrainingH8',\n",
    "'EnrolledInVocTrainingHelpH8',\n",
    "'CurrentlyEmployedH8',\n",
    "'CurrentlyEmployedHelpH8',\n",
    "'LivingInStableHousingH8',\n",
    "'LivingInStableHousingHelpH8',\n",
    "'QualityOfLife',\n",
    "'CommunicateWithProvider',\n",
    "'ReduceSubstanceUse',\n",
    "'ManageMentalHealthSymptoms',\n",
    "'SupportRecovery',\n",
    "'MentalHealthDisorderScreen',\n",
    "'MentalHealthServiceReferred',\n",
    "'MentalHealthServiceReceived',\n",
    "'CoOccurringDisorderScreen',\n",
    "'CoOccurringServiceReferred',\n",
    "'CoOccurringServiceReceived',\n",
    "'HelpedAvoidJusticeSystem'\n",
    "\n",
    "]\n",
    "\n",
    "df[section_h_blank_col] = df[section_h_blank_col] = ''"
   ]
  },
  {
   "cell_type": "code",
   "execution_count": 74,
   "id": "cc730e05",
   "metadata": {},
   "outputs": [],
   "source": [
    "#Creating QAOnly column\n",
    "df['QAOnly'] = ''"
   ]
  },
  {
   "cell_type": "markdown",
   "id": "7f5a6380",
   "metadata": {},
   "source": [
    "## Exporting GPRA 6"
   ]
  },
  {
   "cell_type": "code",
   "execution_count": 75,
   "id": "08e4bd6c",
   "metadata": {},
   "outputs": [],
   "source": [
    "#Creating variable to export GPRA 6\n",
    "GPRA6_STAR = df[['ClientID','FLWPClientContacted',\t'FLWPStatus',\t'FLWPStatusSpec',\t'ReceivingServices',\t'DischargeDate',\t'DischargeStatusCompl',\t'DischargeStatusTermReason',\t'OtherDischargeStatTermRsnSpec',\t'jHIVTest',\t'jHIVTestResult',\t'ODPreventionToolsProvided',\t'VaccinatedStatusCOVID19',\t'SvcCaseManagement',\t'SvcIntensiveOutpatient',\t'SvcInpatient',\t'SvcOutpatient',\t'SvcOutreach',\t'SvcMethadone',\t'SvcBuprenorphine',\t'SvcNaltrexoneShortActing',\t'SvcNaltrexoneLongActing',\t'SvcDisulfiram',\t'SvcAcamprosate',\t'SvcNicotineReplacement',\t'SvcBupropion',\t'SvcVarenicline',\t'SvcResidentialRehab',\t'SvcHospitalInpatient',\t'SvcFreeStandingRes',\t'SvcAmbulatoryDetox',\t'SvcAfterCare',\t'SvcRecoverySupport',\t'SvcOtherModalities',\t'SvcOtherModalitesSpec',\t'SvcScreening',\t'SvcBriefIntervention',\t'SvcBriefTreatment',\t'SvcReferralTreatment',\t'SvcAssessment',\t'SvcTreatmentPlanning',\t'SvcRecoveryPlanning',\t'SvcIndividualCouns',\t'SvcGroupCouns',\t'SvcContingencyManagement',\t'SvcCommunityReinforcement',\t'SvcCBT',\t'SvcFamilyMarriageCouns',\t'SvcCoOccurring',\t'SvcPharmacological',\t'SvcHIVAIDSCouns',\t'SvcCulturalInterventions',\t'SvcOtherClinicalCouns',\t'SvcOtherClinicalCounsSpec',\t'SvcFamilyServices',\t'SvcChildCare',\t'SvcPreEmployment',\t'SvcEmploymentCoaching',\t'SvcIndividualCoord',\t'SvcTransportation',\t'SvcHIVAIDSServices',\t'SvcDrugFreeHousing',\t'SvcHousingSupport',\t'SvcHealthInsuranceEnrollment',\t'SvcOtherCaseMgmt',\t'SvcOtherCaseMgmtSpec',\t'SvcMedicalCare',\t'SvcAlcoholDrugTesting',\t'SvcOBGYN',\t'SvcHIVAIDSMedical',\t'SvcHepatitisSupport',\t'SvcOtherSTISupport',\t'SvcDental','SvcOtherMedical','SvcOtherMedicalSpec',\t'SvcContinuingCare',\t'SvcRelapsePrevention',\t'SvcRecoveryCoaching',\t'SvcSelfHelpSupport',\t'SvcSpiritualSupport',\t'SvcOtherAfterCare',\t'SvcOtherAfterCareSpec',\t'SvcSubstanceAbuseEdu',\t'SvcHIVAIDSEdu',\t'SvcHepatitisEdu',\t'SvcOtherSTIEdu',\t'SvcNaloxoneTraining',\t'SvcFentanylTestStripTraining',\t'SvcOtherEdu',\t'SvcOtherEduSpec',\t'SvcPeerCoaching',\t'SvcVocational',\t'SvcRecoveryHousing',\t'SvcRecoveryPlanningRSS',\t'SvcRecoveryCaseManagement',\t'SvcDrugFreeSocial',\t'SvcInformationReferral',\t'SvcOtherRecoverySupport',\t'SvcOtherRecoverySupportSpec',\t'SvcOtherPeerRecovery',\t'SvcOtherPeerRecoverySpec',\t'AttendedMostPlannedServices',\t'ReceivedTelehealthServices',\t'PreviouslyDiagnosedOUD',\t'kOUDMedMethadone',\t'kOUDMedMethadoneDays',\t'kOUDMedBuprenorphine',\t'kOUDMedBuprenorphineDays',\t'kOUDMedNaltrexone',\t'kOUDMedNaltrexoneDays',\t'kOUDMedXRNaltrexone','kOUDMedXRNaltrexoneDoses',\t'kOUDMedNotReceived',\t'OUDMedTakenAsPrescribed',\t'PreviouslyDiagnosedAUD',\t'kAUDMedNaltrexone',\t'kAUDMedNaltrexoneDays',\t'kAUDMedXRNaltrexone',\t'kAUDMedXRNaltrexoneDoses',\t'kAUDMedDisulfiram',\t'kAUDMedDisulfiramDays',\t'kAUDMedAcamprosate',\t'kAUDMedAcamprosateDays',\t'kAUDMedNotReceived',\t'AUDMedTakenAsPrescribed',\t'PreviouslyDiagnosedStUD',\t'kStUDIntContMgmt',\t'kStUDIntContMgmtDays',\t'kStUDIntCommReinf',\t'kStUDIntCommReinfDays',\t'kStUDIntCBT',\t'kStUDIntCBTDays',\t'kStUDIntOther',\t'kStUDIntOtherDays',\t'kStUDIntNotReceived',\t'StUDIntAttended',\t'PreviouslyDiagnosedTUD',\t'kTUDMedNicotineRepl',\t'kTUDMedNicotineReplDays',\t'kTUDMedBupropion',\t'kTUDMedBupropionDays',\t'kTUDMedVarenicline',\t'kTUDMedVareniclineDays',\t'kTUDMedNotReceived',\t'TUDMedTakenAsPrescribed','ReunitedChild',\t'ReunitedChildWithAgcySupe',\t'ReunitedChildWithoutAgcySupe',\t'AvoidedOutOfHomePlacement',\t'H1NoneOfAbove',\t'HelpObPrivateHealthInsurance',\t'HelpObMedicaid',\t'HelpObMedicare',\t'HelpObSSIOrSSDI',\t'HelpObTANF',\t'HelpObSNAP',\t'HelpObOtherBenefit',\t'HelpObOtherBenefitSpec',\t'HelpObNoneOfTheAbove',\t'EnrolledInSchool',\t'EnrolledInSchoolHelp',\t'EnrolledInVocTraining',\t'EnrolledInVocTrainingHelp',\t'CurrentlyEmployed',\t'CurrentlyEmployedHelp',\t'LivingInStableHousing',\t'LivingInStableHousingHelp',\t'MaintainFamilyResponsibilities',\t'SupportToParentingAndRecovery',\t'EnableFocusOnTreatment',\t'SupportToParentingAndRecoveryH5',\t'SexActivity',\t'SexContacts',\t'SexUnprot',\t'SexUnprotectedHIV',\t'SexUnprotectedInjDrugUser',\t'SexUnprotectedHigh',\t'PrEPOrTreat',\t'HIVTestH',\t'HIVTestFirstTime',\t'HIVTestLocation',\t'HIVTestReferralLocation',\t'HIVTestReferralLocationSpec',\t'HIVTestResultH',\t'HIVTestConfirmatory',\t'HIVTestConfirmatoryRes',\t'TreatmentForHIVH',\t'TreatmentForHIVLocation',\t'TreatmentForHIVLocationSpec',\t'HIVTestingPartners',\t'HIVTestingPartnersNumber',\t'HIVReferredPreEP',\t'HIVReferredPEP',\t'HIVReferredCounseling',\t'HIVReferredNoMedications',\t'HIVReferredNoCounseling',\t'HCVTest',\t'HCVTestConfirmatory',\t'HCVTestResult',\t'TreatmentForHCV',\t'HBVTest',\t'HBVTestResult',\t'TreatmentForHBV',\t'HepABVacc',\t'HepABVaccReferral',\t'PeerSupport',\t'EnrolledInSchoolH8',\t'EnrolledInSchoolHelpH8',\t'EnrolledInVocTrainingH8',\t'EnrolledInVocTrainingHelpH8',\t'CurrentlyEmployedH8',\t'CurrentlyEmployedHelpH8',\t'LivingInStableHousingH8',\t'LivingInStableHousingHelpH8',\t'QualityOfLife',\t'CommunicateWithProvider',\t'ReduceSubstanceUse',\t'ManageMentalHealthSymptoms',\t'SupportRecovery',\t'MentalHealthDisorderScreen',\t'MentalHealthServiceReferred',\t'MentalHealthServiceReceived',\t'CoOccurringDisorderScreen',\t'CoOccurringServiceReferred',\t'CoOccurringServiceReceived',\t'HelpedAvoidJusticeSystem','InterviewCreateDate','QAOnly']]\n",
    "\n",
    "\n",
    "#Exporting GPRA 6\n",
    "GPRA6_STAR.to_csv('GPRA6_STAR.csv', index = False, header = True, encoding = 'utf-8')\n",
    "\n"
   ]
  }
 ],
 "metadata": {
  "kernelspec": {
   "display_name": "Python 3 (ipykernel)",
   "language": "python",
   "name": "python3"
  },
  "language_info": {
   "codemirror_mode": {
    "name": "ipython",
    "version": 3
   },
   "file_extension": ".py",
   "mimetype": "text/x-python",
   "name": "python",
   "nbconvert_exporter": "python",
   "pygments_lexer": "ipython3",
   "version": "3.11.4"
  }
 },
 "nbformat": 4,
 "nbformat_minor": 5
}
