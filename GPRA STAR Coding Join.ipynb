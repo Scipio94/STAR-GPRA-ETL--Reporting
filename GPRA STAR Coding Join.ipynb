{
 "cells": [
  {
   "cell_type": "markdown",
   "id": "3ceac960",
   "metadata": {},
   "source": [
    "# Data Joins\n",
    "Joing the multiple CSVs from the GPRA coding project due to the amount of pyton scripts fragmenting the data frame"
   ]
  },
  {
   "cell_type": "code",
   "execution_count": 1,
   "id": "b7955aa0",
   "metadata": {},
   "outputs": [],
   "source": [
    "import pandas as pd\n",
    "import datetime as dt\n",
    "from datetime import datetime"
   ]
  },
  {
   "cell_type": "code",
   "execution_count": 2,
   "id": "40f8f9fe",
   "metadata": {
    "scrolled": true
   },
   "outputs": [],
   "source": [
    "#Importing data\n",
    "GPRA1 = pd.read_csv(r\"\\\\cdchomedir01\\home1\\tyogarro\\Jan GPRA\\GPRA1_STAR.csv\", parse_dates = ['InterviewDate'])\n",
    "GPRA2 = pd.read_csv(r\"\\\\cdchomedir01\\home1\\tyogarro\\Jan GPRA\\GPRA2_STAR.csv\")\n",
    "GPRA3 = pd.read_csv(r\"\\\\cdchomedir01\\home1\\tyogarro\\Jan GPRA\\GPRA3_STAR.csv\")\n",
    "GPRA4 = pd.read_csv(r\"\\\\cdchomedir01\\home1\\tyogarro\\Jan GPRA\\GPRA4_STAR.csv\")\n",
    "GPRA5 = pd.read_csv(r\"\\\\cdchomedir01\\home1\\tyogarro\\Jan GPRA\\GPRA5_STAR.csv\")\n",
    "GPRA6 = pd.read_csv(r\"\\\\cdchomedir01\\home1\\tyogarro\\Jan GPRA\\GPRA6_STAR.csv\")\n",
    "client_id = pd.read_excel(r\"W:\\Research and Evaluation\\STAR\\GPRA\\GPRA Client ID Master List_Full.xlsx\",sheet_name = 'List')\n"
   ]
  },
  {
   "cell_type": "code",
   "execution_count": 3,
   "id": "097e0b0c",
   "metadata": {},
   "outputs": [],
   "source": [
    "#Merging all of the GPRA files\n",
    "Full_GPRA_File = GPRA1.merge(GPRA2, on = 'ClientID', how = 'left')\\\n",
    "            .merge(GPRA3, on = 'ClientID', how = 'left')\\\n",
    "            .merge(GPRA4, on = 'ClientID', how = 'left')\\\n",
    "            .merge(GPRA5, on = 'ClientID', how = 'left')\\\n",
    "            .merge(GPRA6, on = 'ClientID', how = 'left')"
   ]
  },
  {
   "cell_type": "code",
   "execution_count": 4,
   "id": "715a8abe",
   "metadata": {},
   "outputs": [],
   "source": [
    "# dropping duplicates\n",
    "Full_GPRA_File = Full_GPRA_File.drop_duplicates()"
   ]
  },
  {
   "cell_type": "code",
   "execution_count": 5,
   "id": "4284c6ff",
   "metadata": {},
   "outputs": [],
   "source": [
    "#Adding ClientOD\n",
    "client_id = client_id[['PATIENT','GPRA ID']] # <-Subsetting\n",
    "client_id.rename(columns = {'GPRA ID':'ClientID'}, inplace = True)"
   ]
  },
  {
   "cell_type": "code",
   "execution_count": 6,
   "id": "c360d263",
   "metadata": {},
   "outputs": [],
   "source": [
    "#Subsetting dataset for merge to create IntakeDate Column \n",
    "Intake_Date_Merge = Full_GPRA_File[['ClientID','InterviewType','InterviewDate']]\n",
    "\n",
    "#Filtering dataset for intake\n",
    "Intake_Date_Merge = Intake_Date_Merge[Intake_Date_Merge['InterviewType'] == 1]\n",
    "\n",
    "#Subsetting dataset further\n",
    "Intake_Date_Merge = Intake_Date_Merge[['ClientID', 'InterviewDate']]\n",
    "\n",
    "#Renaming columns\n",
    "Intake_Date_Merge.rename(columns = {'InterviewDate':'IntakeDate'}, inplace = True)\n",
    "\n",
    "#Merging files\n",
    "Full_GPRA_File_STAR = Full_GPRA_File.merge(Intake_Date_Merge, on= 'ClientID', how = 'left')\n",
    "\n",
    "# Merging file to return client_id\n",
    "Full_GPRA_File_STAR = Full_GPRA_File_STAR.merge(client_id, on = 'PATIENT', how = 'left') # <- returning ClientIDs\n",
    "\n",
    "Full_GPRA_File_STAR = Full_GPRA_File_STAR[Full_GPRA_File_STAR['PROVIDER_COUNTY'] != 'Monmouth'] # <- excluding Monmouth County"
   ]
  },
  {
   "cell_type": "code",
   "execution_count": 7,
   "id": "7ec2395b",
   "metadata": {},
   "outputs": [
    {
     "data": {
      "text/plain": [
       "array(['Hudson', 'Essex', 'Middlesex', nan], dtype=object)"
      ]
     },
     "execution_count": 7,
     "metadata": {},
     "output_type": "execute_result"
    }
   ],
   "source": [
    "Full_GPRA_File_STAR['PROVIDER_COUNTY'].unique() # <- QA Provider County"
   ]
  },
  {
   "cell_type": "markdown",
   "id": "d459510c",
   "metadata": {},
   "source": [
    "## Current Upload: 09.09.24- 10.06.24\n",
    "\n",
    "## Next Upload: "
   ]
  },
  {
   "cell_type": "code",
   "execution_count": 8,
   "id": "81397343",
   "metadata": {},
   "outputs": [],
   "source": [
    "# Date Filter for current date range and eliminating non interviews\n",
    "Full_GPRA_File_STAR = Full_GPRA_File_STAR[(Full_GPRA_File_STAR['InterviewDate']>= '2024-09-09') & (Full_GPRA_File_STAR['ConductedInterview'] != 0)]\n"
   ]
  },
  {
   "cell_type": "code",
   "execution_count": 9,
   "id": "e3205226",
   "metadata": {},
   "outputs": [],
   "source": [
    "# Full_GPRA_File_STAR = Full_GPRA_File_STAR[Full_GPRA_File_STAR['ConductedInterview'] != 0]"
   ]
  },
  {
   "cell_type": "code",
   "execution_count": 10,
   "id": "f6635b0e",
   "metadata": {},
   "outputs": [],
   "source": [
    "#Exporting GPRA full file\n",
    "\n",
    "Full_GPRA_File_STAR.to_excel('Full_GPRA_File_STAR.xlsx', index = False, header = True)\n"
   ]
  }
 ],
 "metadata": {
  "kernelspec": {
   "display_name": "Python 3 (ipykernel)",
   "language": "python",
   "name": "python3"
  },
  "language_info": {
   "codemirror_mode": {
    "name": "ipython",
    "version": 3
   },
   "file_extension": ".py",
   "mimetype": "text/x-python",
   "name": "python",
   "nbconvert_exporter": "python",
   "pygments_lexer": "ipython3",
   "version": "3.11.4"
  }
 },
 "nbformat": 4,
 "nbformat_minor": 5
}
