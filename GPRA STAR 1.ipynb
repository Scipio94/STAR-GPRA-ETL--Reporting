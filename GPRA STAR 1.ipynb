{
 "cells": [
  {
   "cell_type": "markdown",
   "id": "2498c9fd",
   "metadata": {},
   "source": [
    "# GRPA Coding\n",
    "\n",
    "Goverment Perfromance and Results Act (GPRA) coding for intake data of recovery specialist for the Institure for Prevention and Recovery (IFPR) at RWJ Baranabas"
   ]
  },
  {
   "cell_type": "code",
   "execution_count": 1,
   "id": "7e487610",
   "metadata": {},
   "outputs": [],
   "source": [
    "#importing pandas\n",
    "import pandas as pd\n",
    "import numpy as np"
   ]
  },
  {
   "cell_type": "code",
   "execution_count": 2,
   "id": "e9ffe513",
   "metadata": {},
   "outputs": [],
   "source": [
    "# importing data and parsing datetime columns\n",
    "df = pd.read_csv(r\"\\\\cdchomedir01\\home1\\tyogarro\\Jan GPRA\\GPRA_Coding_File.csv\", parse_dates = ['ADMIT_DT','FORM_DTTM','FORM_UPDATE_DTTM'\n",
    "])\n",
    "\n",
    "#subsetting to include Peer Recovery Program episodes\n",
    "df = df[df['EPISODE'] =='IFPR - STAR Program'].sort_values(by = ['FORM_DTTM','MRN']) # <- sorting df"
   ]
  },
  {
   "cell_type": "code",
   "execution_count": 3,
   "id": "77e5749a",
   "metadata": {},
   "outputs": [],
   "source": [
    "# creating BatchID column\n",
    "df['BatchID'] = '' "
   ]
  },
  {
   "cell_type": "code",
   "execution_count": 4,
   "id": "8264180c",
   "metadata": {
    "scrolled": true
   },
   "outputs": [],
   "source": [
    "df.rename(columns = {'CSN':'ClientID'},inplace = True)\n",
    "df['ClientID'] = df['ClientID'].str.split(',').str[0]"
   ]
  },
  {
   "cell_type": "code",
   "execution_count": 5,
   "id": "eac2b7c5",
   "metadata": {},
   "outputs": [],
   "source": [
    "df['PROVIDER_COUNTY'] = df['PROVIDER_COUNTY'].str.split(',').str[0]"
   ]
  },
  {
   "cell_type": "code",
   "execution_count": 6,
   "id": "b8898934",
   "metadata": {},
   "outputs": [],
   "source": [
    "#function for days columns that exceed 30 days\n",
    "def exceed_thirty_days(x):\n",
    "    if x > 30:\n",
    "        return 30\n",
    "    else:\n",
    "        return x"
   ]
  },
  {
   "cell_type": "markdown",
   "id": "26d1cbf3",
   "metadata": {},
   "source": [
    "## Creating GPRA 1"
   ]
  },
  {
   "cell_type": "code",
   "execution_count": 7,
   "id": "4ec68be5",
   "metadata": {},
   "outputs": [],
   "source": [
    "#Creating function to create column ClientDescripTreat\n",
    "def Client_Descrip_Treat (x):\n",
    "    if x == 'Treatment grant client':\n",
    "        return 1\n",
    "    else:\n",
    "        return 0 \n",
    "    \n",
    "#Creating column ClientDescripTreat via applying function Client_Descrip_Treat\n",
    "df['ClientDescripTreat'] = df['CLIENT_TYPE'].apply(lambda x: Client_Descrip_Treat (x))"
   ]
  },
  {
   "cell_type": "code",
   "execution_count": 8,
   "id": "68727178",
   "metadata": {},
   "outputs": [],
   "source": [
    "#Creating function to create column ClientDescripRecov\n",
    "def Client_Descrip_Recov (x):\n",
    "    if x == 'Client in recovery grant':\n",
    "        return 1\n",
    "    else:\n",
    "        return 0\n",
    "    \n",
    "#Creating column ClientDescripRecov via applying function Client_Descrip_Recov\n",
    "df['ClientDescripRecov'] = df['CLIENT_TYPE'].apply(lambda x: Client_Descrip_Recov (x))"
   ]
  },
  {
   "cell_type": "code",
   "execution_count": 9,
   "id": "ee7222f0",
   "metadata": {},
   "outputs": [],
   "source": [
    "#Creating column GrantNo column\n",
    "df['GrantNo'] = 'TI085743'"
   ]
  },
  {
   "cell_type": "code",
   "execution_count": 10,
   "id": "4ce7a70d",
   "metadata": {},
   "outputs": [],
   "source": [
    "#Creating function for interview type\n",
    "def interview_type_code(x):\n",
    "    if x == 'Intake':\n",
    "        return 1\n",
    "    elif x == '6-month follow-up':\n",
    "        return 2\n",
    "    elif x == '3-month follow-up':\n",
    "        return 4\n",
    "    elif x == 'Discharge':\n",
    "        return 5\n",
    "    \n",
    "#Creating new column via applying interview_type_code function to values in interview type column\n",
    "df['InterviewType'] = df['INTERVIEW_TYPE'].apply(lambda x: interview_type_code(x))"
   ]
  },
  {
   "cell_type": "code",
   "execution_count": 11,
   "id": "0e9123d7",
   "metadata": {},
   "outputs": [],
   "source": [
    "#Creating function for conducted interview\n",
    "def conducted_interview(x):\n",
    "    if x == '6-month follow-up' or x == '3-month follow-up' or x == 'Discharge' or x == 'Intake':\n",
    "        return 1\n",
    "    else:\n",
    "        return 0\n",
    "    \n",
    "# Creating a new column via applying the conducted_interview function to the values in the interview type column\n",
    "df['ConductedInterview'] = df['INTERVIEW_TYPE'].apply(lambda x: conducted_interview(x))"
   ]
  },
  {
   "cell_type": "code",
   "execution_count": 12,
   "id": "8fe7a169",
   "metadata": {},
   "outputs": [],
   "source": [
    "#Renaming column to InterviewDate and changing data type to output in the format MM/DD/YYYY\n",
    "df['InterviewDate'] = df['FORM_DTTM'].dt.strftime('%m/%d/%Y')"
   ]
  },
  {
   "cell_type": "code",
   "execution_count": 13,
   "id": "295c407e",
   "metadata": {},
   "outputs": [
    {
     "data": {
      "text/plain": [
       "29      01/26/2023\n",
       "696     01/27/2023\n",
       "310     01/27/2023\n",
       "586     01/27/2023\n",
       "234     01/27/2023\n",
       "           ...    \n",
       "2457    09/03/2024\n",
       "2461    09/04/2024\n",
       "2460    09/04/2024\n",
       "2466    09/06/2024\n",
       "2465    09/06/2024\n",
       "Name: InterviewDate, Length: 1299, dtype: object"
      ]
     },
     "execution_count": 13,
     "metadata": {},
     "output_type": "execute_result"
    }
   ],
   "source": [
    "# Quality check\n",
    "df['InterviewDate'] "
   ]
  },
  {
   "cell_type": "code",
   "execution_count": 14,
   "id": "4ce98c6d",
   "metadata": {},
   "outputs": [],
   "source": [
    "#Creating InactFlag Column\n",
    "df['MRN_CNT'] = df.groupby(['PATIENT'])['MRN'].transform('count') # <- will return count of MRN the length of df\n",
    "df['MAX_ADMIT_DT'] = df.groupby(['PATIENT'])['ADMIT_DT'].transform('max') # <- will return MAX ADMIT_DT the length of df\n",
    "\n",
    "# Function across multiple columns\n",
    "def inactflag (row):\n",
    "    if row['MRN_CNT'] == 1:\n",
    "        return 0\n",
    "    elif row['MRN_CNT'] > 1 and row['ADMIT_DT'] == row['MAX_ADMIT_DT']:\n",
    "        return 0\n",
    "    else:\n",
    "        return 1\n",
    "df['InactFlag'] = df.apply(inactflag, axis =1 ) # <- axis 1 will apply function across columns "
   ]
  },
  {
   "cell_type": "code",
   "execution_count": 15,
   "id": "ff92d532",
   "metadata": {},
   "outputs": [],
   "source": [
    "# Rolling Count to create IntakeSeqNum column\n",
    "df['IntakeSeqNum'] = df.groupby('MRN')['ADMIT_DT'].cumcount() + 1 # <- rolling count +1 to start count at 1"
   ]
  },
  {
   "cell_type": "code",
   "execution_count": 16,
   "id": "ea450fcf",
   "metadata": {},
   "outputs": [],
   "source": [
    "# Assigning 0 for active grants\n",
    "df['GrantInactFlag'] = 0"
   ]
  },
  {
   "cell_type": "code",
   "execution_count": 17,
   "id": "c577159d",
   "metadata": {},
   "outputs": [],
   "source": [
    "#Creating a function for Quarter\n",
    "def year_qt (x):\n",
    "    if x in [10,11,12]: # <- in kwarg that references a list \n",
    "        return 1\n",
    "    elif x in [1,2,3]:\n",
    "        return 2\n",
    "    elif x in [4,5,6]:\n",
    "        return 3\n",
    "    elif x in [7,8,9]:\n",
    "        return 4    "
   ]
  },
  {
   "cell_type": "code",
   "execution_count": 18,
   "id": "437da9c0",
   "metadata": {},
   "outputs": [],
   "source": [
    "#Extracting year from ADMIT_DT to create column FFY\n",
    "df['FFY'] = df['ADMIT_DT'].dt.year\n",
    "\n",
    "#Extracting year from ADMIT_DT to create column Month\n",
    "df['Month'] =  df['ADMIT_DT'].dt.month\n",
    "\n",
    "#Extracting year from ADMIT_DT to create column Quarter\n",
    "df['Quarter'] =  df['Month'].apply(lambda x: year_qt (x))\n",
    "\n",
    "# Convering DOB to datetime format\n",
    "df['DOB'] = pd.to_datetime(df['DOB'])\n",
    "\n",
    "# Extracting year from DOB to create column BirthYear\n",
    "df['BirthMonth'] = df['DOB'].dt.month\n",
    "\n",
    "# Extracting year from DOB to create column BirthYear\n",
    "df['BirthYear'] = df['DOB'].dt.year\n",
    "\n",
    "# Calculating Age\n",
    "df['Age'] = df['FFY'] - df['BirthYear']\n",
    "\n",
    "# Creating function for Age Group\n",
    "def age_group(x):\n",
    "    if x >= 18 and x < 25:\n",
    "        return 2\n",
    "    elif x >= 25 and x < 35:\n",
    "        return 3\n",
    "    elif x >= 35 and x < 45:\n",
    "        return 4\n",
    "    elif  x >= 45 and x < 55:\n",
    "        return 5\n",
    "    elif x >=55 and x < 65:\n",
    "        return 6\n",
    "    elif x >= 65:\n",
    "        return 7\n",
    "    else:\n",
    "        return -9\n",
    "    \n",
    "#Creating a new column via applying age_group function to values in age column\n",
    "df['AgeGroup'] = df['Age'].apply(lambda x: age_group(x))"
   ]
  },
  {
   "cell_type": "code",
   "execution_count": 19,
   "id": "0bd4cce1",
   "metadata": {},
   "outputs": [],
   "source": [
    "#Creating function for gender code \n",
    "def gender_code(x):\n",
    "    if x == 'Male':\n",
    "        return 1\n",
    "    elif x == 'Female':\n",
    "        return 2\n",
    "    else:\n",
    "        return 7\n",
    "\n",
    "#Creating new column via applying gender_code function to values in Gender column\n",
    "df['Gender'] = df['GENDER'].apply(lambda x: gender_code(x))\n",
    "\n",
    "#Renaming column to create column GenderSpec\n",
    "df.rename(columns = {'WHAT_DO_YOU_CONSIDER_YOURSELF_TO_BE_OTHER':'GenderSpec'}, inplace = True)"
   ]
  },
  {
   "cell_type": "code",
   "execution_count": 20,
   "id": "55d830e4",
   "metadata": {},
   "outputs": [],
   "source": [
    "#Creating a function for HispanicLatino Column\n",
    "def Hispanic_Latino (x):\n",
    "    if x == 'Yes':\n",
    "        return 1\n",
    "    elif x == 'No (Skip to Question 3)':\n",
    "        return 0\n",
    "    elif  x == 'REFUSED (Skip to Question 3)':\n",
    "        return -7\n",
    "    else:\n",
    "        return -9\n",
    "    \n",
    "#Creating new column HispanicLatino via applying Hispanic_Latino function to the values of the 'HISPANIC_LATIN_SPANISH_ORIGIN' column\n",
    "df['HispanicLatino'] = df['HISPANIC_LATIN_SPANISH_ORIGIN'].apply(lambda x: Hispanic_Latino (x))"
   ]
  },
  {
   "cell_type": "code",
   "execution_count": 21,
   "id": "cb19774c",
   "metadata": {},
   "outputs": [],
   "source": [
    "#Inputing 'NaN' for missing values in the WHAT_ETHNIC_GROUP_DO_YOU_CONSIDER_YOURSELF column\n",
    "df['WHAT_ETHNIC_GROUP_DO_YOU_CONSIDER_YOURSELF'] = df['WHAT_ETHNIC_GROUP_DO_YOU_CONSIDER_YOURSELF'].fillna('NaN')\n",
    "\n",
    "#Creating substrings\n",
    "df['WHAT_ETHNIC_GROUP_DO_YOU_CONSIDER_YOURSELF'] = df['WHAT_ETHNIC_GROUP_DO_YOU_CONSIDER_YOURSELF'].str.split(',').str[0]\n",
    "\n",
    "#Creating a function for column EthnicCentranAmerican\n",
    "def Central_American(x):\n",
    "    if x == 'Central American':\n",
    "        return 1\n",
    "    elif x ==  'REFUSED':\n",
    "        return -7\n",
    "    elif x == 'NaN':\n",
    "        return -1\n",
    "    else:\n",
    "        return 0\n",
    "    \n",
    "#Creating new column EthnicCentralAmerican via applying the Central_American function\n",
    "df['EthnicCentralAmerican'] = df['WHAT_ETHNIC_GROUP_DO_YOU_CONSIDER_YOURSELF'].apply(lambda x:Central_American(x))"
   ]
  },
  {
   "cell_type": "code",
   "execution_count": 22,
   "id": "54328cb3",
   "metadata": {},
   "outputs": [],
   "source": [
    "#Creating a function for column EthnicCuban\n",
    "def Cuban(x):\n",
    "    if x == 'Cuban':\n",
    "        return 1\n",
    "    elif x ==  'REFUSED':\n",
    "        return -7\n",
    "    elif x == 'NaN':\n",
    "        return -1\n",
    "    else:\n",
    "        return 0\n",
    "    \n",
    "    \n",
    "#Creating new column EthnicCuban via applying the Cuban function\n",
    "df['EthnicCuban'] = df['WHAT_ETHNIC_GROUP_DO_YOU_CONSIDER_YOURSELF'].apply(lambda x:Cuban(x))"
   ]
  },
  {
   "cell_type": "code",
   "execution_count": 23,
   "id": "51a22a1c",
   "metadata": {},
   "outputs": [],
   "source": [
    "#Creating a function for column EthnicDominican\n",
    "def DR(x):\n",
    "    if x == 'Dominican':\n",
    "        return 1\n",
    "    elif x ==  'REFUSED':\n",
    "        return -7\n",
    "    elif x == 'NaN':\n",
    "        return -1\n",
    "    else:\n",
    "        return 0\n",
    "    \n",
    "    \n",
    "#Creating new column EthnicDominican via applying the DR function\n",
    "df['EthnicDominican'] = df['WHAT_ETHNIC_GROUP_DO_YOU_CONSIDER_YOURSELF'].apply(lambda x:DR(x))"
   ]
  },
  {
   "cell_type": "code",
   "execution_count": 24,
   "id": "4f5f34d5",
   "metadata": {},
   "outputs": [],
   "source": [
    " #Creating a function for column EthnicMexican\n",
    "def Mexican(x):\n",
    "    if x == 'Mexican':\n",
    "        return 1\n",
    "    elif x ==  'REFUSED':\n",
    "        return -7\n",
    "    elif x == 'NaN':\n",
    "        return -1\n",
    "    else:\n",
    "        return 0\n",
    "    \n",
    "    \n",
    "#Creating new column EthnicMexican via applying the Mexican function\n",
    "df['EthnicMexican'] = df['WHAT_ETHNIC_GROUP_DO_YOU_CONSIDER_YOURSELF'].apply(lambda x:Mexican(x))"
   ]
  },
  {
   "cell_type": "code",
   "execution_count": 25,
   "id": "11db9b1e",
   "metadata": {},
   "outputs": [],
   "source": [
    "#Creating a function for column EthnicPuertoRican\n",
    "def PR(x):\n",
    "    if x == 'Puerto Rican':\n",
    "        return 1\n",
    "    elif x ==  'REFUSED':\n",
    "        return -7\n",
    "    elif x == 'NaN':\n",
    "        return -1\n",
    "    else:\n",
    "        return 0\n",
    "    \n",
    "    \n",
    "#Creating new column EthnicPuertoRican via applying the PR function\n",
    "df['EthnicPuertoRican'] = df['WHAT_ETHNIC_GROUP_DO_YOU_CONSIDER_YOURSELF'].apply(lambda x:PR(x))"
   ]
  },
  {
   "cell_type": "code",
   "execution_count": 26,
   "id": "d2c39227",
   "metadata": {},
   "outputs": [],
   "source": [
    "#Creating a function for column EthnicSouthAmerican\n",
    "def South_America(x):\n",
    "    if x == 'South American':\n",
    "        return 1\n",
    "    elif x ==  'REFUSED':\n",
    "        return -7\n",
    "    elif x == 'NaN':\n",
    "        return -1\n",
    "    else:\n",
    "        return 0\n",
    "    \n",
    "    \n",
    "#Creating new column EthnicSouthAmerican via applying the South_America function\n",
    "df['EthnicSouthAmerican'] = df['WHAT_ETHNIC_GROUP_DO_YOU_CONSIDER_YOURSELF'].apply(lambda x:South_America(x))"
   ]
  },
  {
   "cell_type": "code",
   "execution_count": 27,
   "id": "1d9df76f",
   "metadata": {},
   "outputs": [],
   "source": [
    "#Creating a function for column EthnicOther\n",
    "def Ethnic_Other(x):\n",
    "    if x == 'Other (SPECIFY)':\n",
    "        return 1\n",
    "    elif x ==  'REFUSED':\n",
    "        return -7\n",
    "    elif x == 'NaN':\n",
    "        return -1\n",
    "    else:\n",
    "        return 0\n",
    "    \n",
    "    \n",
    "#Creating new column EthnicSouthAmerican via applying the Ethnic_Other function\n",
    "df['EthnicOther'] = df['WHAT_ETHNIC_GROUP_DO_YOU_CONSIDER_YOURSELF'].apply(lambda x:Ethnic_Other(x))"
   ]
  },
  {
   "cell_type": "code",
   "execution_count": 28,
   "id": "9aabfc42",
   "metadata": {},
   "outputs": [],
   "source": [
    "#Renaming column\n",
    "df.rename(columns = {'ETHNIC_GROUP_OTHER':'EthnicOtherSpec'}, inplace = True)"
   ]
  },
  {
   "cell_type": "code",
   "execution_count": 29,
   "id": "930ceb4c",
   "metadata": {},
   "outputs": [],
   "source": [
    "#Fill null values with 'NaN' in the Race column\n",
    "df['RACE'] = df['RACE'].fillna('NaN')\n",
    "\n",
    "#Creating substrings \n",
    "df['RACE'] = df['RACE'].str.split(',').str[0]\n",
    "\n",
    "#Creating function for column RaceBlack\n",
    "def Race_Black(x):\n",
    "    if x == 'Black or African American':\n",
    "        return 1\n",
    "    elif x == 'NaN':\n",
    "        return -9\n",
    "    elif x == 'REFUSED':\n",
    "        return -7\n",
    "    elif x == 'Other (SPECIFY), REFUSED':\n",
    "        return -7\n",
    "    else:\n",
    "        return 0\n",
    "    \n",
    "#Creating new column RaceBlack via applying Race_Black function\n",
    "df['RaceBlack'] = df['RACE'].apply(lambda x:Race_Black(x))"
   ]
  },
  {
   "cell_type": "code",
   "execution_count": 30,
   "id": "758f16b2",
   "metadata": {},
   "outputs": [],
   "source": [
    "#Creating function for column RaceWhite\n",
    "def Race_White(x):\n",
    "    if x == 'White':\n",
    "        return 1\n",
    "    elif x == 'NaN':\n",
    "        return -9\n",
    "    elif x == 'REFUSED':\n",
    "        return -7\n",
    "    else:\n",
    "        return 0\n",
    "    \n",
    "#Creating new column RaceWhite via applying Race_White function\n",
    "df['RaceWhite'] = df['RACE'].apply(lambda x:Race_White(x))"
   ]
  },
  {
   "cell_type": "code",
   "execution_count": 31,
   "id": "809ce5ca",
   "metadata": {},
   "outputs": [],
   "source": [
    "#Creating function for column RaceAmericanIndian\n",
    "def Race_Am_Indian(x):\n",
    "    if x == 'American Indian':\n",
    "        return 1\n",
    "    elif x == 'NaN':\n",
    "        return -9\n",
    "    elif x == 'REFUSED':\n",
    "        return -7\n",
    "    else:\n",
    "        return 0\n",
    "    \n",
    "#Creating new column RaceAmericanIndian via applying Race_Am_Indian function\n",
    "df['RaceAmericanIndian'] = df['RACE'].apply(lambda x:Race_Am_Indian(x))"
   ]
  },
  {
   "cell_type": "code",
   "execution_count": 32,
   "id": "6975c779",
   "metadata": {},
   "outputs": [],
   "source": [
    "#Creating function for column RaceAlaskaNative\n",
    "def Race_Alaska_Native(x):\n",
    "    if x == 'Alaska Native':\n",
    "        return 1\n",
    "    elif x == 'NaN':\n",
    "        return -9\n",
    "    elif x == 'REFUSED':\n",
    "        return -7\n",
    "    else:\n",
    "        return 0\n",
    "    \n",
    "#Creating new column RaceAlaskaNative via applying Race_Alaska_Native function\n",
    "df['RaceAlaskaNative'] = df['RACE'].apply(lambda x:Race_Alaska_Native(x))"
   ]
  },
  {
   "cell_type": "code",
   "execution_count": 33,
   "id": "a8bad605",
   "metadata": {},
   "outputs": [],
   "source": [
    "#Creating function for column RaceAsianIndian\n",
    "def Race_Asian_Indian(x):\n",
    "    if x == 'Asian Indian':\n",
    "        return 1\n",
    "    elif x == 'NaN':\n",
    "        return -9\n",
    "    elif x == 'REFUSED':\n",
    "        return -7\n",
    "    else:\n",
    "        return 0\n",
    "    \n",
    "#Creating new column RaceAsianIndian via applying Race_Asian_Indian function\n",
    "df['RaceAsianIndian'] = df['RACE'].apply(lambda x:Race_Asian_Indian(x))"
   ]
  },
  {
   "cell_type": "code",
   "execution_count": 34,
   "id": "4e081258",
   "metadata": {},
   "outputs": [],
   "source": [
    "#Creating function for column RaceChinese\n",
    "def Race_Chinese(x):\n",
    "    if x == 'Chinese':\n",
    "        return 1\n",
    "    elif x == 'NaN':\n",
    "        return -9\n",
    "    elif x == 'REFUSED':\n",
    "        return -7\n",
    "    else:\n",
    "        return 0\n",
    "    \n",
    "#Creating new column RaceChinese via applying Race_Chinese function\n",
    "df['RaceChinese'] = df['RACE'].apply(lambda x:Race_Chinese(x))"
   ]
  },
  {
   "cell_type": "code",
   "execution_count": 35,
   "id": "996c5a72",
   "metadata": {},
   "outputs": [],
   "source": [
    "#Creating function for column RaceFilipino\n",
    "def Race_Filipino(x):\n",
    "    if x == 'Filipino':\n",
    "        return 1\n",
    "    elif x == 'NaN':\n",
    "        return -9\n",
    "    elif x == 'REFUSED':\n",
    "        return -7\n",
    "    else:\n",
    "        return 0\n",
    "    \n",
    "#Creating new column RaceFilipino via applying Race_Filipino function\n",
    "df['RaceFilipino'] = df['RACE'].apply(lambda x:Race_Filipino(x))"
   ]
  },
  {
   "cell_type": "code",
   "execution_count": 36,
   "id": "721d29da",
   "metadata": {},
   "outputs": [],
   "source": [
    "#Creating function for column RaceJapanese\n",
    "def Race_Japanese(x):\n",
    "    if x == 'Japanese':\n",
    "        return 1\n",
    "    elif x == 'NaN':\n",
    "        return -9\n",
    "    elif x == 'REFUSED':\n",
    "        return -7\n",
    "    else:\n",
    "        return 0\n",
    "    \n",
    "#Creating new column RaceJapanese via applying Race_Japanese function\n",
    "df['RaceJapanese'] = df['RACE'].apply(lambda x:Race_Japanese(x))"
   ]
  },
  {
   "cell_type": "code",
   "execution_count": 37,
   "id": "bbcccb36",
   "metadata": {},
   "outputs": [],
   "source": [
    "#Creating function for column RaceJapanese\n",
    "def Race_Japanese(x):\n",
    "    if x == 'Japanese':\n",
    "        return 1\n",
    "    elif x == 'NaN':\n",
    "        return -9\n",
    "    elif x == 'REFUSED':\n",
    "        return -7\n",
    "    else:\n",
    "        return 0\n",
    "    \n",
    "#Creating new column RaceJapanese via applying Race_Japanese function\n",
    "df['RaceJapanese'] = df['RACE'].apply(lambda x:Race_Japanese(x))"
   ]
  },
  {
   "cell_type": "code",
   "execution_count": 38,
   "id": "f5f6eb4f",
   "metadata": {},
   "outputs": [],
   "source": [
    "#Creating function for column RaceKorean\n",
    "def Race_Korean(x):\n",
    "    if x == 'Korean':\n",
    "        return 1\n",
    "    elif x == 'NaN':\n",
    "        return -9\n",
    "    elif x == 'REFUSED':\n",
    "        return -7\n",
    "    else:\n",
    "        return 0\n",
    "    \n",
    "#Creating new column RaceKorean via applying Race_Korean function\n",
    "df['RaceKorean'] = df['RACE'].apply(lambda x:Race_Korean(x))"
   ]
  },
  {
   "cell_type": "code",
   "execution_count": 39,
   "id": "80b6ec5c",
   "metadata": {},
   "outputs": [],
   "source": [
    "#Creating function for column RaceVietnamese\n",
    "def Race_Vietnamese(x):\n",
    "    if x == 'Vietnamese':\n",
    "        return 1\n",
    "    elif x == 'NaN':\n",
    "        return -9\n",
    "    elif x == 'REFUSED':\n",
    "        return -7\n",
    "    else:\n",
    "        return 0\n",
    "    \n",
    "#Creating new column RaceVietnamese via applying Race_Vietnamese function\n",
    "df['RaceVietnamese'] = df['RACE'].apply(lambda x:Race_Vietnamese(x))"
   ]
  },
  {
   "cell_type": "code",
   "execution_count": 40,
   "id": "b4675059",
   "metadata": {},
   "outputs": [],
   "source": [
    "#Creating function for column RaceOtherAsian\n",
    "def Race_Other_Asian(x):\n",
    "    if x == 'Other Asian':\n",
    "        return 1\n",
    "    elif x == 'NaN':\n",
    "        return -9\n",
    "    elif x == 'REFUSED':\n",
    "        return -7\n",
    "    else:\n",
    "        return 0\n",
    "    \n",
    "#Creating new column RaceOtherAsian via applying Race_Other_Asian function\n",
    "df['RaceOtherAsian'] = df['RACE'].apply(lambda x:Race_Other_Asian(x))"
   ]
  },
  {
   "cell_type": "code",
   "execution_count": 41,
   "id": "5eaed300",
   "metadata": {},
   "outputs": [],
   "source": [
    "#Creating function for column RaceNativeHawaiian\n",
    "def Race_Hawaiian(x):\n",
    "    if x == 'Hawaiian':\n",
    "        return 1\n",
    "    elif x == 'NaN':\n",
    "        return -9\n",
    "    elif x == 'REFUSED':\n",
    "        return -7\n",
    "    else:\n",
    "        return 0\n",
    "    \n",
    "#Creating new column RaceNativeHawaiian via applying Race_Hawaiian function\n",
    "df['RaceNativeHawaiian'] = df['RACE'].apply(lambda x:Race_Hawaiian(x))"
   ]
  },
  {
   "cell_type": "code",
   "execution_count": 42,
   "id": "9e695c1e",
   "metadata": {},
   "outputs": [],
   "source": [
    "#Creating function for column RaceGuamanianChamorro\n",
    "def Race_Guamanian_Chamorro(x):\n",
    "    if x == 'Guamanian Chamorro':\n",
    "        return 1\n",
    "    elif x == 'NaN':\n",
    "        return -9\n",
    "    elif x == 'REFUSED':\n",
    "        return -7\n",
    "    else:\n",
    "        return 0\n",
    "    \n",
    "#Creating new column RaceGuamanianChamorro via applying Race_Guamanian_Chamorro function\n",
    "df['RaceGuamanianChamorro'] = df['RACE'].apply(lambda x:Race_Guamanian_Chamorro(x))"
   ]
  },
  {
   "cell_type": "code",
   "execution_count": 43,
   "id": "38ac527b",
   "metadata": {},
   "outputs": [],
   "source": [
    "#Creating function for column RaceSamoan\n",
    "def Race_Samoan(x):\n",
    "    if x == 'Samoan':\n",
    "        return 1\n",
    "    elif x == 'NaN':\n",
    "        return -9\n",
    "    elif x == 'REFUSED':\n",
    "        return -7\n",
    "    else:\n",
    "        return 0\n",
    "    \n",
    "#Creating new column RaceSamoan via applying Race_Samoan function\n",
    "df['RaceSamoan'] = df['RACE'].apply(lambda x:Race_Samoan(x))"
   ]
  },
  {
   "cell_type": "code",
   "execution_count": 44,
   "id": "f31054b6",
   "metadata": {},
   "outputs": [],
   "source": [
    "#Creating function for column RaceOtherPacificIslander\n",
    "def Race_Pacific_Islander(x):\n",
    "    if x == 'Pacific Islander':\n",
    "        return 1\n",
    "    elif x == 'NaN':\n",
    "        return -9\n",
    "    elif x == 'REFUSED':\n",
    "        return -7\n",
    "    else:\n",
    "        return 0\n",
    "    \n",
    "#Creating new column RaceOtherPacificIslander via applying Race_Pacific_Islander function\n",
    "df['RaceOtherPacificIslander'] = df['RACE'].apply(lambda x:Race_Pacific_Islander(x))"
   ]
  },
  {
   "cell_type": "code",
   "execution_count": 45,
   "id": "7fa8778b",
   "metadata": {},
   "outputs": [],
   "source": [
    "#Creating function for column RaceOther\n",
    "def Race_Other(x):\n",
    "    if x == 'Other (SPECIFY)':\n",
    "        return 1\n",
    "    elif x == 'NaN':\n",
    "        return -9\n",
    "    elif x == 'REFUSED':\n",
    "        return -7\n",
    "    else:\n",
    "        return 0\n",
    "    \n",
    "#Creating new column RaceOther via applying Race_Other function\n",
    "df['RaceOther'] = df['RACE'].apply(lambda x:Race_Other(x))"
   ]
  },
  {
   "cell_type": "code",
   "execution_count": 46,
   "id": "a861fe91",
   "metadata": {},
   "outputs": [],
   "source": [
    "#Renaming column \n",
    "df.rename(columns = {'RACE_OTHER':'RaceSpec'}, inplace = True)\n",
    "\n",
    "#Renaming column to create column RaceSpec\n",
    "df['RaceSpec'] = df['RaceSpec'].str.title()"
   ]
  },
  {
   "cell_type": "code",
   "execution_count": 47,
   "id": "2e8826cc",
   "metadata": {},
   "outputs": [],
   "source": [
    "# Filling missing in values in SPEAK_LANGUAGE_OTHER_THAN_ENGLISH column with 'NaN'\n",
    "df['SPEAK_LANGUAGE_OTHER_THAN_ENGLISH'] = df['SPEAK_LANGUAGE_OTHER_THAN_ENGLISH'].fillna('NaN')\n",
    "\n",
    "#Creating function for LangNotEnglishAtHome\n",
    "def Lang_Eng_Not_Spoken(row):\n",
    "    if row['SPEAK_LANGUAGE_OTHER_THAN_SPANISH'] == 'No':\n",
    "        return -1\n",
    "    elif row['SPEAK_LANGUAGE_OTHER_THAN_ENGLISH'] == 'Yes':\n",
    "        return 1\n",
    "    elif row['SPEAK_LANGUAGE_OTHER_THAN_ENGLISH'] == 'No (Skip to Question 5)':\n",
    "        return 0\n",
    "    elif row['SPEAK_LANGUAGE_OTHER_THAN_ENGLISH'] == 'REFUSED (Skip to Question 5)':\n",
    "        return -7\n",
    "    elif row['SPEAK_LANGUAGE_OTHER_THAN_ENGLISH'] == 'NaN':\n",
    "        return -9\n",
    "\n",
    "def Lang_Eng_Not_Spoken_code_home(row):\n",
    "    if row['InterviewType']==1:\n",
    "        return Lang_Eng_Not_Spoken(row)\n",
    "    else:\n",
    "        return -1\n",
    "\n",
    "df['LangNotEnglishAtHome'] = df.apply(Lang_Eng_Not_Spoken_code_home,axis=1)\n",
    "\n",
    "#Creating function to create column LangNotEnglishSpoken\n",
    "def Lang_Not_English_Spoken (row):\n",
    "    if row['SPEAK_LANGUAGE_OTHER_THAN_SPANISH'] == 'No':\n",
    "        return -1\n",
    "    elif row['WHAT_OTHER_LANGUAGE'] == 'Spanish':\n",
    "        return 1\n",
    "    elif row['WHAT_OTHER_LANGUAGE'] == 'Other (SPECIFY)':\n",
    "        return 2\n",
    "    else:\n",
    "        return -1\n",
    "    \n",
    "def Lang_Not_English_Spoken_code(row):\n",
    "    if row['InterviewType']==1 and row['LangNotEnglishAtHome'] == 1:\n",
    "        return Lang_Not_English_Spoken(row)\n",
    "    else:\n",
    "        return -1\n",
    "    \n",
    "df['LangNotEnglishSpoken'] = df.apply(Lang_Not_English_Spoken_code,axis=1)"
   ]
  },
  {
   "cell_type": "code",
   "execution_count": 48,
   "id": "f832fa14",
   "metadata": {},
   "outputs": [
    {
     "data": {
      "text/plain": [
       "array([nan, 'Yes', 'No', 'REFUSED (Skip to Question 5)'], dtype=object)"
      ]
     },
     "execution_count": 48,
     "metadata": {},
     "output_type": "execute_result"
    }
   ],
   "source": [
    "df['SPEAK_LANGUAGE_OTHER_THAN_SPANISH'].unique()"
   ]
  },
  {
   "cell_type": "code",
   "execution_count": 49,
   "id": "3f8e5e6f",
   "metadata": {},
   "outputs": [],
   "source": [
    "#Renaming column to create column LangNotEnglishSpokenSpec\n",
    "df.rename(columns = {'LANGUAGE_OTHER':'LangNotEnglishSpokenSpec'}, inplace = True)"
   ]
  },
  {
   "cell_type": "code",
   "execution_count": 50,
   "id": "a613f1f0",
   "metadata": {},
   "outputs": [],
   "source": [
    "#Creating LangNotSpanishSpokenSpec column\n",
    "df['LangNotSpanishSpokenSpec'] = ''"
   ]
  },
  {
   "cell_type": "code",
   "execution_count": 51,
   "id": "b6bd41f4",
   "metadata": {},
   "outputs": [],
   "source": [
    "#Creating function to create column LangNotSpanishAtHome\n",
    "def Lang_Not_Spanish_Spoken_Home (row):\n",
    "    if row['SPEAK_LANGUAGE_OTHER_THAN_ENGLISH'] == 'No (Skip to Question 5)':\n",
    "        return -1\n",
    "    elif row['SPEAK_LANGUAGE_OTHER_THAN_SPANISH'] == 'Yes' or row['SPEAK_LANGUAGE_OTHER_THAN_SPANISH'] == 'Other (SPECIFY)':\n",
    "        return 1\n",
    "    elif row['SPEAK_LANGUAGE_OTHER_THAN_SPANISH'] == 'No':\n",
    "        return 0\n",
    "    elif row['SPEAK_LANGUAGE_OTHER_THAN_SPANISH'] == 'REFUSED (Skip to Question 5)':\n",
    "        return -7\n",
    "    else:\n",
    "        return -1\n",
    "    \n",
    "def Lang_Not_Spanish_Spoken_Home_code(row):\n",
    "    if row['LangNotEnglishSpoken'] == 2:\n",
    "        return -1\n",
    "    elif row['LangNotEnglishAtHome'] == 0:\n",
    "        return -1\n",
    "    elif row['InterviewType']==1:\n",
    "        return Lang_Not_Spanish_Spoken_Home(row)\n",
    "    else:\n",
    "        return -1\n",
    "    \n",
    "df['LangNotSpanishAtHome'] = df.apply(Lang_Not_Spanish_Spoken_Home_code,axis=1)  \n",
    "\n",
    "\n",
    "\n",
    "#Creating function to create column LangNotSpanishSpoken\n",
    "def Lang_Not_Spanish_Spoken (row):\n",
    "    if row['SPEAK_LANGUAGE_OTHER_THAN_ENGLISH'] == 'No (Skip to Question 5)':\n",
    "        return -1\n",
    "    elif row['SPEAK_LANGUAGE_OTHER_THAN_SPANISH'] == 'Yes':\n",
    "        return 1\n",
    "    elif row['SPEAK_LANGUAGE_OTHER_THAN_SPANISH'] == 'Other (SPECIFY)':\n",
    "        return 2\n",
    "    elif row['SPEAK_LANGUAGE_OTHER_THAN_SPANISH'] == 'REFUSED (Skip to Question 5)':\n",
    "        return -7\n",
    "    elif row['SPEAK_LANGUAGE_OTHER_THAN_SPANISH'] == 'No':\n",
    "        return -1\n",
    "    else:\n",
    "        return -1\n",
    "    \n",
    "def Lang_Not_Spanish_Spoken_code(row):\n",
    "    if row['LangNotEnglishAtHome'] == 0:\n",
    "        return -1\n",
    "    elif row['LangNotEnglishSpoken'] == 2:\n",
    "        return -1\n",
    "    elif row['InterviewType']==1 and row['LangNotSpanishAtHome']==1:\n",
    "        return Lang_Not_Spanish_Spoken(row)\n",
    "    else:\n",
    "        return -1\n",
    "    \n",
    "df['LangNotSpanishSpoken'] = df.apply(Lang_Not_Spanish_Spoken_code,axis=1) "
   ]
  },
  {
   "cell_type": "code",
   "execution_count": 52,
   "id": "0a2b7c79",
   "metadata": {},
   "outputs": [],
   "source": [
    "#filling missing values with 'NaN'\n",
    "df['WHAT_DO_YOU_THINK_OF_YOURSELF_AS'] = df['WHAT_DO_YOU_THINK_OF_YOURSELF_AS'].fillna('NaN')\n",
    "\n",
    "#Creating substrings\n",
    "df['WHAT_DO_YOU_THINK_OF_YOURSELF_AS'] = df['WHAT_DO_YOU_THINK_OF_YOURSELF_AS'].str.split(',').str[0]\n",
    "\n",
    "#Creating function for column SexIdentHeterosexual\n",
    "def Straight (x):\n",
    "    if x == 'Straight or Heterosexual':\n",
    "        return 1\n",
    "    elif x == 'REFUSED':\n",
    "        return -7\n",
    "    elif x == 'NaN':\n",
    "        return -9\n",
    "    else:\n",
    "        return 0\n",
    "    \n",
    "#Creating new column SexIdentHeterosexual via applying function Straight\n",
    "df['SexIdentHeterosexual'] = df['WHAT_DO_YOU_THINK_OF_YOURSELF_AS'].apply(lambda x:Straight (x))"
   ]
  },
  {
   "cell_type": "code",
   "execution_count": 53,
   "id": "b492df77",
   "metadata": {},
   "outputs": [],
   "source": [
    "#Creating function for column SexIdentHomoSexual\n",
    "def Homosexual (x):\n",
    "    if x == 'Homosexual (Gay or Lesbian)':\n",
    "        return 1\n",
    "    elif x == 'REFUSED':\n",
    "        return -7\n",
    "    elif x == 'NaN':\n",
    "        return -9\n",
    "    else:\n",
    "        return 0\n",
    "    \n",
    "#Creating new column SexIdentHomosexual via applying function Homosexual\n",
    "df['SexIdentHomosexual'] = df['WHAT_DO_YOU_THINK_OF_YOURSELF_AS'].apply(lambda x:Homosexual (x))"
   ]
  },
  {
   "cell_type": "code",
   "execution_count": 54,
   "id": "ac482119",
   "metadata": {},
   "outputs": [],
   "source": [
    "#Creating function for column SexIdentBiSexual\n",
    "def Bisexual (x):\n",
    "    if x == 'Bisexual':\n",
    "        return 1\n",
    "    elif x == 'REFUSED':\n",
    "        return -7\n",
    "    elif x == 'NaN':\n",
    "        return -9\n",
    "    else:\n",
    "        return 0\n",
    "    \n",
    "#Creating new column SexIdentBiSexual via applying function Bisexual\n",
    "df['SexIdentBisexual'] = df['WHAT_DO_YOU_THINK_OF_YOURSELF_AS'].apply(lambda x:Bisexual (x))"
   ]
  },
  {
   "cell_type": "code",
   "execution_count": 55,
   "id": "a40fc17d",
   "metadata": {},
   "outputs": [],
   "source": [
    "#Creating function for column SexIdentQueerPanaQuest\n",
    "def Queer_Pan_Quest (x):\n",
    "    if x == 'Queer, Pansexual, And/Or Questioning':\n",
    "        return 1\n",
    "    elif x == 'REFUSED':\n",
    "        return -7\n",
    "    elif x == 'NaN':\n",
    "        return -9\n",
    "    else:\n",
    "        return 0\n",
    "    \n",
    "#Creating new column SexIdentQueerPanaQuest via applying function Queer_Pan_Quest\n",
    "df['SexIdentQueerPanaQuest'] = df['WHAT_DO_YOU_THINK_OF_YOURSELF_AS'].apply(lambda x:Queer_Pan_Quest (x))"
   ]
  },
  {
   "cell_type": "code",
   "execution_count": 56,
   "id": "96038cb9",
   "metadata": {},
   "outputs": [],
   "source": [
    "#Creating function for column SexIdentAsexual\n",
    "def Asexual (x):\n",
    "    if x == 'Asexual':\n",
    "        return 1\n",
    "    elif x == 'REFUSED':\n",
    "        return -7\n",
    "    elif x == 'NaN':\n",
    "        return -9\n",
    "    else:\n",
    "        return 0\n",
    "    \n",
    "#Creating new column SexIdentAsexual via applying function Asexual\n",
    "df['SexIdentAsexual'] = df['WHAT_DO_YOU_THINK_OF_YOURSELF_AS'].apply(lambda x:Asexual (x))"
   ]
  },
  {
   "cell_type": "code",
   "execution_count": 57,
   "id": "f9c5cca0",
   "metadata": {},
   "outputs": [],
   "source": [
    "#Creating function for column SexIdentOther\n",
    "def Other (x):\n",
    "    if x == 'Other':\n",
    "        return 1\n",
    "    elif x == 'REFUSED':\n",
    "        return -7\n",
    "    elif x == 'NaN':\n",
    "        return -9\n",
    "    else:\n",
    "        return 0\n",
    "    \n",
    "#Creating new column SexIdentHeterosexual via applying function Asexual\n",
    "df['SexIdentOther'] = df['WHAT_DO_YOU_THINK_OF_YOURSELF_AS'].apply(lambda x:Other (x))"
   ]
  },
  {
   "cell_type": "code",
   "execution_count": 58,
   "id": "570f6af2",
   "metadata": {},
   "outputs": [],
   "source": [
    "#Creating function for column SexIdentSpec\n",
    "def Other_Spec (x):\n",
    "    if x == 'Other (SPECIFY)':\n",
    "        return 1\n",
    "    elif x == 'REFUSED':\n",
    "        return -7\n",
    "    elif x == 'NaN':\n",
    "        return -9\n",
    "    else:\n",
    "        return 0\n",
    "    \n",
    "#Creating new column SexIdentSpec via applying function Other_Spec\n",
    "df['SexIdentSpec'] = df['WHAT_DO_YOU_THINK_OF_YOURSELF_AS'].apply(lambda x:Other_Spec (x))"
   ]
  },
  {
   "cell_type": "code",
   "execution_count": 59,
   "id": "49d43cc3",
   "metadata": {},
   "outputs": [],
   "source": [
    "#Filling in null values with'NaN'\n",
    "df['RELATIONSHIP_STATUS'] = df['RELATIONSHIP_STATUS'].fillna('NaN')\n",
    "\n",
    "#Creating function for RelationshipStatus column\n",
    "def Relationship_Status (x):\n",
    "    if x == 'Married':\n",
    "        return 1\n",
    "    elif x == 'Single':\n",
    "        return 2\n",
    "    elif x == 'Divorced':\n",
    "        return 3\n",
    "    elif x == 'Separated':\n",
    "        return 4\n",
    "    elif x == 'Widowed':\n",
    "        return 5\n",
    "    elif x == 'In a relationship':\n",
    "        return 6\n",
    "    elif x == 'In multiple relationships':\n",
    "        return 7\n",
    "    elif x == 'REFUSED':\n",
    "        return -7\n",
    "    elif x == 'NaN':\n",
    "        return -9\n",
    "    \n",
    "#Creating new column RelationshipStatus via applying function Relationship_Statu\n",
    "df['RelationshipStatus'] = df['RELATIONSHIP_STATUS'].apply(lambda x:Relationship_Status (x))"
   ]
  },
  {
   "cell_type": "code",
   "execution_count": 60,
   "id": "2ae2158e",
   "metadata": {},
   "outputs": [],
   "source": [
    "#Filling missing values with 'NaN'\n",
    "df['CURRENTLY_PREGNANT'] = df['CURRENTLY_PREGNANT'].fillna('NaN')\n",
    "\n",
    "#Creating function for Pregnant column\n",
    "def Pregnant (x):\n",
    "    if x == 'Yes':\n",
    "        return 1\n",
    "    elif x == 'No':\n",
    "        return 0\n",
    "    elif x == 'Do not know':\n",
    "        return -8\n",
    "    elif x == 'REFUSED':\n",
    "        return -7\n",
    "    elif x == 'NaN':\n",
    "        return -9\n",
    "    \n",
    "#Creating new column Pregnant via applying function Pregnant\n",
    "df['Pregnant'] = df['CURRENTLY_PREGNANT'].apply(lambda x: Pregnant (x))"
   ]
  },
  {
   "cell_type": "code",
   "execution_count": 61,
   "id": "c58d5a1c",
   "metadata": {},
   "outputs": [],
   "source": [
    "#Replacing null values with 'NaN'\n",
    "df['HAVE_CHILDREN'] = df['HAVE_CHILDREN'].fillna(-9)\n",
    "\n",
    "# Creating function to create new column Children\n",
    "def Child (row):\n",
    "    if row['HAVE_CHILDREN'] == 'Yes':\n",
    "        return 1\n",
    "    elif row['HAVE_CHILDREN'] == 'No (Skip to Question 9)':\n",
    "        return 0\n",
    "    elif row['HAVE_CHILDREN'] == 'REFUSED (Skip to Question 9)':\n",
    "        return -7\n",
    "    elif row['HAVE_CHILDREN'] == -9:\n",
    "        return -9\n",
    "    \n",
    "def Child_code(row):\n",
    "    if row['InterviewType']==1:\n",
    "        return Child(row)\n",
    "    else:\n",
    "        pass\n",
    "    \n",
    "df['Children'] = df.apply(Child_code,axis=1)"
   ]
  },
  {
   "cell_type": "code",
   "execution_count": 62,
   "id": "af89bfd3",
   "metadata": {},
   "outputs": [],
   "source": [
    "#Renaming columns \n",
    "df.rename(columns = {'CHILDREN_UNDER_18':'ChildrenUnder18Nr'}, inplace = True)\n",
    "\n",
    "\n",
    "def ChildrenUnder18Nr(row):\n",
    "    if row['Children'] == 1:\n",
    "        return row['ChildrenUnder18Nr']\n",
    "    else:\n",
    "        pass\n",
    "    \n",
    "df['ChildrenUnder18Nr'] = df.apply(ChildrenUnder18Nr,axis=1)"
   ]
  },
  {
   "cell_type": "code",
   "execution_count": 63,
   "id": "654f6b08",
   "metadata": {},
   "outputs": [],
   "source": [
    "#Creating function to create column ChildrenCustody\n",
    "def custody(row):\n",
    "    if row['CHILDREN_UNDER_18_LIVING_SOMEWHERE_ELSE_COURT_INTERVENTION'] == 'Yes':\n",
    "        return 1\n",
    "    elif  row['CHILDREN_UNDER_18_LIVING_SOMEWHERE_ELSE_COURT_INTERVENTION'] == 'No (Skip to Question 9)':\n",
    "        return 0\n",
    "\n",
    "def Children_Custody_code(row):\n",
    "    if row['Children'] != 1:\n",
    "        pass\n",
    "    elif row['ChildrenUnder18Nr'] <= 0:\n",
    "        pass\n",
    "    elif row['ChildrenUnder18Nr'] > 0:\n",
    "        return custody(row)\n",
    "    \n",
    "df['ChildrenCustody'] = df.apply(Children_Custody_code,axis=1)"
   ]
  },
  {
   "cell_type": "code",
   "execution_count": 64,
   "id": "8a1362b6",
   "metadata": {},
   "outputs": [],
   "source": [
    "#Renaming column \n",
    "df.rename(columns = {'CHILDREN_REMOVED_FROM_CLIENTS_CARE':'ChildrenCustodyNr'}, inplace = True)\n",
    "\n",
    "def custody_nr (row):\n",
    "    if row['ChildrenCustody'] == 1:\n",
    "        return row['ChildrenCustodyNr'] \n",
    "\n",
    "def ChildrenCustodyNr(row):\n",
    "    if row['Children'] != 1:\n",
    "        pass\n",
    "    elif row['ChildrenUnder18Nr'] <= 0:\n",
    "        pass\n",
    "    else:\n",
    "        return custody_nr(row)\n",
    "\n",
    "df['ChildrenCustodyNr'] = df.apply(ChildrenCustodyNr,axis=1)"
   ]
  },
  {
   "cell_type": "code",
   "execution_count": 65,
   "id": "3a3ea212",
   "metadata": {},
   "outputs": [],
   "source": [
    "#Creating function to create column ChildrenReunited\n",
    "def child_reunited(row):\n",
    "    if row ['REUNITED_WITH_CHILDREN_UNDER_18_PREV_REMOVED_FROM_CARE'] == 'Yes':\n",
    "        return 1\n",
    "    elif row ['REUNITED_WITH_CHILDREN_UNDER_18_PREV_REMOVED_FROM_CARE']== 'No':\n",
    "        return 0\n",
    "\n",
    "def Children_Reunited_code(row):\n",
    "    if row['Children'] != 1:\n",
    "        pass\n",
    "    elif row['ChildrenUnder18Nr'] <= 0:\n",
    "        pass\n",
    "    elif row['ChildrenCustody'] != 1:\n",
    "        pass\n",
    "    else:\n",
    "        return child_reunited(row)\n",
    "    \n",
    "df['ChildrenReunited'] = df.apply(Children_Reunited_code,axis=1)"
   ]
  },
  {
   "cell_type": "code",
   "execution_count": 66,
   "id": "b7f74e46",
   "metadata": {},
   "outputs": [],
   "source": [
    "#Renaming column \n",
    "df.rename(columns = {'CHILDREN_REUNITED_WITH_CLIENT':'ChildrenReunitedNr'},inplace = True)\n",
    "\n",
    "def ChildrenReunitedNr(row):\n",
    "    if row['ChildrenReunited'] == 1:\n",
    "        return row['ChildrenReunitedNr']\n",
    "    \n",
    "df['ChildrenReunitedNr'] = df.apply(ChildrenReunitedNr,axis=1)"
   ]
  },
  {
   "cell_type": "code",
   "execution_count": 67,
   "id": "6114649e",
   "metadata": {},
   "outputs": [],
   "source": [
    "#Replacing null values 'NaN'\n",
    "df['EVER_SERVED_IN_MILITARY'] = df['EVER_SERVED_IN_MILITARY'].fillna('NaN')\n",
    "\n",
    "#Creating function to create new column MilitaryServed\n",
    "def Military_Served (x):\n",
    "    if x == 'No':\n",
    "        return 0\n",
    "    elif x == 'Yes, In the Armed Forces':\n",
    "        return 1\n",
    "    elif x == 'Yes, In the National Guard':\n",
    "        return 3\n",
    "    elif x == 'REFUSED':\n",
    "        return -7\n",
    "    elif x == 'NaN':\n",
    "        return -9\n",
    "\n",
    "# Creating new column MilitaryServed applying function Military_Served\n",
    "df['MilitaryServed'] = df['EVER_SERVED_IN_MILITARY'].apply(lambda x:Military_Served (x))"
   ]
  },
  {
   "cell_type": "code",
   "execution_count": 68,
   "id": "c28e03d8",
   "metadata": {},
   "outputs": [],
   "source": [
    "#Replacing null values 'NaN'\n",
    "df['HOW_LONG_TO_TRAVEL_TO_GRANT_SERVICES_LOCATION'] = df['HOW_LONG_TO_TRAVEL_TO_GRANT_SERVICES_LOCATION'].fillna('NaN')\n",
    "\n",
    "#Creating function to create new column ServicesTravelTime\n",
    "def Travel_Time (x):\n",
    "    if x == 'Half an hour or less':\n",
    "        return 1\n",
    "    elif x == 'Between half an hour and one hour':\n",
    "        return 2\n",
    "    elif x == 'Between one hour and one and a half hours':\n",
    "        return 3\n",
    "    elif x == 'Between one and a half hours and two hours':\n",
    "        return 4\n",
    "    elif x == 'Two hours or more':\n",
    "        return 5\n",
    "    elif x == 'REFUSED':\n",
    "        return -7\n",
    "    elif x == 'NaN':\n",
    "        return -9\n",
    "\n",
    "#Creating new column ServicesTravelTime via applying function Travel_Time\n",
    "df['ServicesTravelTime'] = df['HOW_LONG_TO_TRAVEL_TO_GRANT_SERVICES_LOCATION'].apply(lambda x: Travel_Time (x))"
   ]
  },
  {
   "cell_type": "code",
   "execution_count": 69,
   "id": "e017ae73",
   "metadata": {},
   "outputs": [],
   "source": [
    "#Renaming column\n",
    "df.rename(columns = {'ALCOHOL_NUMBER_OF_DAYS':'AlcoholDays'}, inplace = True)\n",
    "\n",
    "#Replacing null values with 0 to create column AlcoholDays\n",
    "df['AlcoholDays'] = df['AlcoholDays'].fillna(0)\n",
    "\n",
    "#Replacing values greater than 30 with 30\n",
    "df['AlcoholDays'] = df['AlcoholDays'].apply(lambda x:exceed_thirty_days(x))\n"
   ]
  },
  {
   "cell_type": "code",
   "execution_count": 70,
   "id": "948ec133",
   "metadata": {},
   "outputs": [],
   "source": [
    "#Creating function for AlcoholRoute\n",
    "def Alcohol_Route (row):\n",
    "    if row['ALCOHOL_ROUTE'] == '1. Oral':\n",
    "        return 1\n",
    "    elif row['AlcoholDays'] ==0:\n",
    "        return -1\n",
    "    else:\n",
    "        return -1 \n",
    "    \n",
    "#Creating column AlcoholRoute via applying the function Alcohol_Route\n",
    "df['AlcoholRoute'] = df.apply(Alcohol_Route, axis = 1 )"
   ]
  },
  {
   "cell_type": "code",
   "execution_count": 71,
   "id": "e8a5c33c",
   "metadata": {},
   "outputs": [
    {
     "data": {
      "text/plain": [
       "array([nan, '1. Oral'], dtype=object)"
      ]
     },
     "execution_count": 71,
     "metadata": {},
     "output_type": "execute_result"
    }
   ],
   "source": [
    "df['ALCOHOL_ROUTE'].unique()"
   ]
  },
  {
   "cell_type": "code",
   "execution_count": 72,
   "id": "4b26c69b",
   "metadata": {},
   "outputs": [],
   "source": [
    "#Creating column AlcoholOther1Days \n",
    "df['AlcoholOther1Days'] = 0\n",
    "\n",
    "#Creating column AlcoholOther1Route \n",
    "df['AlcoholOther1Route'] = -1\n",
    "\n",
    "df['AlcoholOther1Spec'] = \" \"\n",
    "\n",
    "#Replacing missing values to create respective columns\n",
    "df['AlcoholOther2Days'] = 0\n",
    "df['AlcoholOther2Route'] = -1\n",
    "df['AlcoholOther2Spec'] = \" \"\n",
    "df['AlcoholOther3Days'] = 0\n",
    "df['AlcoholOther3Route'] = -1\n",
    "df['AlcoholOther3Spec'] = \" \""
   ]
  },
  {
   "cell_type": "code",
   "execution_count": 73,
   "id": "6453a360",
   "metadata": {},
   "outputs": [],
   "source": [
    "#Renaming colulmn\n",
    "df.rename(columns = {'HEROIN_NUMBER_OF_DAYS':'OpioidsHeroinDays'}, inplace = True)\n",
    "\n",
    "#Replacing null values with 0 to create column OpioidsHeroinDays\n",
    "df['OpioidsHeroinDays'] = df['OpioidsHeroinDays'].fillna(0)\n",
    "\n",
    "df['OpioidsHeroinDays'] = df['OpioidsHeroinDays'].apply(lambda x:exceed_thirty_days(x))"
   ]
  },
  {
   "cell_type": "code",
   "execution_count": 74,
   "id": "3a0195fb",
   "metadata": {},
   "outputs": [],
   "source": [
    "#Creating substrings\n",
    "df['HEROIN_ROUTE'] = df['HEROIN_ROUTE'].str.split(',').str[0]\n",
    "\n",
    "#Creating function for column OpioidsHeroinRoute\n",
    "def Heroin_Route (row):\n",
    "    if row['HEROIN_ROUTE'] == '1. Oral':\n",
    "        return 1\n",
    "    elif row['HEROIN_ROUTE'] == '2. Intranasal':\n",
    "        return 2\n",
    "    elif row['HEROIN_ROUTE'] == '5. Non-IV Injection':\n",
    "        return 4\n",
    "    elif row['HEROIN_ROUTE'] == '6. Intravenous (IV) Injection':\n",
    "        return 5\n",
    "    elif row['HEROIN_ROUTE'] == '0. Other':\n",
    "        return 0\n",
    "    elif row['HEROIN_ROUTE'] == '4. Smoking':\n",
    "        return 3\n",
    "    elif row['OpioidsHeroinDays'] == 0:\n",
    "        return -1\n",
    "    else:\n",
    "        return -1\n",
    "    \n",
    "#Creating column OpioidsHeroinRoute via applying function Heroin_Route\n",
    "df['OpioidsHeroinRoute'] = df.apply(Heroin_Route, axis = 1)"
   ]
  },
  {
   "cell_type": "code",
   "execution_count": 75,
   "id": "71fa90be",
   "metadata": {},
   "outputs": [],
   "source": [
    "#Renaming columns\n",
    "df.rename(columns = {'MORPHINE_NUMBER_OF_DAYS':'OpioidsMorphineDays'}, inplace = True)\n",
    "\n",
    "# Amending 'MORPHINE_NUMBER_OF_DAYS' column via replacing null values with 0 to create OpioidsMorphineDays column\n",
    "df['OpioidsMorphineDays'] = df['OpioidsMorphineDays'].fillna(0)\n",
    "\n",
    "df['OpioidsMorphineDays'] = df['OpioidsMorphineDays'].apply(lambda x: exceed_thirty_days(x))"
   ]
  },
  {
   "cell_type": "code",
   "execution_count": 76,
   "id": "6a246627",
   "metadata": {},
   "outputs": [],
   "source": [
    "#Creating function to create new column OpioidsMorphineRoute\n",
    "def Morphine_Route (row):\n",
    "    if row['MORPHINE_ROUTE'] == '1. Oral':\n",
    "        return 1\n",
    "    elif row['MORPHINE_ROUTE'] == '6. Intravenous (IV) Injection':\n",
    "        return 2\n",
    "    elif row['MORPHINE_ROUTE'] == '0. Other':\n",
    "        return 0\n",
    "    elif row['OpioidsMorphineDays'] == 0:\n",
    "        return -1\n",
    "    \n",
    "#Creating new column OpioidsMorphineRoute via applying the function Morphine_Route\n",
    "df['OpioidsMorphineRoute'] = df.apply(Morphine_Route, axis = 1)"
   ]
  },
  {
   "cell_type": "code",
   "execution_count": 77,
   "id": "f9461718",
   "metadata": {},
   "outputs": [],
   "source": [
    "#Renaming columns \n",
    "df.rename(columns = {'FENTANYL_NUMBER_OF_DAYS':'OpioidsFentanylDays'},inplace = True)\n",
    "\n",
    "# Replacing null values with 0 to create OpioidsFentanylDays column \n",
    "df['OpioidsFentanylDays'] = df['OpioidsFentanylDays'].fillna(0)\n",
    "\n",
    "df['OpioidsFentanylDays'] = df['OpioidsFentanylDays'].apply(lambda x:exceed_thirty_days(x))"
   ]
  },
  {
   "cell_type": "code",
   "execution_count": 78,
   "id": "3a8ddaba",
   "metadata": {},
   "outputs": [],
   "source": [
    "#Creating function to create new column OpioidsFentanylRoute\n",
    "def Fentanyl_Route (row):\n",
    "    if row['FENTANYL_ROUTE'] == '1. Oral':\n",
    "        return 1\n",
    "    elif row['FENTANYL_ROUTE'] == '2. Intranasal':\n",
    "        return 2\n",
    "    elif row['FENTANYL_ROUTE'] == '6. Intravenous (IV) Injection':\n",
    "        return 5\n",
    "    elif row['FENTANYL_ROUTE'] == '0. Other':\n",
    "        return 0\n",
    "    elif row['OpioidsFentanylDays']==0:\n",
    "        return -1\n",
    "    else:\n",
    "        return -1\n",
    "    \n",
    "#Creating new column OpioidsFentanylRoute via applying the function Fentanyl_Route\n",
    "df['OpioidsFentanylRoute'] = df.apply(Fentanyl_Route, axis = 1)"
   ]
  },
  {
   "cell_type": "code",
   "execution_count": 79,
   "id": "8ef4acae",
   "metadata": {},
   "outputs": [],
   "source": [
    "#Renaming column\n",
    "df.rename(columns = {'DILAUDID_NUMBER_OF_DAYS':'OpioidsDilaudidDays'}, inplace = True)\n",
    "\n",
    "#Replacing null values with 0 to create values for column OpioidsDilaudidDays\n",
    "df['OpioidsDilaudidDays'] = df['OpioidsDilaudidDays'].fillna(0)\n",
    "\n",
    "df['OpioidsDilaudidDays'] = df['OpioidsDilaudidDays'].apply(lambda x:exceed_thirty_days(x))"
   ]
  },
  {
   "cell_type": "code",
   "execution_count": 80,
   "id": "055d729d",
   "metadata": {},
   "outputs": [],
   "source": [
    "#Creating function for creating column OpioidsDilaudidRoute\n",
    "def Dilaudid_Route (row):\n",
    "    if row ['DILAUDID_ROUTE'] == '1. Oral':\n",
    "        return 1\n",
    "    elif row['OpioidsDilaudidDays'] == 0:\n",
    "        return -1\n",
    "    else:\n",
    "        return -1\n",
    "\n",
    "# Creating new column OpioidsDilaudidRoutev via applying function Dilaudid_Route  \n",
    "df['OpioidsDilaudidRoute'] = df.apply(Dilaudid_Route,axis = 1)"
   ]
  },
  {
   "cell_type": "code",
   "execution_count": 81,
   "id": "ad29f3b7",
   "metadata": {},
   "outputs": [],
   "source": [
    "#Renaming column\n",
    "df.rename(columns = {'DEMEROL_NUMBER_OF_DAYS':'OpioidsDemerolDays'}, inplace = True)\n",
    "\n",
    "#Replacing nulll values with 0 to create values for column OpioidsDemerolDays\n",
    "df['OpioidsDemerolDays'] = df['OpioidsDemerolDays'].fillna(0)\n",
    "\n",
    "df['OpioidsDemerolDays'] = df['OpioidsDemerolDays'].apply(lambda x: exceed_thirty_days(x))\n"
   ]
  },
  {
   "cell_type": "markdown",
   "id": "dd2decfd",
   "metadata": {},
   "source": [
    "## Exporting GPRA1\n"
   ]
  },
  {
   "cell_type": "code",
   "execution_count": 83,
   "id": "a2e22726",
   "metadata": {},
   "outputs": [],
   "source": [
    "# #Create variable by indexing columns and creating df\n",
    "# GPRA1 = df[['MRN','ClientID','ClientDescripTreat','ClientDescripRecov','GrantNo',\t'InterviewType',\t'ConductedInterview',\t'InterviewDate',\t'IntakeSeqNum',\t'GrantInactFlag',\t'InactFlag',\t'FFY',\t'Quarter',\t'Month',\t'BirthMonth',\t'BirthYear',\t'Age',\t'AgeGroup',\t'Gender',\t'GenderSpec',\t'HispanicLatino',\t'EthnicCentralAmerican',\t'EthnicCuban',\t'EthnicDominican',\t'EthnicMexican',\t'EthnicPuertoRican',\t'EthnicSouthAmerican',\t'EthnicOther',\t'EthnicOtherSpec',\t'RaceBlack',\t'RaceWhite',\t'RaceAmericanIndian',\t'RaceAlaskaNative',\t'RaceAsianIndian',\t'RaceChinese',\t'RaceFilipino',\t'RaceJapanese',\t'RaceKorean',\t'RaceVietnamese',\t'RaceOtherAsian',\t'RaceNativeHawaiian',\t'RaceGuamanianChamorro',\t'RaceSamoan',\t'RaceOtherPacificIslander',\t'RaceOther',\t'RaceSpec',\t'LangNotEnglishAtHome',\t'LangNotEnglishSpoken',\t'LangNotEnglishSpokenSpec',\t'LangNotSpanishAtHome',\t'LangNotSpanishSpoken',\t'LangNotSpanishSpokenSpec',\t'SexIdentHeterosexual',\t'SexIdentHomosexual',\t'SexIdentBisexual',\t'SexIdentQueerPanaQuest',\t'SexIdentAsexual',\t'SexIdentOther',\t'SexIdentSpec',\t'RelationshipStatus',\t'Pregnant',\t'Children',\t'ChildrenUnder18Nr',\t'ChildrenCustody',\t'ChildrenCustodyNr',\t'ChildrenReunited',\t'ChildrenReunitedNr',\t'MilitaryServed',\t'ServicesTravelTime',\t'AlcoholDays',\t'AlcoholRoute',\t'AlcoholOther1Days',\t'AlcoholOther1Route',\t'AlcoholOther1Spec',\t'AlcoholOther2Days',\t'AlcoholOther2Route',\t'AlcoholOther2Spec',\t'AlcoholOther3Days',\t'AlcoholOther3Route',\t'AlcoholOther3Spec',\t'OpioidsHeroinDays',\t'OpioidsHeroinRoute',\t'OpioidsMorphineDays',\t'OpioidsMorphineRoute',\t'OpioidsFentanylDays',\t'OpioidsFentanylRoute',\t'OpioidsDilaudidDays',\t'OpioidsDilaudidRoute',\t'OpioidsDemerolDays']]\n",
    "\n",
    "# #Exporting GPRA 1\n",
    "# GPRA1.to_csv('GPRA1.csv', index = False, header = True, encoding = 'utf-8')\n",
    "\n",
    "#Create variable by indexing columns and creating df\n",
    "GPRA1_STAR = df[['BatchID','PATIENT','PROVIDER_COUNTY','MRN','ClientID','ClientDescripTreat','ClientDescripRecov','GrantNo',\t'InterviewType',\t'ConductedInterview',\t'InterviewDate',\t'IntakeSeqNum',\t'GrantInactFlag',\t'InactFlag',\t'FFY',\t'Quarter',\t'Month',\t'BirthMonth',\t'BirthYear',\t'Age',\t'AgeGroup',\t'Gender',\t'GenderSpec',\t'HispanicLatino',\t'EthnicCentralAmerican',\t'EthnicCuban',\t'EthnicDominican',\t'EthnicMexican',\t'EthnicPuertoRican',\t'EthnicSouthAmerican',\t'EthnicOther',\t'EthnicOtherSpec',\t'RaceBlack',\t'RaceWhite',\t'RaceAmericanIndian',\t'RaceAlaskaNative',\t'RaceAsianIndian',\t'RaceChinese',\t'RaceFilipino',\t'RaceJapanese',\t'RaceKorean',\t'RaceVietnamese',\t'RaceOtherAsian',\t'RaceNativeHawaiian',\t'RaceGuamanianChamorro',\t'RaceSamoan',\t'RaceOtherPacificIslander',\t'RaceOther',\t'RaceSpec',\t'LangNotEnglishAtHome',\t'LangNotEnglishSpoken',\t'LangNotEnglishSpokenSpec',\t'LangNotSpanishAtHome',\t'LangNotSpanishSpoken',\t'LangNotSpanishSpokenSpec',\t'SexIdentHeterosexual',\t'SexIdentHomosexual',\t'SexIdentBisexual',\t'SexIdentQueerPanaQuest',\t'SexIdentAsexual',\t'SexIdentOther',\t'SexIdentSpec',\t'RelationshipStatus',\t'Pregnant',\t'Children',\t'ChildrenUnder18Nr',\t'ChildrenCustody',\t'ChildrenCustodyNr',\t'ChildrenReunited',\t'ChildrenReunitedNr',\t'MilitaryServed',\t'ServicesTravelTime',\t'AlcoholDays',\t'AlcoholRoute',\t'AlcoholOther1Days',\t'AlcoholOther1Route',\t'AlcoholOther1Spec',\t'AlcoholOther2Days',\t'AlcoholOther2Route',\t'AlcoholOther2Spec',\t'AlcoholOther3Days',\t'AlcoholOther3Route',\t'AlcoholOther3Spec',\t'OpioidsHeroinDays',\t'OpioidsHeroinRoute',\t'OpioidsMorphineDays',\t'OpioidsMorphineRoute',\t'OpioidsFentanylDays',\t'OpioidsFentanylRoute',\t'OpioidsDilaudidDays',\t'OpioidsDilaudidRoute',\t'OpioidsDemerolDays']]\n",
    "\n",
    "#Exporting GPRA 1\n",
    "GPRA1_STAR.to_csv('GPRA1_STAR.csv', index = False, header = True, encoding = 'utf-8')"
   ]
  }
 ],
 "metadata": {
  "kernelspec": {
   "display_name": "Python 3 (ipykernel)",
   "language": "python",
   "name": "python3"
  },
  "language_info": {
   "codemirror_mode": {
    "name": "ipython",
    "version": 3
   },
   "file_extension": ".py",
   "mimetype": "text/x-python",
   "name": "python",
   "nbconvert_exporter": "python",
   "pygments_lexer": "ipython3",
   "version": "3.11.4"
  }
 },
 "nbformat": 4,
 "nbformat_minor": 5
}
