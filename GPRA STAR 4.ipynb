{
 "cells": [
  {
   "cell_type": "markdown",
   "id": "2498c9fd",
   "metadata": {},
   "source": [
    "# GRPA Coding\n",
    "\n",
    "Goverment Perfromance and Results Act (GPRA) coding for intake data of recovery specialist for the Institure for Prevention and Recovery (IFPR) at RWJ Baranabas"
   ]
  },
  {
   "cell_type": "code",
   "execution_count": 1,
   "id": "7e487610",
   "metadata": {},
   "outputs": [],
   "source": [
    "#importing pandas\n",
    "import pandas as pd\n",
    "import numpy as np"
   ]
  },
  {
   "cell_type": "code",
   "execution_count": 2,
   "id": "e9ffe513",
   "metadata": {},
   "outputs": [],
   "source": [
    "# importing data and parsing datetime columns\n",
    "df = pd.read_csv(r\"\\\\cdchomedir01\\home1\\tyogarro\\Jan GPRA\\GPRA_Coding_File.csv\", parse_dates = ['ADMIT_DT','FORM_DTTM','FORM_UPDATE_DTTM'\n",
    "])\n",
    "\n",
    "#subsetting to include Peer Recovery Program episodes\n",
    "df = df[df['EPISODE'] =='IFPR - STAR Program'].sort_values(by = ['FORM_DTTM','MRN']) # <- sorting df"
   ]
  },
  {
   "cell_type": "code",
   "execution_count": 3,
   "id": "f67a6951",
   "metadata": {},
   "outputs": [],
   "source": [
    "#Renaming column to create ClientID\n",
    "df.rename(columns = {'CSN':'ClientID'}, inplace = True)\n",
    "df['ClientID'] = df['ClientID'].str.split(',').str[0]"
   ]
  },
  {
   "cell_type": "code",
   "execution_count": 4,
   "id": "cc2688bc",
   "metadata": {},
   "outputs": [],
   "source": [
    "#function for days columns that exceed 30 days\n",
    "def exceed_thirty_days(x):\n",
    "    if x > 30:\n",
    "        return 30\n",
    "    else:\n",
    "        return x"
   ]
  },
  {
   "cell_type": "code",
   "execution_count": 5,
   "id": "1e615206",
   "metadata": {},
   "outputs": [],
   "source": [
    "#Create substring \n",
    "df['MODALITY_PLANNED'] = df['MODALITY_PLANNED'].str.split(',').str[0]\n",
    "df['MODALITY_PLANNED'] = df['MODALITY_PLANNED'].str.strip()"
   ]
  },
  {
   "cell_type": "code",
   "execution_count": 6,
   "id": "941fb8d3",
   "metadata": {},
   "outputs": [
    {
     "data": {
      "text/plain": [
       "array(['1. Case Management', nan,\n",
       "       '12. No Modality Services Will Be Provided',\n",
       "       '10. Recovery Support'], dtype=object)"
      ]
     },
     "execution_count": 6,
     "metadata": {},
     "output_type": "execute_result"
    }
   ],
   "source": [
    "df['MODALITY_PLANNED'].unique()"
   ]
  },
  {
   "cell_type": "markdown",
   "id": "4fd837ce",
   "metadata": {},
   "source": [
    "## Creating GPRA 4"
   ]
  },
  {
   "cell_type": "code",
   "execution_count": 7,
   "id": "89f103f3",
   "metadata": {},
   "outputs": [
    {
     "data": {
      "text/plain": [
       "array([nan, 'A. Methadone'], dtype=object)"
      ]
     },
     "execution_count": 7,
     "metadata": {},
     "output_type": "execute_result"
    }
   ],
   "source": [
    "df['MEDICATION_PLANNED'].unique()"
   ]
  },
  {
   "cell_type": "code",
   "execution_count": 8,
   "id": "64200aea",
   "metadata": {
    "scrolled": false
   },
   "outputs": [],
   "source": [
    "#Creating column PlanSvcMethadone \n",
    "def Plan_Svc_Methadone(x):\n",
    "    if x == 'M. Methadone':\n",
    "        return 1\n",
    "    else:\n",
    "        return 0\n",
    "\n",
    "df['PlanSvcMethadone'] = df['MEDICATION_PLANNED'].apply(lambda x:Plan_Svc_Methadone(x))"
   ]
  },
  {
   "cell_type": "code",
   "execution_count": 9,
   "id": "0394dba0",
   "metadata": {},
   "outputs": [],
   "source": [
    "#Creating function to create column PlanSvcBuprenorphine\n",
    "def Plan_Svc_Buprenorphine (x):\n",
    "    if x == 'B. Buprenorphine':\n",
    "        return 1\n",
    "    else:\n",
    "        return 0\n",
    "    \n",
    "#Creating column PlanSvcBuprenorphine via applying the function Plan_Svc_Buprenorphine (x)\n",
    "df['PlanSvcBuprenorphine'] = df['MEDICATION_PLANNED'].apply(lambda x:Plan_Svc_Buprenorphine (x))"
   ]
  },
  {
   "cell_type": "code",
   "execution_count": 10,
   "id": "3ed3e065",
   "metadata": {},
   "outputs": [],
   "source": [
    "#Creating columns with 0 values\n",
    "df['PlanSvcNaltrexoneShortActing'] = 0\n",
    "df['PlanSvcNaltrexoneLongActing'] = 0\n",
    "df['PlanSvcDisulfiram'] = 0\n",
    "df['PlanSvcAcamprosate'] = 0\n",
    "df['PlanSvcNicotineReplacement'] = 0 \n",
    "df['PlanSvcBupropion'] = 0\n",
    "df['PlanSvcVarenicline'] = 0"
   ]
  },
  {
   "cell_type": "code",
   "execution_count": 11,
   "id": "86e5c8ac",
   "metadata": {},
   "outputs": [],
   "source": [
    "#Creating columns with 0 values\n",
    "df['PlanSvcFreeStandingRes'] = 0\n",
    "df['PlanSvcHospitalInpatient'] = 0"
   ]
  },
  {
   "cell_type": "code",
   "execution_count": 12,
   "id": "80d5836c",
   "metadata": {},
   "outputs": [],
   "source": [
    "#Creating function to create column PlanSvcFreeStandingRes\n",
    "def Plan_Svc_FreeStandingRes (x):\n",
    "    if x == 'B. Free Standing Residential':\n",
    "        return 1\n",
    "    else:\n",
    "        return 0\n",
    "    \n",
    "#Creating column PlanSvcFreeStandingRes via applying the function Plan_Svc_FreeStandingRes (x)\n",
    "df['PlanSvcFreeStandingRes']= df['WITHDRAWAL_MANAGEMENT_PLANNED'].apply(lambda x: Plan_Svc_FreeStandingRes (x))"
   ]
  },
  {
   "cell_type": "code",
   "execution_count": 13,
   "id": "112e56f7",
   "metadata": {},
   "outputs": [],
   "source": [
    "#Creating column PlanSvcAmbulatoryDetox\n",
    "df['PlanSvcAmbulatoryDetox'] = 0"
   ]
  },
  {
   "cell_type": "code",
   "execution_count": 14,
   "id": "932df3a3",
   "metadata": {},
   "outputs": [],
   "source": [
    "#Creating columns with 0 values \n",
    "df['PlanSvcAfterCare'] = 0"
   ]
  },
  {
   "cell_type": "code",
   "execution_count": 15,
   "id": "b82851c2",
   "metadata": {},
   "outputs": [],
   "source": [
    "def PlanSvcRecoverySupport(x):\n",
    "    if x == '10. Recovery Support':\n",
    "        return 1\n",
    "    else:\n",
    "        return 0\n",
    "df['PlanSvcRecoverySupport'] = df['MODALITY_PLANNED'].apply(lambda x: PlanSvcRecoverySupport(x))"
   ]
  },
  {
   "cell_type": "code",
   "execution_count": 16,
   "id": "82394719",
   "metadata": {},
   "outputs": [],
   "source": [
    "# PlanSvcOtherModalities columns\n",
    "def no_modality(x):\n",
    "    if x == '12. No Modality Services Will Be Provided':\n",
    "        return 1\n",
    "    else:\n",
    "        return 0\n",
    "df['PlanSvcOtherModalities'] = df['MODALITY_PLANNED'].apply(lambda x: no_modality (x))"
   ]
  },
  {
   "cell_type": "code",
   "execution_count": 17,
   "id": "437d848f",
   "metadata": {},
   "outputs": [],
   "source": [
    "def no_modality_spec(x):\n",
    "    if x == 1:\n",
    "        return 'None'\n",
    "    else:\n",
    "        return ''\n",
    "df['PlanSvcOtherModalitesSpec'] = df['PlanSvcOtherModalities'].apply(lambda x:no_modality_spec(x))"
   ]
  },
  {
   "cell_type": "code",
   "execution_count": 18,
   "id": "c7b87ec1",
   "metadata": {},
   "outputs": [],
   "source": [
    "#Creating a column with a value of 0 and a blank column \n",
    "df['PlanSvcOtherModalities'] = 0\n",
    "df['PlanSvcOtherModalitesSpec'] = \" \""
   ]
  },
  {
   "cell_type": "code",
   "execution_count": 19,
   "id": "5d4bb0d5",
   "metadata": {},
   "outputs": [],
   "source": [
    "#Creating substrings of the column \n",
    "df['TREATMENT_SERVICES_PLANNED'] = df['TREATMENT_SERVICES_PLANNED'].str[:2]\n",
    "# 19 - no treatmebt\n",
    "# 18 - Other Clinical Services (Specify)\n",
    "# 12 - Cognitive Behavioral Therapy\n",
    "# 7 - Recovery Planning\n",
    "# 6 - Treatment Planning\n",
    "# 5 - Assessment\n",
    "# 4 - Referral to Treatment\n",
    "# 3 -  Brief Treatment\n",
    "# 2 - Brief Intervention\n",
    "# 1 - Screening"
   ]
  },
  {
   "cell_type": "code",
   "execution_count": 20,
   "id": "fdfb6ef8",
   "metadata": {
    "scrolled": true
   },
   "outputs": [],
   "source": [
    "#Creating function to create column PlanSvcScreening\n",
    "def Plan_Svc_Screening (row):\n",
    "    if row['TREATMENT_SERVICES_PLANNED'] == '1.':\n",
    "        return 1\n",
    "    else:\n",
    "        return 0 \n",
    "    \n",
    "#Creating column PlanSvcScreening via applying the function Plan_Svc_Screening (x)\n",
    "df['PlanSvcScreening'] = df.apply(Plan_Svc_Screening, axis = 1)"
   ]
  },
  {
   "cell_type": "code",
   "execution_count": 21,
   "id": "0d57445b",
   "metadata": {},
   "outputs": [],
   "source": [
    "#Creating function to create column PlanSvcBriefIntervention\n",
    "def Plan_Svc_Brief_Intervention (row):\n",
    "    if row['TREATMENT_SERVICES_PLANNED'] == '2.':\n",
    "        return 1\n",
    "    else:\n",
    "        return 0\n",
    "    \n",
    "#Creating column PlanSvcBriefIntervention via applying the function  Plan_Svc_Brief_Intervention (x)\n",
    "df['PlanSvcBriefIntervention'] = df.apply(Plan_Svc_Brief_Intervention, axis = 1)"
   ]
  },
  {
   "cell_type": "code",
   "execution_count": 22,
   "id": "e0074acc",
   "metadata": {},
   "outputs": [],
   "source": [
    "#Creating function to create column PlanSvcBriefTreatment\n",
    "def Plan_Svc_Brief_Treatment (row):\n",
    "    if row['TREATMENT_SERVICES_PLANNED'] == '3.':\n",
    "        return 1\n",
    "    else:\n",
    "        return 0\n",
    "    \n",
    "#Creating column PlanSvcBriefTreatment via applying the function Plan_Svc_Brief_Treatment (x)\n",
    "df['PlanSvcBriefTreatment'] = df.apply(Plan_Svc_Brief_Treatment, axis = 1)"
   ]
  },
  {
   "cell_type": "code",
   "execution_count": 23,
   "id": "14a5f122",
   "metadata": {},
   "outputs": [],
   "source": [
    "#Creating function to create column PlanSvcReferralTreatment\n",
    "def Plan_Svc_Referral_Treatment (row):\n",
    "    if row['TREATMENT_SERVICES_PLANNED'] == '4.':\n",
    "        return 1\n",
    "    else:\n",
    "        return 0\n",
    "    \n",
    "#Creating column PlanSvcReferralTreatment via pplying the function Plan_Svc_Referral_Treatment (x)\n",
    "df['PlanSvcReferralTreatment'] = df.apply(Plan_Svc_Referral_Treatment, axis = 1)"
   ]
  },
  {
   "cell_type": "code",
   "execution_count": 24,
   "id": "b55d2fa7",
   "metadata": {},
   "outputs": [],
   "source": [
    "#Creating function to create column PlanSvcAssessment\n",
    "def Plan_Svc_Assessment (row):\n",
    "    if row['TREATMENT_SERVICES_PLANNED'] == '5.':\n",
    "        return 1\n",
    "    else:\n",
    "        return 0\n",
    "\n",
    "#Creating column PlanSvcAssessment via applying the function Plan_Svc_Assessment (x)\n",
    "df['PlanSvcAssessment'] = df.apply(Plan_Svc_Assessment, axis = 1)"
   ]
  },
  {
   "cell_type": "code",
   "execution_count": 25,
   "id": "c2f82101",
   "metadata": {},
   "outputs": [],
   "source": [
    "#Creating function to create column PlanSvcTreatmentPlanning\n",
    "def Plan_Svc_Treatment_Planning (row):\n",
    "    if row['TREATMENT_SERVICES_PLANNED'] == '6.':\n",
    "        return 1\n",
    "    else:\n",
    "        return 0\n",
    "    \n",
    "#Creating column PlanSvcTreatmentPlanning via applying the funnction Plan_Svc_Treatment_Planning (x)\n",
    "df['PlanSvcTreatmentPlanning'] = df.apply(Plan_Svc_Treatment_Planning, axis = 1)"
   ]
  },
  {
   "cell_type": "code",
   "execution_count": 26,
   "id": "4ca3449d",
   "metadata": {},
   "outputs": [],
   "source": [
    "#Creating function to create column PlanSvcRecoveryPlanning\n",
    "def Plan_Svc_Recovery_Planning (row):\n",
    "    if row['TREATMENT_SERVICES_PLANNED'] == '7.':\n",
    "        return 1\n",
    "    else:\n",
    "        return 0\n",
    "    \n",
    "#Creating column PlanSvcRecoveryPlanning via applying the function Plan_Svc_Recovery_Planning (x)\n",
    "df['PlanSvcRecoveryPlanning'] = df.apply(Plan_Svc_Recovery_Planning, axis = 1)"
   ]
  },
  {
   "cell_type": "code",
   "execution_count": 27,
   "id": "2c2276ea",
   "metadata": {},
   "outputs": [],
   "source": [
    "#Creating columns with 0 values \n",
    "df['PlanSvcIndividualCouns'] = 0\n",
    "df['PlanSvcGroupCouns'] = 0\n",
    "df['PlanSvcContingencyManagement'] = 0\n",
    "df['PlanSvcCommunityReinforcement'] = 0"
   ]
  },
  {
   "cell_type": "code",
   "execution_count": 28,
   "id": "f403bf35",
   "metadata": {},
   "outputs": [],
   "source": [
    "#Creating function to create column PlanSvcCBT\n",
    "def Plan_Svc_CBT (row):\n",
    "    if row['TREATMENT_SERVICES_PLANNED'] == '12':\n",
    "        return 1\n",
    "    else:\n",
    "        return 0\n",
    "    \n",
    "#Creating column PlanSvcCBT via applying the function  Plan_Svc_CBT (x)\n",
    "df['PlanSvcCBT'] = df.apply(Plan_Svc_CBT, axis = 1)"
   ]
  },
  {
   "cell_type": "code",
   "execution_count": 29,
   "id": "a7db0ca5",
   "metadata": {},
   "outputs": [],
   "source": [
    "#Creating column PlanSvcFamilyMarriageCouns\n",
    "df['PlanSvcFamilyMarriageCouns'] = 0\n",
    "df['PlanSvcCoOccurring'] = 0\n",
    "df['PlanSvcPharmacological'] = 0\n",
    "df['PlanSvcHIVAIDSCouns'] = 0\n",
    "df['PlanSvcCulturalInterventions'] = 0"
   ]
  },
  {
   "cell_type": "code",
   "execution_count": 30,
   "id": "fe1fb9c2",
   "metadata": {},
   "outputs": [],
   "source": [
    "#Creating function to create column PlanSvcOtherClinicalCouns\n",
    "def Plan_Svc_OtherClinicalCouns (row):\n",
    "    if row['TREATMENT_SERVICES_PLANNED'] == '18':\n",
    "        return 1\n",
    "    elif row['TREATMENT_SERVICES_PLANNED'] == '19':\n",
    "        return 1\n",
    "    else:\n",
    "        return 0\n",
    "    \n",
    "#Creating column PlanSvcOtherClinicalCouns via applying the function Plan_Svc_OtherClinicalCouns (x)\n",
    "df['PlanSvcOtherClinicalCouns'] = df.apply(Plan_Svc_OtherClinicalCouns, axis = 1)"
   ]
  },
  {
   "cell_type": "code",
   "execution_count": 31,
   "id": "6d00a470",
   "metadata": {},
   "outputs": [],
   "source": [
    "#Renaming to create column \n",
    "df.rename(columns = {'OTHER_CLINICAL_SERVICES_PLANNED':'PlanSvcOtherClinicalCounsSpec'},inplace = True)\n",
    "\n",
    "def PlanSvcOtherClinicalCounsSpec(row):\n",
    "    if row['TREATMENT_SERVICES_PLANNED'] == '18':\n",
    "        return row['PlanSvcOtherClinicalCounsSpec']\n",
    "    elif row['TREATMENT_SERVICES_PLANNED'] == '19':\n",
    "        return 'None'\n",
    "\n",
    "df['PlanSvcOtherClinicalCounsSpec'] = df.apply(PlanSvcOtherClinicalCounsSpec, axis = 1)"
   ]
  },
  {
   "cell_type": "code",
   "execution_count": 32,
   "id": "a8b84fec",
   "metadata": {},
   "outputs": [],
   "source": [
    "#Creating substrings of the column \n",
    "df['CASE_MANAGEMENT_SERVICES_PLANNED'] = df['CASE_MANAGEMENT_SERVICES_PLANNED'].str[:2] \n",
    "\n",
    "# 1 - Family Services (e.g., Marriage, Education, Parenting, Child Development Services)\n",
    "# 2 - Child Care\n",
    "# 3 - Employment Service\n",
    "# 4 - Individual Services Coordination\n",
    "# 5 - Transportation \n",
    "# 7 - Transitional Drug-Free Housing Services\n",
    "# 8 -  Housing Support\n",
    "# 9 - Health Insurance Enrollment\n",
    "# 10 -  Other Case Management Services\n",
    "#11 - No Case Management Services Will Be Provided  "
   ]
  },
  {
   "cell_type": "code",
   "execution_count": 33,
   "id": "3fe6961e",
   "metadata": {},
   "outputs": [],
   "source": [
    "#Cretating function to create column PlanSvcFamilyServices\n",
    "def Plan_Svc_Family_Services (row):\n",
    "    if row['CASE_MANAGEMENT_SERVICES_PLANNED'] == '1.':\n",
    "        return 1\n",
    "    else:\n",
    "        return 0\n",
    "    \n",
    "#Creating column PlanSvcFamilyServices via applying the function Plan_Svc_Family_Services (x)\n",
    "df['PlanSvcFamilyServices'] = df.apply(Plan_Svc_Family_Services, axis = 1)"
   ]
  },
  {
   "cell_type": "code",
   "execution_count": 34,
   "id": "c0685eec",
   "metadata": {},
   "outputs": [],
   "source": [
    "#Cretating function to create column PlanSvcChildCare\n",
    "def Plan_Svc_ChildCare (row):\n",
    "    if row['CASE_MANAGEMENT_SERVICES_PLANNED'] == '2.':\n",
    "        return 1\n",
    "    else:\n",
    "        return 0\n",
    "    \n",
    "#Creating the column PlanSvcChildCare via applying the function Plan_Svc_ChildCare (x\n",
    "df['PlanSvcChildCare']= df.apply(Plan_Svc_ChildCare, axis = 1)"
   ]
  },
  {
   "cell_type": "code",
   "execution_count": 35,
   "id": "52bbd19a",
   "metadata": {},
   "outputs": [],
   "source": [
    "#Creating substring of column \n",
    "df['EMPLOYMENT_SERVICES_PLANNED'] = df['EMPLOYMENT_SERVICES_PLANNED'].str[:2]\n",
    "# A - Pre-Employment\n",
    "# B - Employment Coaching"
   ]
  },
  {
   "cell_type": "code",
   "execution_count": 36,
   "id": "02b1ee3a",
   "metadata": {},
   "outputs": [],
   "source": [
    "#Creating function to create column PlanSvcPreEmployment\n",
    "def Plan_Svc_PreEmployment (row):\n",
    "    if row['EMPLOYMENT_SERVICES_PLANNED'] == 'A.':\n",
    "        return 1\n",
    "    else:\n",
    "        return 0\n",
    "    \n",
    "#Creating column PlanSvcPreEmployment via applying the function Plan_Svc_PreEmployment (x)\n",
    "df['PlanSvcPreEmployment'] = df.apply(Plan_Svc_PreEmployment, axis = 1)"
   ]
  },
  {
   "cell_type": "code",
   "execution_count": 37,
   "id": "cba358dc",
   "metadata": {},
   "outputs": [],
   "source": [
    "#Cretating function to create column PlanSvcEmploymentCoaching\n",
    "def Plan_Svc_Employment_Coaching (row):\n",
    "    if row['EMPLOYMENT_SERVICES_PLANNED'] == 'B.':\n",
    "        return 1\n",
    "    else:\n",
    "        return 0\n",
    "    \n",
    "#Creating column PlanSvcEmploymentCoaching via applying the function Plan_Svc_Employment_Coaching (x)\n",
    "df['PlanSvcEmploymentCoaching'] = df.apply(Plan_Svc_Employment_Coaching, axis = 1)"
   ]
  },
  {
   "cell_type": "code",
   "execution_count": 38,
   "id": "8a519f87",
   "metadata": {},
   "outputs": [],
   "source": [
    "#Cretating function to create column PlanSvcIndividualCoord\n",
    "def  Plan_Svc_Individual_Coord (row):\n",
    "    if row['CASE_MANAGEMENT_SERVICES_PLANNED'] == '4.':\n",
    "        return 1\n",
    "    else:\n",
    "        return 0\n",
    "    \n",
    "#Creating column PlanSvcIndividualCoord via applying the function Plan_Svc_Individual_Coord (x)\n",
    "df['PlanSvcIndividualCoord'] = df.apply(Plan_Svc_Individual_Coord, axis = 1)"
   ]
  },
  {
   "cell_type": "code",
   "execution_count": 39,
   "id": "95141c05",
   "metadata": {},
   "outputs": [],
   "source": [
    "#Cretating function to create column PlanSvcTransportation\n",
    "def Plan_Svc_Transportation (row):\n",
    "    if row['CASE_MANAGEMENT_SERVICES_PLANNED'] == '5.':\n",
    "        return 1\n",
    "    else:\n",
    "        return 0\n",
    "    \n",
    "#Creating column PlanSvcTransportation via applying the function Plan_Svc_Transportation (x)\n",
    "df['PlanSvcTransportation'] = df.apply(Plan_Svc_Transportation, axis = 1)"
   ]
  },
  {
   "cell_type": "code",
   "execution_count": 40,
   "id": "8df602ed",
   "metadata": {},
   "outputs": [],
   "source": [
    "#Creating columns with 0 values \n",
    "df['PlanSvcHIVAIDServicesPreExp'] = 0\n",
    "df['PlanSvcHIVAIDSServicesPostExp'] = 0\n",
    "df['PlanSvcHIVAIDSServicesHIVTx'] = 0"
   ]
  },
  {
   "cell_type": "code",
   "execution_count": 41,
   "id": "3001ac8c",
   "metadata": {},
   "outputs": [],
   "source": [
    "#Cretating function to create column PlanSvcDrugFreeHousing\n",
    "def Plan_Svc_Drug_FreeHousing (row):\n",
    "    if row['CASE_MANAGEMENT_SERVICES_PLANNED'] == '7.':\n",
    "        return 1\n",
    "    else:\n",
    "        return 0\n",
    "    \n",
    "#Creating column PlanSvcDrugFreeHousing via applying the function Plan_Svc_Drug_FreeHousing (x)\n",
    "df['PlanSvcDrugFreeHousing'] = df.apply(Plan_Svc_Drug_FreeHousing, axis = 1)"
   ]
  },
  {
   "cell_type": "code",
   "execution_count": 42,
   "id": "931dd381",
   "metadata": {},
   "outputs": [],
   "source": [
    "#Cretating function to create column PlanSvcHousingSupport\n",
    "def Plan_Svc_Housing_Support (row):\n",
    "    if row['CASE_MANAGEMENT_SERVICES_PLANNED'] == '8.':\n",
    "        return 1\n",
    "    else:\n",
    "        return 0\n",
    "    \n",
    "#Creating column PlanSvcHousingSupport via applying the function lan_Svc_Housing_Support (x)\n",
    "df['PlanSvcHousingSupport'] = df.apply(Plan_Svc_Housing_Support, axis = 1)"
   ]
  },
  {
   "cell_type": "code",
   "execution_count": 43,
   "id": "8d0e5341",
   "metadata": {},
   "outputs": [],
   "source": [
    "#Creating column PlanSvcHealthInsuranceEnrollment\n",
    "df['PlanSvcHealthInsuranceEnrollment'] = 0"
   ]
  },
  {
   "cell_type": "code",
   "execution_count": 44,
   "id": "5ea485bc",
   "metadata": {},
   "outputs": [],
   "source": [
    "#Creating function to create colum PlanSvcOtherCaseMgmt\n",
    "def Plan_Svc_Other_CaseMgmt (row):\n",
    "    if row['CASE_MANAGEMENT_SERVICES_PLANNED'] == '10':\n",
    "        return 1\n",
    "    elif row['CASE_MANAGEMENT_SERVICES_PLANNED'] == '11':\n",
    "        return 1\n",
    "    else:\n",
    "        return 0\n",
    "    \n",
    "#Creating column PlanSvcOtherCaseMgmt via applying the function Plan_Svc_Other_CaseMgmt (x)\n",
    "df['PlanSvcOtherCaseMgmt'] = df.apply(Plan_Svc_Other_CaseMgmt, axis = 1)"
   ]
  },
  {
   "cell_type": "code",
   "execution_count": 45,
   "id": "ae8f924a",
   "metadata": {},
   "outputs": [],
   "source": [
    "#Renaming column to create column PlanSvcOtherCaseMgmtSpec\n",
    "df.rename(columns = {'OTHER_CASE_MANAGEMENT_SERVICES_PLANNED':'PlanSvcOtherCaseMgmtSpec'}, inplace = True)\n",
    "\n",
    "def PlanSvcOtherCaseMgmtSpec (row):\n",
    "    if row['CASE_MANAGEMENT_SERVICES_PLANNED'] == '10':\n",
    "        return row['PlanSvcOtherCaseMgmtSpec']\n",
    "    elif row['CASE_MANAGEMENT_SERVICES_PLANNED'] == '11':\n",
    "        return 'None'\n",
    "    \n",
    "df['PlanSvcOtherCaseMgmtSpec'] = df.apply(PlanSvcOtherCaseMgmtSpec, axis = 1)"
   ]
  },
  {
   "cell_type": "code",
   "execution_count": 46,
   "id": "d5260cd4",
   "metadata": {},
   "outputs": [],
   "source": [
    "#Creating a substring of a column \n",
    "df['MEDICAL_SERVICES_PLANNED'] = df['MEDICAL_SERVICES_PLANNED'].str[:2]\n",
    "# 1 - Medical Care\n",
    "# 2 - Alcohol/Drug Testing\n",
    "# 3 - OB/GYN Services\n",
    "# 4 - HIV/AIDS Medical Support & Testing \n",
    "# 5 - Dental Care\n",
    "# 8 - Other Medical Services (Specify)\n",
    "# 9 - No Medical Services Will be Provided "
   ]
  },
  {
   "cell_type": "code",
   "execution_count": 47,
   "id": "c452f42a",
   "metadata": {},
   "outputs": [],
   "source": [
    "#Creating function to create column PlanSvcMedicalCare\n",
    "def Plan_Svc_MedicalCare (row):\n",
    "    if row['MEDICAL_SERVICES_PLANNED'] == '1.':\n",
    "        return 1\n",
    "    else:\n",
    "        return 0\n",
    "    \n",
    "#Creating column PlanSvcMedicalCare via applying the function Plan_Svc_MedicalCare (x)\n",
    "df['PlanSvcMedicalCare'] = df.apply(Plan_Svc_MedicalCare, axis = 1)"
   ]
  },
  {
   "cell_type": "code",
   "execution_count": 48,
   "id": "34e3ab68",
   "metadata": {},
   "outputs": [],
   "source": [
    "#Creating function to create column PlanSvcAlcoholDrugTesting\n",
    "def Plan_Svc_Alcohol_DrugTesting (row):\n",
    "    if row['MEDICAL_SERVICES_PLANNED'] == '2.':\n",
    "        return 1\n",
    "    else:\n",
    "        return 0\n",
    "    \n",
    "#Creating column PlanSvcAlcoholDrugTesting via applying the function Plan_Svc_Alcohol_DrugTesting (x)\n",
    "df['PlanSvcAlcoholDrugTesting'] = df.apply(Plan_Svc_Alcohol_DrugTesting, axis = 1)"
   ]
  },
  {
   "cell_type": "code",
   "execution_count": 49,
   "id": "7f89e53b",
   "metadata": {},
   "outputs": [],
   "source": [
    "#Creating function to create column PlanSvcOBGYN\n",
    "def Plan_Svc_OBGYN (row):\n",
    "    if row['MEDICAL_SERVICES_PLANNED'] == '3.':\n",
    "        return 1\n",
    "    else:\n",
    "        return 0\n",
    "    \n",
    "#Creating column PlanSvcOBGYN via applying the function Plan_Svc_OBGYN (x)\n",
    "df['PlanSvcOBGYN'] = df.apply(Plan_Svc_OBGYN, axis = 1)"
   ]
  },
  {
   "cell_type": "code",
   "execution_count": 50,
   "id": "09f3d1e8",
   "metadata": {},
   "outputs": [],
   "source": [
    "#Creating function to create column PlanSvcHIVAIDSMedical\n",
    "def Plan_Svc_HIVAIDSMedical (row):\n",
    "    if row['MEDICAL_SERVICES_PLANNED'] == '4.':\n",
    "        return 1\n",
    "    else:\n",
    "        return 0\n",
    "    \n",
    "#Creating column PlanSvcHIVAIDSMedical via applying the function Plan_Svc_HIVAIDSMedical (x)\n",
    "df['PlanSvcHIVAIDSMedical'] = df.apply(Plan_Svc_HIVAIDSMedical, axis = 1)"
   ]
  },
  {
   "cell_type": "code",
   "execution_count": 51,
   "id": "85bdddf2",
   "metadata": {},
   "outputs": [],
   "source": [
    "#Creating function to create column PlanSvcDental\n",
    "def Plan_Svc_Dental (row):\n",
    "    if row['MEDICAL_SERVICES_PLANNED'] == '5.':\n",
    "        return 1\n",
    "    else:\n",
    "        return 0\n",
    "    \n",
    "#Creating column PlanSvcDental via applying the function Plan_Svc_Dental (x)\n",
    "df['PlanSvcDental'] = df.apply(Plan_Svc_Dental, axis = 1)"
   ]
  },
  {
   "cell_type": "code",
   "execution_count": 52,
   "id": "c90abacf",
   "metadata": {},
   "outputs": [],
   "source": [
    "#Creating columns with 0 values\n",
    "df['PlanSvcHepatitisSupport'] = 0\n",
    "df['PlanSvcOtherSTISupport'] = 0\n"
   ]
  },
  {
   "cell_type": "code",
   "execution_count": 53,
   "id": "e2874cdb",
   "metadata": {},
   "outputs": [],
   "source": [
    "#Creating function to create column PlanSvcOtherMedical\n",
    "def Plan_Svc_OtherMedical (row):\n",
    "    if row['MEDICAL_SERVICES_PLANNED'] == '8.':\n",
    "        return 1\n",
    "    elif row['MEDICAL_SERVICES_PLANNED'] == '9.':\n",
    "        return 1\n",
    "    else:\n",
    "        return 0\n",
    "    \n",
    "#Creating column PlanSvcOtherMedical via applying the function Plan_Svc_OtherMedical (x)\n",
    "df['PlanSvcOtherMedical'] = df.apply(Plan_Svc_OtherMedical, axis = 1)"
   ]
  },
  {
   "cell_type": "code",
   "execution_count": 54,
   "id": "1b26695f",
   "metadata": {},
   "outputs": [],
   "source": [
    "# creating column PlanSvcOtherMedicalSpec\n",
    "df.rename(columns = {'OTHER_MEDICAL_SERVICES_PLANNED':'PlanSvcOtherMedicalSpec'}, inplace = True)\n",
    "\n",
    "def PlanSvcOtherMedicalSpec (row):\n",
    "    if row['MEDICAL_SERVICES_PLANNED'] == '8.':\n",
    "        return row['PlanSvcOtherMedicalSpec']\n",
    "    elif row['MEDICAL_SERVICES_PLANNED'] == '9.':\n",
    "        return 'None'\n",
    "    \n",
    "df['PlanSvcOtherMedicalSpec'] = df.apply(PlanSvcOtherMedicalSpec, axis = 1)"
   ]
  },
  {
   "cell_type": "code",
   "execution_count": 55,
   "id": "baadc00e",
   "metadata": {},
   "outputs": [],
   "source": [
    "#Creating subtring of values in column \n",
    "df['AFTER_CARE_SERVICES_PLANNED'] = df['AFTER_CARE_SERVICES_PLANNED'].str[:2]\n",
    "# 1 Continuing Care\n",
    "# 2 Relapse Prevention\n",
    "# 3 Recovery Coaching\n",
    "# 4  Self-Help and Mutual Support Groups\n",
    "# 5 Spiritual Support\n",
    "# 7 No After Care Services Will Be Provided"
   ]
  },
  {
   "cell_type": "code",
   "execution_count": 56,
   "id": "3b0c00c6",
   "metadata": {},
   "outputs": [],
   "source": [
    "#Creating function to create column PlanSvcContinuingCare\n",
    "def Plan_Svc_ContinuingCare (row):\n",
    "    if row['AFTER_CARE_SERVICES_PLANNED'] == '1.':\n",
    "        return 1\n",
    "    else:\n",
    "        return 0\n",
    "    \n",
    "#Creating column PlanSvcContinuingCare via applying the function Plan_Svc_ContinuingCare (x)\n",
    "df['PlanSvcContinuingCare'] = df.apply(Plan_Svc_ContinuingCare, axis = 1)"
   ]
  },
  {
   "cell_type": "code",
   "execution_count": 57,
   "id": "c02cb226",
   "metadata": {},
   "outputs": [],
   "source": [
    "#Creating function to create column PlanSvcRelapsePrevention\n",
    "def Plan_Svc_RelapsePrevention (row):\n",
    "    if row['AFTER_CARE_SERVICES_PLANNED'] == '2.':\n",
    "        return 1\n",
    "    else:\n",
    "        return 0 \n",
    "    \n",
    "#Creating column PlanSvcRelapsePrevention via applying the function Plan_Svc_RelapsePrevention (x)\n",
    "df['PlanSvcRelapsePrevention'] = df.apply(Plan_Svc_RelapsePrevention, axis = 1) "
   ]
  },
  {
   "cell_type": "code",
   "execution_count": 58,
   "id": "df2b6769",
   "metadata": {},
   "outputs": [],
   "source": [
    "#Creating function to create column PlanSvcRecoveryCoaching\n",
    "def Plan_Svc_RecoveryCoaching (row):\n",
    "    if row['AFTER_CARE_SERVICES_PLANNED'] == '3.':\n",
    "        return 1\n",
    "    else:\n",
    "        return 0\n",
    "    \n",
    "#Creating column PlanSvcRecoveryCoaching via applying the function Plan_Svc_RecoveryCoaching (x)\n",
    "df['PlanSvcRecoveryCoaching'] = df.apply(Plan_Svc_RecoveryCoaching, axis = 1)"
   ]
  },
  {
   "cell_type": "code",
   "execution_count": 59,
   "id": "24ad64ca",
   "metadata": {},
   "outputs": [],
   "source": [
    "#Creating function to create column PlanSvcSelfHelpSupport\n",
    "def Plan_Svc_SelfHelpSupport (row):\n",
    "    if row['AFTER_CARE_SERVICES_PLANNED'] == '4.':\n",
    "        return 1\n",
    "    else:\n",
    "        return 0\n",
    "    \n",
    "#Creating column PlanSvcSelfHelpSupport via applying the function Plan_Svc_SelfHelpSupport (x)\n",
    "df['PlanSvcSelfHelpSupport'] = df.apply(Plan_Svc_SelfHelpSupport, axis = 1)"
   ]
  },
  {
   "cell_type": "code",
   "execution_count": 60,
   "id": "745146fb",
   "metadata": {},
   "outputs": [],
   "source": [
    "#Creating function to create column PlanSvcSpiritualSupport\n",
    "def Plan_Svc_SpiritualSupport (row):\n",
    "    if row['AFTER_CARE_SERVICES_PLANNED'] == '5.':\n",
    "        return 1\n",
    "    else:\n",
    "        return 0\n",
    "    \n",
    "#Creating column PlanSvcSpiritualSupport via applying the function Plan_Svc_SpiritualSupport (x)\n",
    "df['PlanSvcSpiritualSupport'] = df.apply(Plan_Svc_SpiritualSupport, axis = 1)"
   ]
  },
  {
   "cell_type": "code",
   "execution_count": 61,
   "id": "ec505d24",
   "metadata": {},
   "outputs": [],
   "source": [
    "#creating column PlanSvcOtherAfterCare\n",
    "def PlanSvcOtherAfterCare (row):\n",
    "    if row['AFTER_CARE_SERVICES_PLANNED'] == '7.':\n",
    "        return 1\n",
    "    else:\n",
    "        return 0\n",
    "    \n",
    "df['PlanSvcOtherAfterCare'] = df.apply(PlanSvcOtherAfterCare, axis = 1 )"
   ]
  },
  {
   "cell_type": "code",
   "execution_count": 62,
   "id": "c889eab3",
   "metadata": {},
   "outputs": [],
   "source": [
    "# creating column PlanSvcOtherAfterCareSpec\n",
    "def PlanSvcOtherAfterCareSpec (row):\n",
    "    if row['PlanSvcOtherAfterCare'] == 1:\n",
    "        return 'None'\n",
    "    \n",
    "df['PlanSvcOtherAfterCareSpec'] = df.apply(PlanSvcOtherAfterCareSpec, axis =1 )"
   ]
  },
  {
   "cell_type": "code",
   "execution_count": 63,
   "id": "0c7d57c1",
   "metadata": {},
   "outputs": [],
   "source": [
    "#Creating a substring of column \n",
    "df['EDUCATION_SERVICES_PLANNED'] = df['EDUCATION_SERVICES_PLANNED'].str[:2]\n",
    "# 1  Substance Use Education\n",
    "# 3 Naloxone Training\n",
    "# 7 Other Education Services (Specify)\n",
    "# 8 No Education Services Will Be Provided"
   ]
  },
  {
   "cell_type": "code",
   "execution_count": 64,
   "id": "3842ddd6",
   "metadata": {},
   "outputs": [],
   "source": [
    "#Creating function to create column PlanSvcSubstanceAbuseEdu\n",
    "def Plan_Svc_SubstanceAbuseEdu (row):\n",
    "    if row['EDUCATION_SERVICES_PLANNED'] == '1.':\n",
    "        return 1\n",
    "    else:\n",
    "        return 0\n",
    "    \n",
    "#Creating column PlanSvcSubstanceAbuseEdu via applying the function \n",
    "df['PlanSvcSubstanceAbuseEdu'] = df.apply(Plan_Svc_SubstanceAbuseEdu, axis = 1)"
   ]
  },
  {
   "cell_type": "code",
   "execution_count": 65,
   "id": "db422023",
   "metadata": {},
   "outputs": [],
   "source": [
    "#Creating column PlanSvcHIVAIDSEdu with a 0 values\n",
    "df['Plan_Svc_HIVAIDSEdu'] = 0\n",
    "\n",
    "df.rename(columns = {'Plan_Svc_HIVAIDSEdu':'PlanSvcHIVAIDSEdu'},inplace = True)"
   ]
  },
  {
   "cell_type": "code",
   "execution_count": 66,
   "id": "20239277",
   "metadata": {},
   "outputs": [],
   "source": [
    "#Creating function to create column PlanSvcNaloxoneTraining\n",
    "def Plan_Svc_NaloxoneTraining (row):\n",
    "    if row['EDUCATION_SERVICES_PLANNED'] == '3.':\n",
    "        return 1\n",
    "    else:\n",
    "        return 0\n",
    "    \n",
    "#Creating column PlanSvcNaloxoneTraining via applying the function Plan_Svc_NaloxoneTraining (x)\n",
    "df['PlanSvcNaloxoneTraining'] = df.apply(Plan_Svc_NaloxoneTraining, axis = 1)"
   ]
  },
  {
   "cell_type": "code",
   "execution_count": 67,
   "id": "cdd97f1f",
   "metadata": {},
   "outputs": [],
   "source": [
    "#Creating columns with 0 values\n",
    "df['PlanSvcFentanylTestStripTraining'] = 0\n",
    "df['PlanSvcHepatitisEdu'] = 0\n",
    "df['PlanSvcOtherSTIEdu'] = 0"
   ]
  },
  {
   "cell_type": "code",
   "execution_count": 68,
   "id": "ce962347",
   "metadata": {},
   "outputs": [],
   "source": [
    "#Creating function to create column PlanSvcOtherEdu\n",
    "def Plan_Svc_OtherEdu (row):\n",
    "    if row['EDUCATION_SERVICES_PLANNED'] == '7.':\n",
    "        return 1\n",
    "    elif row['EDUCATION_SERVICES_PLANNED'] == '8.':\n",
    "        return 1\n",
    "    else:\n",
    "        return 0\n",
    "    \n",
    "#Creating column PlanSvcOtherEdu via applying the function Plan_Svc_OtherEdu (x)\n",
    "df['PlanSvcOtherEdu'] = df.apply(Plan_Svc_OtherEdu, axis = 1)"
   ]
  },
  {
   "cell_type": "code",
   "execution_count": 69,
   "id": "9d553c1d",
   "metadata": {},
   "outputs": [],
   "source": [
    "# creating column PlanSvcOtherEduSpec\n",
    "df.rename(columns = {'OTHER_EDUCATION_SERVICES_PLANNED':'PlanSvcOtherEduSpec'}, inplace = True)\n",
    "\n",
    "def PlanSvcOtherEduSpec (row):\n",
    "    if row['EDUCATION_SERVICES_PLANNED'] == '7.':\n",
    "        return row['PlanSvcOtherEduSpec']\n",
    "    elif row['EDUCATION_SERVICES_PLANNED']=='8.':\n",
    "        return 'None'\n",
    "    \n",
    "df['PlanSvcOtherEduSpec'] = df.apply(PlanSvcOtherEduSpec, axis = 1)"
   ]
  },
  {
   "cell_type": "code",
   "execution_count": 70,
   "id": "3382acbe",
   "metadata": {},
   "outputs": [],
   "source": [
    "#Creating substring of column\n",
    "df['RECOVERY_SUPPORT_SERVICES_PLANNED'] = df['RECOVERY_SUPPORT_SERVICES_PLANNED'].str[:2]\n",
    "# 1 Peer Coaching or Mentoring\n",
    "# 3 Recovery Housing\n",
    "# 4 Recovery Planning\n",
    "# 5 Case Management Services to Specifically Support Recovery\n",
    "# 8 Other Recovery Support Services (Specify)\n",
    "# 9 Other Peer-to-Peer Recovery Support Services (Specify)\n",
    "# 10 No Recovery Support Services Will Be Provided\n"
   ]
  },
  {
   "cell_type": "code",
   "execution_count": 71,
   "id": "14062342",
   "metadata": {},
   "outputs": [],
   "source": [
    "#Creating function to create column PlanSvcPeerCoaching\n",
    "def Plan_Svc_PeerCoaching (row):\n",
    "    if row['RECOVERY_SUPPORT_SERVICES_PLANNED'] == '1.':\n",
    "        return 1\n",
    "    else:\n",
    "        return 0\n",
    "    \n",
    "#Creating column PlanSvcPeerCoaching via applying the function Plan_Svc_PeerCoaching (x)\n",
    "df['PlanSvcPeerCoaching'] = df.apply(Plan_Svc_PeerCoaching, axis = 1)"
   ]
  },
  {
   "cell_type": "code",
   "execution_count": 72,
   "id": "9c6af636",
   "metadata": {},
   "outputs": [],
   "source": [
    "#Creating column PlanSvcVocational\n",
    "df['PlanSvcVocational'] = 0"
   ]
  },
  {
   "cell_type": "code",
   "execution_count": 73,
   "id": "54e26b29",
   "metadata": {},
   "outputs": [],
   "source": [
    "#Creating function to create column PlanSvcRecoveryHousing\n",
    "def Plan_Svc_RecoveryHousing (row):\n",
    "    if row['RECOVERY_SUPPORT_SERVICES_PLANNED'] == '3.':\n",
    "        return 1\n",
    "    else:\n",
    "        return 0\n",
    "    \n",
    "#Creating column PlanSvcRecoveryHousing via applying the function Plan_Svc_RecoveryHousing (x)\n",
    "df['PlanSvcRecoveryHousing'] = df.apply(Plan_Svc_RecoveryHousing, axis = 1)"
   ]
  },
  {
   "cell_type": "code",
   "execution_count": 74,
   "id": "73b491ae",
   "metadata": {},
   "outputs": [],
   "source": [
    "#Creating function to create column PlanSvcRecoveryPlanningRSS\n",
    "def Plan_Svc_RecoveryPlanningRSS (row):\n",
    "    if row['RECOVERY_SUPPORT_SERVICES_PLANNED'] == '4.':\n",
    "        return 1\n",
    "    else:\n",
    "        return 0\n",
    "    \n",
    "#Creating column PlanSvcRecoveryPlanningRSS via applying the function Plan_Svc_RecoveryPlanningRSS (x)\n",
    "df['PlanSvcRecoveryPlanningRSS'] = df.apply(Plan_Svc_RecoveryPlanningRSS, axis = 1)"
   ]
  },
  {
   "cell_type": "code",
   "execution_count": 75,
   "id": "669afe8b",
   "metadata": {},
   "outputs": [],
   "source": [
    "#Creating function to create column PlanSvcRecoveryCaseManagement\n",
    "def Plan_Svc_RecoveryCaseManagement (row):\n",
    "    if row['RECOVERY_SUPPORT_SERVICES_PLANNED'] == '5.':\n",
    "        return 1\n",
    "    else:\n",
    "        return 0\n",
    "    \n",
    "#Creating column PlanSvcRecoveryCaseManagement via applying the function Plan_Svc_RecoveryCaseManagement (x)\n",
    "df['PlanSvcRecoveryCaseManagement'] = df.apply(Plan_Svc_RecoveryCaseManagement, axis = 1)"
   ]
  },
  {
   "cell_type": "code",
   "execution_count": 76,
   "id": "1596c562",
   "metadata": {},
   "outputs": [],
   "source": [
    "#Creating columns with 0 values\n",
    "df['PlanSvcDrugFreeSocial'] = 0\n",
    "df['PlanSvcInformationReferral'] = 0"
   ]
  },
  {
   "cell_type": "code",
   "execution_count": 77,
   "id": "a0b2dac0",
   "metadata": {},
   "outputs": [],
   "source": [
    "#Creating function to create column PlanSvcOtherRecoverySupport\n",
    "def Plan_Svc_OtherRecoverySupport (row):\n",
    "    if row['RECOVERY_SUPPORT_SERVICES_PLANNED'] == '8.':\n",
    "        return 1\n",
    "    elif row['RECOVERY_SUPPORT_SERVICES_PLANNED'] == '10':\n",
    "        return 1\n",
    "    else:\n",
    "        return 0\n",
    "\n",
    "#Creating column PlanSvcOtherRecoverySupport via applying the function\n",
    "df['PlanSvcOtherRecoverySupport'] = df.apply(Plan_Svc_OtherRecoverySupport, axis = 1)"
   ]
  },
  {
   "cell_type": "code",
   "execution_count": 78,
   "id": "4311ce5b",
   "metadata": {},
   "outputs": [],
   "source": [
    "df.rename(columns = {'OTHER_RECOVERY_SUPPORT_SERVICES_PLANNED':'PlanSvcOtherRecoverySupportSpec'}, inplace = True)\n",
    "\n",
    "def PlanSvcOtherRecoverySupportSpec (row):\n",
    "    if row['RECOVERY_SUPPORT_SERVICES_PLANNED'] == '8.':\n",
    "        return row['PlanSvcOtherRecoverySupportSpec']\n",
    "    elif row['RECOVERY_SUPPORT_SERVICES_PLANNED'] == '10':\n",
    "        return 'None'\n",
    "    \n",
    "df['PlanSvcOtherRecoverySupportSpec'] = df.apply(PlanSvcOtherRecoverySupportSpec,axis = 1)"
   ]
  },
  {
   "cell_type": "code",
   "execution_count": 79,
   "id": "9308a549",
   "metadata": {},
   "outputs": [],
   "source": [
    "#Creating function to create column PlanSvcOtherPeerRecovery\n",
    "def Plan_Svc_OtherPeerRecovery (row):\n",
    "    if row['RECOVERY_SUPPORT_SERVICES_PLANNED'] == '9.':\n",
    "        return 1\n",
    "    else:\n",
    "        return 0\n",
    "    \n",
    "#Creating column PlanSvcOtherPeerRecovery via applying the function Plan_Svc_OtherPeerRecovery (x)\n",
    "df['PlanSvcOtherPeerRecovery'] = df.apply(Plan_Svc_OtherPeerRecovery, axis = 1)"
   ]
  },
  {
   "cell_type": "code",
   "execution_count": 80,
   "id": "6ca81223",
   "metadata": {},
   "outputs": [],
   "source": [
    "df.rename(columns = {'OTHER_PEER_TO_PEER_RECOVERY_SUPPORT_SERVICES_PLANNED':'PlanSvcOtherPeerRecoverySpec'}, inplace = True)\n",
    "\n",
    "def PlanSvcOtherPeerRecoverySpec (row):\n",
    "    if row['PlanSvcOtherPeerRecovery'] == 1:\n",
    "        return row['PlanSvcOtherPeerRecoverySpec']\n",
    "    \n",
    "df['PlanSvcOtherPeerRecoverySpec'] = df.apply(PlanSvcOtherPeerRecoverySpec, axis = 1)"
   ]
  },
  {
   "cell_type": "code",
   "execution_count": 81,
   "id": "bfbf0c58",
   "metadata": {},
   "outputs": [],
   "source": [
    "# Renaming column to create column LivingHousedSpec\n",
    "df.rename(columns = {'OTHER_HOUSED':'LivingHousedSpec'}, inplace = True)"
   ]
  },
  {
   "cell_type": "code",
   "execution_count": 82,
   "id": "6a8ef77e",
   "metadata": {},
   "outputs": [],
   "source": [
    "#Replacing null values with -9\n",
    "df['WHERE_LIVING_MOST_IN_PAST_30_DAYS'] = df['WHERE_LIVING_MOST_IN_PAST_30_DAYS'].fillna(-9)\n",
    "df['WHERE_LIVING_MOST_IN_PAST_30_DAYS'] = df['WHERE_LIVING_MOST_IN_PAST_30_DAYS'].str.split(',').str[0]\n",
    "df['WHERE_LIVING_MOST_IN_PAST_30_DAYS'] = df['WHERE_LIVING_MOST_IN_PAST_30_DAYS'].replace('Shelter (Safe Havens','Shelter')\n",
    "df['WHERE_LIVING_MOST_IN_PAST_30_DAYS'] = df['WHERE_LIVING_MOST_IN_PAST_30_DAYS'].replace('Street/Outdoors (Sidewalk','Street/Outdoors')\n",
    "df['WHERE_LIVING_MOST_IN_PAST_30_DAYS'] = df['WHERE_LIVING_MOST_IN_PAST_30_DAYS'].replace('Institution (Hospital','Institution')\n",
    "df['WHERE_LIVING_MOST_IN_PAST_30_DAYS'] = df['WHERE_LIVING_MOST_IN_PAST_30_DAYS'].replace('Housed - [IF HOUSED','Housed')\n",
    "\n",
    "# Creating function to create column LivingWhere\n",
    "def LivingWhere (row):\n",
    "    if row['WHERE_LIVING_MOST_IN_PAST_30_DAYS'] == 'Shelter':\n",
    "        return 1\n",
    "    elif row['WHERE_LIVING_MOST_IN_PAST_30_DAYS'] == 'Street/Outdoors':\n",
    "        return 2\n",
    "    elif row['WHERE_LIVING_MOST_IN_PAST_30_DAYS'] == 'Institution':\n",
    "        return 3\n",
    "    elif row['WHERE_LIVING_MOST_IN_PAST_30_DAYS'] == 'Housed' or row['WHERE_LIVING_MOST_IN_PAST_30_DAYS'] == 'Own/Rental Apartment':\n",
    "        return 4\n",
    "    elif row['WHERE_LIVING_MOST_IN_PAST_30_DAYS'] == \"Someone Else’s Apartment\" or row['WHERE_LIVING_MOST_IN_PAST_30_DAYS'] == 'Dormitory/College Residence' :\n",
    "        return 4\n",
    "    elif row['WHERE_LIVING_MOST_IN_PAST_30_DAYS'] == \"Residential Treatment\" or row['WHERE_LIVING_MOST_IN_PAST_30_DAYS'] == 'Halfway House or Transitional Housing':\n",
    "        return 4\n",
    "    elif row['WHERE_LIVING_MOST_IN_PAST_30_DAYS'] == 'Recovery Residence/Sober Living':\n",
    "        return 4\n",
    "    elif row['WHERE_LIVING_MOST_IN_PAST_30_DAYS'] == 'Other Housed (SPECIFY)':\n",
    "        return 4\n",
    "    elif row['WHERE_LIVING_MOST_IN_PAST_30_DAYS'] == 'REFUSED':\n",
    "        return -7\n",
    "    elif row['WHERE_LIVING_MOST_IN_PAST_30_DAYS'] == -9:\n",
    "        return -9\n",
    "    else:\n",
    "        return -9\n",
    "        \n",
    "#Creating column LivingWhere via applying the function Living_Where (row['WHERE_LIVING_MOST_IN_PAST_30_DAYS'])\n",
    "df['LivingWhere'] = df.apply(LivingWhere, axis = 1)"
   ]
  },
  {
   "cell_type": "code",
   "execution_count": 83,
   "id": "ac8ac68f",
   "metadata": {},
   "outputs": [],
   "source": [
    "#Creating function to create column LivingHoused\n",
    "def LivingHoused (row):\n",
    "\n",
    "        if row['WHERE_LIVING_MOST_IN_PAST_30_DAYS'] == 'Own/Rental Apartment':\n",
    "            return 1\n",
    "        elif row['WHERE_LIVING_MOST_IN_PAST_30_DAYS'] == 'Housed':\n",
    "            return 1\n",
    "        elif row['WHERE_LIVING_MOST_IN_PAST_30_DAYS'] == \"Someone Else’s Apartment\":\n",
    "            return 2\n",
    "        elif row['WHERE_LIVING_MOST_IN_PAST_30_DAYS'] == 'Halfway House or Transitional Housing':\n",
    "            return 3\n",
    "        elif row['WHERE_LIVING_MOST_IN_PAST_30_DAYS'] == \"Residential Treatment\":\n",
    "            return 4\n",
    "        elif row['WHERE_LIVING_MOST_IN_PAST_30_DAYS'] == 'Other Housed (SPECIFY)':\n",
    "            return 5\n",
    "        elif row['WHERE_LIVING_MOST_IN_PAST_30_DAYS'] == 'Dormitory/College Residence':\n",
    "            return 6\n",
    "        elif row['WHERE_LIVING_MOST_IN_PAST_30_DAYS'] == 'Recovery Residence/Sober Living':\n",
    "            return 7\n",
    "        elif  row['WHERE_LIVING_MOST_IN_PAST_30_DAYS'] == 'REFUSED':\n",
    "            return -1\n",
    "        else:\n",
    "            return -1\n",
    "    \n",
    "#Creating column LivingHoused via applying the function Living_Housed (x)\n",
    "df['LivingHoused'] = df.apply(LivingHoused, axis = 1)"
   ]
  },
  {
   "cell_type": "code",
   "execution_count": 84,
   "id": "72e72aa9",
   "metadata": {},
   "outputs": [],
   "source": [
    "#Replacing null values with -9\n",
    "df['CURRENTLY_LIVING_WITH_PERSON_WHO_REGULARLY_USED_SUBSTANCES_IN_PAST_30_DAYS'] = df['CURRENTLY_LIVING_WITH_PERSON_WHO_REGULARLY_USED_SUBSTANCES_IN_PAST_30_DAYS'].fillna(-9)\n",
    "\n",
    "#Creating function to create column LivingAlcDrugUse\n",
    "def Living_Alc_DrugUse (x):\n",
    "    if x == 'Yes':\n",
    "        return 1\n",
    "    elif x == 'No':\n",
    "        return 2\n",
    "    elif x == 'No, lives alone':\n",
    "        return 3\n",
    "    elif x == 'REFUSED':\n",
    "        return -7\n",
    "    elif x == -9:\n",
    "        return -9\n",
    "\n",
    "#Creating column LivingAlcDrugUse via applying the function  Living_Alc_DrugUse (x)\n",
    "df['LivingAlcDrugUse'] = df['CURRENTLY_LIVING_WITH_PERSON_WHO_REGULARLY_USED_SUBSTANCES_IN_PAST_30_DAYS'].apply(lambda x: Living_Alc_DrugUse (x))"
   ]
  },
  {
   "cell_type": "code",
   "execution_count": 85,
   "id": "66193386",
   "metadata": {},
   "outputs": [],
   "source": [
    "df['PlanSvcResidentialRehab'] = 0"
   ]
  },
  {
   "cell_type": "markdown",
   "id": "b1034614",
   "metadata": {},
   "source": [
    "## Exporting GPRA 4"
   ]
  },
  {
   "cell_type": "code",
   "execution_count": 87,
   "id": "0175deeb",
   "metadata": {},
   "outputs": [],
   "source": [
    "#Creating variable to export\n",
    "GPRA4_STAR = df[['ClientID','PlanSvcMethadone',\t'PlanSvcBuprenorphine',\t'PlanSvcNaltrexoneShortActing',\t'PlanSvcNaltrexoneLongActing',\t'PlanSvcDisulfiram',\t'PlanSvcAcamprosate',\t'PlanSvcNicotineReplacement',\t'PlanSvcBupropion',\t'PlanSvcVarenicline',\t'PlanSvcResidentialRehab',\t'PlanSvcHospitalInpatient',\t'PlanSvcFreeStandingRes',\t'PlanSvcAmbulatoryDetox',\t'PlanSvcAfterCare',\t'PlanSvcRecoverySupport',\t'PlanSvcOtherModalities',\t'PlanSvcOtherModalitesSpec',\t'PlanSvcScreening',\t'PlanSvcBriefIntervention',\t'PlanSvcBriefTreatment',\t'PlanSvcReferralTreatment',\t'PlanSvcAssessment',\t'PlanSvcTreatmentPlanning',\t'PlanSvcRecoveryPlanning',\t'PlanSvcIndividualCouns',\t'PlanSvcGroupCouns',\t'PlanSvcContingencyManagement',\t'PlanSvcCommunityReinforcement',\t'PlanSvcCBT',\t'PlanSvcFamilyMarriageCouns',\t'PlanSvcCoOccurring',\t'PlanSvcPharmacological',\t'PlanSvcHIVAIDSCouns',\t'PlanSvcCulturalInterventions',\t'PlanSvcOtherClinicalCouns',\t'PlanSvcOtherClinicalCounsSpec',\t'PlanSvcFamilyServices',\t'PlanSvcChildCare',\t'PlanSvcPreEmployment',\t'PlanSvcEmploymentCoaching',\t'PlanSvcIndividualCoord',\t'PlanSvcTransportation',\t'PlanSvcHIVAIDServicesPreExp',\t'PlanSvcHIVAIDSServicesPostExp',\t'PlanSvcHIVAIDSServicesHIVTx',\t'PlanSvcDrugFreeHousing',\t'PlanSvcHousingSupport',\t'PlanSvcHealthInsuranceEnrollment',\t'PlanSvcOtherCaseMgmt',\t'PlanSvcOtherCaseMgmtSpec',\t'PlanSvcMedicalCare',\t'PlanSvcAlcoholDrugTesting',\t'PlanSvcOBGYN',\t'PlanSvcHIVAIDSMedical',\t'PlanSvcDental',\t'PlanSvcHepatitisSupport',\t'PlanSvcOtherSTISupport',\t'PlanSvcOtherMedical',\t'PlanSvcOtherMedicalSpec',\t'PlanSvcContinuingCare',\t'PlanSvcRelapsePrevention',\t'PlanSvcRecoveryCoaching',\t'PlanSvcSelfHelpSupport',\t'PlanSvcSpiritualSupport',\t'PlanSvcOtherAfterCare',\t'PlanSvcOtherAfterCareSpec',\t'PlanSvcSubstanceAbuseEdu',\t'PlanSvcHIVAIDSEdu',\t'PlanSvcNaloxoneTraining',\t'PlanSvcFentanylTestStripTraining',\t'PlanSvcHepatitisEdu',\t'PlanSvcOtherSTIEdu',\t'PlanSvcOtherEdu',\t'PlanSvcOtherEduSpec',\t'PlanSvcPeerCoaching',\t'PlanSvcVocational',\t'PlanSvcRecoveryHousing',\t'PlanSvcRecoveryPlanningRSS',\t'PlanSvcRecoveryCaseManagement',\t'PlanSvcDrugFreeSocial',\t'PlanSvcInformationReferral',\t'PlanSvcOtherRecoverySupport',\t'PlanSvcOtherRecoverySupportSpec',\t'PlanSvcOtherPeerRecovery',\t'PlanSvcOtherPeerRecoverySpec',\t'LivingWhere',\t'LivingHoused',\t'LivingHousedSpec',\t'LivingAlcDrugUse']]\n",
    "\n",
    "#Exporting GPRA 4\n",
    "GPRA4_STAR.to_csv('GPRA4_STAR.csv', index = False, header = True, encoding = 'utf-8')"
   ]
  }
 ],
 "metadata": {
  "kernelspec": {
   "display_name": "Python 3 (ipykernel)",
   "language": "python",
   "name": "python3"
  },
  "language_info": {
   "codemirror_mode": {
    "name": "ipython",
    "version": 3
   },
   "file_extension": ".py",
   "mimetype": "text/x-python",
   "name": "python",
   "nbconvert_exporter": "python",
   "pygments_lexer": "ipython3",
   "version": "3.11.4"
  }
 },
 "nbformat": 4,
 "nbformat_minor": 5
}
